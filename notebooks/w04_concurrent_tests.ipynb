{
  "cells": [
    {
      "cell_type": "markdown",
      "id": "ce235ebd",
      "metadata": {
        "id": "ce235ebd"
      },
      "source": [
        "# Uplimit Practice A/B Testing Course: Project 4"
      ]
    },
    {
      "cell_type": "markdown",
      "id": "b9df9414",
      "metadata": {
        "id": "b9df9414"
      },
      "source": [
        "## Setup"
      ]
    },
    {
      "cell_type": "markdown",
      "source": [
        "Load the data into Google collab"
      ],
      "metadata": {
        "id": "o_h6ANYAbina"
      },
      "id": "o_h6ANYAbina"
    },
    {
      "cell_type": "code",
      "source": [
        "!pip install -U --no-cache-dir gdown --pre\n",
        "!gdown --no-cookies --fuzzy https://drive.google.com/file/d/1kQ_HJwMFW34rjO1N8hwYUR43BsT8Hgva/view?usp=sharing\n",
        "!gdown --no-cookies --fuzzy https://drive.google.com/file/d/1DgoY76t7I9rOoViBtSDvsFiUnD5m3yrp/view?usp=sharing\n",
        "!gdown --no-cookies --fuzzy https://drive.google.com/file/d/1DTyuXevACSNJHvNRvZYi1edR1foGrGEZ/view?usp=sharing"
      ],
      "metadata": {
        "colab": {
          "base_uri": "https://localhost:8080/"
        },
        "id": "fZ4nSnuKbkGL",
        "outputId": "9cd41e54-227a-447c-e015-a1718fd77adb"
      },
      "id": "fZ4nSnuKbkGL",
      "execution_count": 1,
      "outputs": [
        {
          "output_type": "stream",
          "name": "stdout",
          "text": [
            "Requirement already satisfied: gdown in /usr/local/lib/python3.10/dist-packages (4.7.1)\n",
            "Requirement already satisfied: filelock in /usr/local/lib/python3.10/dist-packages (from gdown) (3.13.1)\n",
            "Requirement already satisfied: requests[socks] in /usr/local/lib/python3.10/dist-packages (from gdown) (2.31.0)\n",
            "Requirement already satisfied: six in /usr/local/lib/python3.10/dist-packages (from gdown) (1.16.0)\n",
            "Requirement already satisfied: tqdm in /usr/local/lib/python3.10/dist-packages (from gdown) (4.66.1)\n",
            "Requirement already satisfied: beautifulsoup4 in /usr/local/lib/python3.10/dist-packages (from gdown) (4.11.2)\n",
            "Requirement already satisfied: soupsieve>1.2 in /usr/local/lib/python3.10/dist-packages (from beautifulsoup4->gdown) (2.5)\n",
            "Requirement already satisfied: charset-normalizer<4,>=2 in /usr/local/lib/python3.10/dist-packages (from requests[socks]->gdown) (3.3.2)\n",
            "Requirement already satisfied: idna<4,>=2.5 in /usr/local/lib/python3.10/dist-packages (from requests[socks]->gdown) (3.4)\n",
            "Requirement already satisfied: urllib3<3,>=1.21.1 in /usr/local/lib/python3.10/dist-packages (from requests[socks]->gdown) (2.0.7)\n",
            "Requirement already satisfied: certifi>=2017.4.17 in /usr/local/lib/python3.10/dist-packages (from requests[socks]->gdown) (2023.7.22)\n",
            "Requirement already satisfied: PySocks!=1.5.7,>=1.5.6 in /usr/local/lib/python3.10/dist-packages (from requests[socks]->gdown) (1.7.1)\n",
            "Downloading...\n",
            "From: https://drive.google.com/uc?id=1kQ_HJwMFW34rjO1N8hwYUR43BsT8Hgva\n",
            "To: /content/dataset_price_multi.csv\n",
            "100% 2.45M/2.45M [00:00<00:00, 18.6MB/s]\n",
            "Downloading...\n",
            "From: https://drive.google.com/uc?id=1DgoY76t7I9rOoViBtSDvsFiUnD5m3yrp\n",
            "To: /content/dataset_price_algo.csv\n",
            "100% 2.34M/2.34M [00:00<00:00, 17.7MB/s]\n",
            "Downloading...\n",
            "From: https://drive.google.com/uc?id=1DTyuXevACSNJHvNRvZYi1edR1foGrGEZ\n",
            "To: /content/dataset_checkbox_discount.csv\n",
            "100% 2.34M/2.34M [00:00<00:00, 18.1MB/s]\n"
          ]
        }
      ]
    },
    {
      "cell_type": "markdown",
      "source": [
        "Load the libraries."
      ],
      "metadata": {
        "id": "7mBo1zHzbn0C"
      },
      "id": "7mBo1zHzbn0C"
    },
    {
      "cell_type": "code",
      "execution_count": 2,
      "id": "782acc4e",
      "metadata": {
        "id": "782acc4e"
      },
      "outputs": [],
      "source": [
        "# Lirbary basics\n",
        "import numpy as np\n",
        "import pandas as pd\n",
        "import scipy.stats as stats # For pvalue\n",
        "import math # For power calculation"
      ]
    },
    {
      "cell_type": "markdown",
      "id": "41e73804",
      "metadata": {
        "id": "41e73804"
      },
      "source": [
        "Helper function to get the 95% confidence interval. Inputs:\n",
        "* Mean treatment - average conversion rate of the treatment group\n",
        "* Mean control - average conversion rate of the control group\n",
        "* N treatment - number of samples in the treatment group\n",
        "* N control - number of samples in the control group\n",
        "* ci = The width of the confidence interval. 0.95 by default\n",
        "\n",
        "You can read more about the math behind the confidence interval function [here](https://s3.amazonaws.com/assets.datacamp.com/production/course_6165/slides/chapter4.pdf)."
      ]
    },
    {
      "cell_type": "code",
      "execution_count": 3,
      "id": "fe868dfa",
      "metadata": {
        "id": "fe868dfa"
      },
      "outputs": [],
      "source": [
        "def get_ci(mean_treatment, mean_control, n_treatment, n_control, ci = 0.95):\n",
        "    sd = ((mean_treatment * (1 - mean_treatment)) / n_treatment + (mean_control * (1 - mean_control)) / n_control)**0.5\n",
        "    lift = mean_treatment - mean_control\n",
        "    val = stats.norm.isf((1 - ci) / 2)\n",
        "    lwr_bnd = lift - val * sd\n",
        "    upr_bnd = lift + val * sd\n",
        "    return((lwr_bnd, upr_bnd))"
      ]
    },
    {
      "cell_type": "markdown",
      "id": "56f29bc7",
      "metadata": {
        "id": "56f29bc7"
      },
      "source": [
        "Helper function to calcuate the results. It will compute and return the relative and absolute lift between variant and control, p-value, and lower and upper bound for the 95% confidence interval. A standard two-sided t-test with an assumption of equal variance is used to compute the p-value.\n",
        "\n",
        "Inputs:\n",
        "* DF = data frame with each row being a sample in the A/B test. It must have a column called \"variant\" that takes on the value \"control\" or \"treatment\n",
        "* Metric = the metric we want to evaluate. This must be 'new_active_listings','new_booked_listings', or 'cancellations'). If it is not one of these values an \"invalid metric\" error will be thrown."
      ]
    },
    {
      "cell_type": "code",
      "execution_count": 4,
      "id": "4038d4bb",
      "metadata": {
        "id": "4038d4bb"
      },
      "outputs": [],
      "source": [
        "def calculate_results(df,metric):\n",
        "    # Check\n",
        "    if metric not in ('new_active_listing','new_booked_listing','new_cancelled_listing','bookings_4w'):\n",
        "        raise Exception(\"Invalid metric\")\n",
        "\n",
        "    # Values and relative difference\n",
        "    mean_control = df.loc[df['variant'] == \"control\",metric].mean()\n",
        "    mean_treatment = df.loc[df['variant'] != \"control\",metric].mean() # Adjusting to allow for any treatment name\n",
        "\n",
        "    abs_diff = mean_treatment-mean_control\n",
        "    rel_diff = (mean_treatment-mean_control)/mean_control\n",
        "\n",
        "    # P-Value -- two-sided ttest, assumes normal distribution\n",
        "    data_group1 = list(df.query('variant == \"control\"')[metric])\n",
        "    data_group2 = list(df.query('variant != \"control\"')[metric])\n",
        "\n",
        "    results = stats.ttest_ind(a=data_group1, b=data_group2, equal_var=True)\n",
        "    pvaue = results.pvalue\n",
        "\n",
        "    # 95% confidence intervals\n",
        "    [ci_low, ci_high] = get_ci(mean_treatment,mean_control,len(data_group2),len(data_group1),.95)\n",
        "    ci_low = ci_low/mean_control\n",
        "    ci_high = ci_high/mean_control\n",
        "\n",
        "    return(rel_diff,abs_diff,results.pvalue,ci_low,ci_high)"
      ]
    },
    {
      "cell_type": "markdown",
      "id": "5bf7df1c",
      "metadata": {
        "id": "5bf7df1c"
      },
      "source": [
        "## Background"
      ]
    },
    {
      "cell_type": "markdown",
      "id": "46df7800",
      "metadata": {
        "id": "46df7800"
      },
      "source": [
        "TinyTraveler's rockstar data scientist- you made it to the final week! The engineers and Max are all rolling now, so you might need to think about running multiple tests at the same time.\n",
        "\n",
        "Like in past weeks, we'll be designing and analyzing A/B tests based on the course's projects and material."
      ]
    },
    {
      "cell_type": "markdown",
      "id": "858192db",
      "metadata": {
        "id": "858192db"
      },
      "source": [
        "## Task 1: Two changes. One page. What should we do?"
      ]
    },
    {
      "cell_type": "markdown",
      "id": "1ad56d8c",
      "metadata": {
        "id": "1ad56d8c"
      },
      "source": [
        "The team has two ideas they're optimistic about:\n",
        "\n",
        "_Test A: Price recommendation algorithm update_: Last week, the team successfully implemented a version of the recommendation algorithm, resulting in a stat-sig lift to new booked listings (yay!). However, the team hypothesizes that the prices are still a bit high on average, so they tweaked the algorithm to be a bit more conservative and want to try this out.\n",
        "\n",
        "_Test B: First booking discount_: Pricing has proven to be a successful lever for increasing new booked listings, so the team held a brainstorm to generate ideas other than tweaking the recommendation algorithm. Hosts might be willing to reduce the price for their first booking only. The team wants to test out a checkbox which will allow hosts to opt-in to a 10% discount on the first booking. See the design for the checkbox test below."
      ]
    },
    {
      "cell_type": "markdown",
      "id": "9cb96feb",
      "metadata": {
        "id": "9cb96feb"
      },
      "source": [
        "![price_page.jpg](data:image/jpeg;base64,/9j/4AAQSkZJRgABAQAAkACQAAD/4QCeRXhpZgAATU0AKgAAAAgABQESAAMAAAABAAEAAAEaAAUAAAABAAAASgEbAAUAAAABAAAAUgEoAAMAAAABAAIAAIdpAAQAAAABAAAAWgAAAAAAAACQAAAAAQAAAJAAAAABAAOShgAHAAAAEgAAAISgAgAEAAAAAQAABQCgAwAEAAAAAQAAAcoAAAAAQVNDSUkAAABTY3JlZW5zaG90/+EJIWh0dHA6Ly9ucy5hZG9iZS5jb20veGFwLzEuMC8APD94cGFja2V0IGJlZ2luPSLvu78iIGlkPSJXNU0wTXBDZWhpSHpyZVN6TlRjemtjOWQiPz4gPHg6eG1wbWV0YSB4bWxuczp4PSJhZG9iZTpuczptZXRhLyIgeDp4bXB0az0iWE1QIENvcmUgNi4wLjAiPiA8cmRmOlJERiB4bWxuczpyZGY9Imh0dHA6Ly93d3cudzMub3JnLzE5OTkvMDIvMjItcmRmLXN5bnRheC1ucyMiPiA8cmRmOkRlc2NyaXB0aW9uIHJkZjphYm91dD0iIi8+IDwvcmRmOlJERj4gPC94OnhtcG1ldGE+ICAgICAgICAgICAgICAgICAgICAgICAgICAgICAgICAgICAgICAgICAgICAgICAgICAgICAgICAgICAgICAgICAgICAgICAgICAgICAgICAgICAgICAgICAgICAgICAgICAgICAgICAgICAgICAgICAgICAgICAgICAgICAgICAgICAgICAgICAgICAgICAgICAgICAgICAgICAgICAgICAgICAgICAgICAgICAgICAgICAgICAgICAgICAgICAgICAgICAgICAgICAgICAgICAgICAgICAgICAgICAgICAgICAgICAgICAgICAgICAgICAgICAgICAgICAgICAgICAgICAgICAgICAgICAgICAgICAgICAgICAgICAgICAgICAgICAgICAgICAgICAgICAgICAgICAgICAgICAgICAgICAgICAgICAgICAgICAgICAgICAgICAgICAgICAgICAgICAgICAgICAgICAgICAgICAgICAgICAgICAgICAgICAgICAgICAgICAgICAgICAgICAgICAgICAgICAgICAgICAgICAgICAgICAgICAgICAgICAgICAgICAgICAgICAgICAgICAgICAgICAgICAgICAgICAgICAgICAgICAgICAgICAgICAgICAgICAgICAgICAgICAgICAgICAgICAgICAgICAgICAgICAgICAgICAgICAgICAgICAgICAgICAgICAgICAgICAgICAgICAgICAgICAgICAgICAgICAgICAgICAgICAgICAgICAgICAgICAgICAgICAgICAgICAgICAgICAgICAgICAgICAgICAgICAgICAgICAgICAgICAgICAgICAgICAgICAgICAgICAgICAgICAgICAgICAgICAgICAgICAgICAgICAgICAgICAgICAgICAgICAgICAgICAgICAgICAgICAgICAgICAgICAgICAgICAgICAgICAgICAgICAgICAgICAgICAgICAgICAgICAgICAgICAgICAgICAgICAgICAgICAgICAgICAgICAgICAgICAgICAgICAgICAgICAgICAgICAgICAgICAgICAgICAgICAgICAgICAgICAgICAgICAgICAgICAgICAgICAgICAgICAgICAgICAgICAgICAgICAgICAgICAgICAgICAgICAgICAgICAgICAgICAgICAgICAgICAgICAgICAgICAgICAgICAgICAgICAgICAgICAgICAgICAgICAgICAgICAgICAgICAgICAgICAgICAgICAgICAgICAgICAgICAgICAgICAgICAgICAgICAgICAgICAgICAgICAgICAgICAgICAgICAgICAgICAgICAgICAgICAgICAgICAgICAgICAgICAgICAgICAgICAgICAgICAgICAgICAgICAgICAgICAgICAgICAgICAgICAgICAgICAgICAgICAgICAgICAgICAgICAgICAgICAgICAgICAgICAgICAgICAgICAgICAgICAgICAgICAgICAgICAgICAgICAgICAgICAgICAgICAgICAgICAgICAgICAgICAgICAgICAgICAgICAgICAgICAgICAgICAgICAgICAgICAgICAgICAgICAgICAgICAgICAgICAgICAgICAgICAgICAgICAgICAgICAgICAgICAgICAgICAgICAgICAgICAgICAgICAgICAgICAgICAgICAgICAgICAgICAgICAgICAgICAgICAgICAgICAgICAgICAgICAgICAgICAgICAgICAgICAgICAgICAgICAgICAgICAgICAgICAgICAgICAgICAgICAgICAgICAgICAgICAgICAgICAgICAgICAgICAgICAgICAgICAgICAgICAgICAgICAgICAgICAgICAgICAgICAgICAgICAgICAgICAgICAgICAgICAgICAgICAgICAgICAgICAgICAgICAgICAgICAgICAgICAgICAgICAgICAgICAgICAgICAgICAgICAgICAgICAgICAgICAgICAgICAgICAgICAgICAgICAgICAgICAgICAgICAgICAgICAgICAgICAgICAgICAgICAgICAgICAgICAgICAgICAgICAgICAgICAgICAgICAgICAgICAgICAgICAgICAgICAgICAgICAgICAgICAgICAgICAgICAgICAgICAgICAgICAgICAgICAgICAgICAgICAgICAgICAgICAgICAgICAgICAgICAgICAgICAgICAgICAgICAgICAgICAgICAgICAgICAgICAgICAgICAgICAgICAgICAgICAgICAgICAgICAgICAgICAgICAgICAgICAgICAgICAgICAgICAgICAgICAgICAgICAgICAgICAgICAgICAgICAgICAgICAgICAgICAgICAgICAgICAgICAgICAgICAgICAgICAgICAgICAgICAgICAgICAgICAgICAgICAgICAgICAgICAgICAgICAgICAgICAgICAgICAgICAgICAgICAgICAgICAgICAgICAgICAgICAgICAgICAgICAgICAgICAgICAgICAgICAgICAgICAgICAgICAgICAgICAgICAgICAgICAgICAgICAgICAgICAgICAgICAgICAgICAgICAgICAgICAgICAgICAgICAgICAgICAgICAgICAgPD94cGFja2V0IGVuZD0idyI/PgD/7QA4UGhvdG9zaG9wIDMuMAA4QklNBAQAAAAAAAA4QklNBCUAAAAAABDUHYzZjwCyBOmACZjs+EJ+/+IP0ElDQ19QUk9GSUxFAAEBAAAPwGFwcGwCEAAAbW50clJHQiBYWVogB+cAAQAbAA0AHgA0YWNzcEFQUEwAAAAAQVBQTAAAAAAAAAAAAAAAAAAAAAAAAPbWAAEAAAAA0y1hcHBsAAAAAAAAAAAAAAAAAAAAAAAAAAAAAAAAAAAAAAAAAAAAAAAAAAAAAAAAAAAAAAARZGVzYwAAAVAAAABiZHNjbQAAAbQAAAScY3BydAAABlAAAAAjd3RwdAAABnQAAAAUclhZWgAABogAAAAUZ1hZWgAABpwAAAAUYlhZWgAABrAAAAAUclRSQwAABsQAAAgMYWFyZwAADtAAAAAgdmNndAAADvAAAAAwbmRpbgAADyAAAAA+bW1vZAAAD2AAAAAodmNncAAAD4gAAAA4YlRSQwAABsQAAAgMZ1RSQwAABsQAAAgMYWFiZwAADtAAAAAgYWFnZwAADtAAAAAgZGVzYwAAAAAAAAAIRGlzcGxheQAAAAAAAAAAAAAAAAAAAAAAAAAAAAAAAAAAAAAAAAAAAAAAAAAAAAAAAAAAAAAAAAAAAAAAAAAAAAAAAAAAAAAAAAAAAAAAAAAAAAAAAAAAAG1sdWMAAAAAAAAAJgAAAAxockhSAAAAFAAAAdhrb0tSAAAADAAAAexuYk5PAAAAEgAAAfhpZAAAAAAAEgAAAgpodUhVAAAAFAAAAhxjc0NaAAAAFgAAAjBkYURLAAAAHAAAAkZubE5MAAAAFgAAAmJmaUZJAAAAEAAAAnhpdElUAAAAGAAAAohlc0VTAAAAFgAAAqByb1JPAAAAEgAAArZmckNBAAAAFgAAAshhcgAAAAAAFAAAAt51a1VBAAAAHAAAAvJoZUlMAAAAFgAAAw56aFRXAAAACgAAAyR2aVZOAAAADgAAAy5za1NLAAAAFgAAAzx6aENOAAAACgAAAyRydVJVAAAAJAAAA1JlbkdCAAAAFAAAA3ZmckZSAAAAFgAAA4ptcwAAAAAAEgAAA6BoaUlOAAAAEgAAA7J0aFRIAAAADAAAA8RjYUVTAAAAGAAAA9BlbkFVAAAAFAAAA3Zlc1hMAAAAEgAAArZkZURFAAAAEAAAA+hlblVTAAAAEgAAA/hwdEJSAAAAGAAABApwbFBMAAAAEgAABCJlbEdSAAAAIgAABDRzdlNFAAAAEAAABFZ0clRSAAAAFAAABGZwdFBUAAAAFgAABHpqYUpQAAAADAAABJAATABDAEQAIAB1ACAAYgBvAGoAac7st+wAIABMAEMARABGAGEAcgBnAGUALQBMAEMARABMAEMARAAgAFcAYQByAG4AYQBTAHoA7QBuAGUAcwAgAEwAQwBEAEIAYQByAGUAdgBuAP0AIABMAEMARABMAEMARAAtAGYAYQByAHYAZQBzAGsA5gByAG0ASwBsAGUAdQByAGUAbgAtAEwAQwBEAFYA5AByAGkALQBMAEMARABMAEMARAAgAGEAIABjAG8AbABvAHIAaQBMAEMARAAgAGEAIABjAG8AbABvAHIATABDAEQAIABjAG8AbABvAHIAQQBDAEwAIABjAG8AdQBsAGUAdQByIA8ATABDAEQAIAZFBkQGSAZGBikEGgQ+BDsETAQ+BEAEPgQyBDgEOQAgAEwAQwBEIA8ATABDAEQAIAXmBdEF4gXVBeAF2V9pgnIATABDAEQATABDAEQAIABNAOAAdQBGAGEAcgBlAGIAbgD9ACAATABDAEQEJgQyBDUEQgQ9BD4EOQAgBBYEGgAtBDQEOARBBD8EOwQ1BDkAQwBvAGwAbwB1AHIAIABMAEMARABMAEMARAAgAGMAbwB1AGwAZQB1AHIAVwBhAHIAbgBhACAATABDAEQJMAkCCRcJQAkoACAATABDAEQATABDAEQAIA4qDjUATABDAEQAIABlAG4AIABjAG8AbABvAHIARgBhAHIAYgAtAEwAQwBEAEMAbwBsAG8AcgAgAEwAQwBEAEwAQwBEACAAQwBvAGwAbwByAGkAZABvAEsAbwBsAG8AcgAgAEwAQwBEA4gDswPHA8EDyQO8A7cAIAO/A7gDzAO9A7cAIABMAEMARABGAOQAcgBnAC0ATABDAEQAUgBlAG4AawBsAGkAIABMAEMARABMAEMARAAgAGEAIABjAG8AcgBlAHMwqzDpMPwATABDAER0ZXh0AAAAAENvcHlyaWdodCBBcHBsZSBJbmMuLCAyMDIzAABYWVogAAAAAAAA81EAAQAAAAEWzFhZWiAAAAAAAACD3wAAPb////+7WFlaIAAAAAAAAEq/AACxNwAACrlYWVogAAAAAAAAKDgAABELAADIuWN1cnYAAAAAAAAEAAAAAAUACgAPABQAGQAeACMAKAAtADIANgA7AEAARQBKAE8AVABZAF4AYwBoAG0AcgB3AHwAgQCGAIsAkACVAJoAnwCjAKgArQCyALcAvADBAMYAywDQANUA2wDgAOUA6wDwAPYA+wEBAQcBDQETARkBHwElASsBMgE4AT4BRQFMAVIBWQFgAWcBbgF1AXwBgwGLAZIBmgGhAakBsQG5AcEByQHRAdkB4QHpAfIB+gIDAgwCFAIdAiYCLwI4AkECSwJUAl0CZwJxAnoChAKOApgCogKsArYCwQLLAtUC4ALrAvUDAAMLAxYDIQMtAzgDQwNPA1oDZgNyA34DigOWA6IDrgO6A8cD0wPgA+wD+QQGBBMEIAQtBDsESARVBGMEcQR+BIwEmgSoBLYExATTBOEE8AT+BQ0FHAUrBToFSQVYBWcFdwWGBZYFpgW1BcUF1QXlBfYGBgYWBicGNwZIBlkGagZ7BowGnQavBsAG0QbjBvUHBwcZBysHPQdPB2EHdAeGB5kHrAe/B9IH5Qf4CAsIHwgyCEYIWghuCIIIlgiqCL4I0gjnCPsJEAklCToJTwlkCXkJjwmkCboJzwnlCfsKEQonCj0KVApqCoEKmAquCsUK3ArzCwsLIgs5C1ELaQuAC5gLsAvIC+EL+QwSDCoMQwxcDHUMjgynDMAM2QzzDQ0NJg1ADVoNdA2ODakNww3eDfgOEw4uDkkOZA5/DpsOtg7SDu4PCQ8lD0EPXg96D5YPsw/PD+wQCRAmEEMQYRB+EJsQuRDXEPURExExEU8RbRGMEaoRyRHoEgcSJhJFEmQShBKjEsMS4xMDEyMTQxNjE4MTpBPFE+UUBhQnFEkUahSLFK0UzhTwFRIVNBVWFXgVmxW9FeAWAxYmFkkWbBaPFrIW1hb6Fx0XQRdlF4kXrhfSF/cYGxhAGGUYihivGNUY+hkgGUUZaxmRGbcZ3RoEGioaURp3Gp4axRrsGxQbOxtjG4obshvaHAIcKhxSHHscoxzMHPUdHh1HHXAdmR3DHeweFh5AHmoelB6+HukfEx8+H2kflB+/H+ogFSBBIGwgmCDEIPAhHCFIIXUhoSHOIfsiJyJVIoIiryLdIwojOCNmI5QjwiPwJB8kTSR8JKsk2iUJJTglaCWXJccl9yYnJlcmhya3JugnGCdJJ3onqyfcKA0oPyhxKKIo1CkGKTgpaymdKdAqAio1KmgqmyrPKwIrNitpK50r0SwFLDksbiyiLNctDC1BLXYtqy3hLhYuTC6CLrcu7i8kL1ovkS/HL/4wNTBsMKQw2zESMUoxgjG6MfIyKjJjMpsy1DMNM0YzfzO4M/E0KzRlNJ402DUTNU01hzXCNf02NzZyNq426TckN2A3nDfXOBQ4UDiMOMg5BTlCOX85vDn5OjY6dDqyOu87LTtrO6o76DwnPGU8pDzjPSI9YT2hPeA+ID5gPqA+4D8hP2E/oj/iQCNAZECmQOdBKUFqQaxB7kIwQnJCtUL3QzpDfUPARANER0SKRM5FEkVVRZpF3kYiRmdGq0bwRzVHe0fASAVIS0iRSNdJHUljSalJ8Eo3Sn1KxEsMS1NLmkviTCpMcky6TQJNSk2TTdxOJU5uTrdPAE9JT5NP3VAnUHFQu1EGUVBRm1HmUjFSfFLHUxNTX1OqU/ZUQlSPVNtVKFV1VcJWD1ZcVqlW91dEV5JX4FgvWH1Yy1kaWWlZuFoHWlZaplr1W0VblVvlXDVchlzWXSddeF3JXhpebF69Xw9fYV+zYAVgV2CqYPxhT2GiYfViSWKcYvBjQ2OXY+tkQGSUZOllPWWSZedmPWaSZuhnPWeTZ+loP2iWaOxpQ2maafFqSGqfavdrT2una/9sV2yvbQhtYG25bhJua27Ebx5veG/RcCtwhnDgcTpxlXHwcktypnMBc11zuHQUdHB0zHUodYV14XY+dpt2+HdWd7N4EXhueMx5KnmJeed6RnqlewR7Y3vCfCF8gXzhfUF9oX4BfmJ+wn8jf4R/5YBHgKiBCoFrgc2CMIKSgvSDV4O6hB2EgITjhUeFq4YOhnKG14c7h5+IBIhpiM6JM4mZif6KZIrKizCLlov8jGOMyo0xjZiN/45mjs6PNo+ekAaQbpDWkT+RqJIRknqS45NNk7aUIJSKlPSVX5XJljSWn5cKl3WX4JhMmLiZJJmQmfyaaJrVm0Kbr5wcnImc951kndKeQJ6unx2fi5/6oGmg2KFHobaiJqKWowajdqPmpFakx6U4pammGqaLpv2nbqfgqFKoxKk3qamqHKqPqwKrdavprFys0K1ErbiuLa6hrxavi7AAsHWw6rFgsdayS7LCszizrrQltJy1E7WKtgG2ebbwt2i34LhZuNG5SrnCuju6tbsuu6e8IbybvRW9j74KvoS+/796v/XAcMDswWfB48JfwtvDWMPUxFHEzsVLxcjGRsbDx0HHv8g9yLzJOsm5yjjKt8s2y7bMNcy1zTXNtc42zrbPN8+40DnQutE80b7SP9LB00TTxtRJ1MvVTtXR1lXW2Ndc1+DYZNjo2WzZ8dp22vvbgNwF3IrdEN2W3hzeot8p36/gNuC94UThzOJT4tvjY+Pr5HPk/OWE5g3mlucf56noMui86Ubp0Opb6uXrcOv77IbtEe2c7ijutO9A78zwWPDl8XLx//KM8xnzp/Q09ML1UPXe9m32+/eK+Bn4qPk4+cf6V/rn+3f8B/yY/Sn9uv5L/tz/bf//cGFyYQAAAAAAAwAAAAJmZgAA8qcAAA1ZAAAT0AAAClt2Y2d0AAAAAAAAAAEAAQAAAAAAAAABAAAAAQAAAAAAAAABAAAAAQAAAAAAAAABAABuZGluAAAAAAAAADYAAK4UAABR7AAAQ9cAALCkAAAmZgAAD1wAAFANAABUOQACMzMAAjMzAAIzMwAAAAAAAAAAbW1vZAAAAAAAAAYQAACgUv1ibWIAAAAAAAAAAAAAAAAAAAAAAAAAAHZjZ3AAAAAAAAMAAAACZmYAAwAAAAJmZgADAAAAAmZmAAAAAjMzNAAAAAACMzM0AAAAAAIzMzQA/8AAEQgBygUAAwEiAAIRAQMRAf/EAB8AAAEFAQEBAQEBAAAAAAAAAAABAgMEBQYHCAkKC//EALUQAAIBAwMCBAMFBQQEAAABfQECAwAEEQUSITFBBhNRYQcicRQygZGhCCNCscEVUtHwJDNicoIJChYXGBkaJSYnKCkqNDU2Nzg5OkNERUZHSElKU1RVVldYWVpjZGVmZ2hpanN0dXZ3eHl6g4SFhoeIiYqSk5SVlpeYmZqio6Slpqeoqaqys7S1tre4ubrCw8TFxsfIycrS09TV1tfY2drh4uPk5ebn6Onq8fLz9PX29/j5+v/EAB8BAAMBAQEBAQEBAQEAAAAAAAABAgMEBQYHCAkKC//EALURAAIBAgQEAwQHBQQEAAECdwABAgMRBAUhMQYSQVEHYXETIjKBCBRCkaGxwQkjM1LwFWJy0QoWJDThJfEXGBkaJicoKSo1Njc4OTpDREVGR0hJSlNUVVZXWFlaY2RlZmdoaWpzdHV2d3h5eoKDhIWGh4iJipKTlJWWl5iZmqKjpKWmp6ipqrKztLW2t7i5usLDxMXGx8jJytLT1NXW19jZ2uLj5OXm5+jp6vLz9PX29/j5+v/bAEMAAQEBAQEBAgEBAgMCAgIDBAMDAwMEBgQEBAQEBgcGBgYGBgYHBwcHBwcHBwgICAgICAkJCQkJCwsLCwsLCwsLC//bAEMBAgICAwMDBQMDBQsIBggLCwsLCwsLCwsLCwsLCwsLCwsLCwsLCwsLCwsLCwsLCwsLCwsLCwsLCwsLCwsLCwsLC//dAAQAUP/aAAwDAQACEQMRAD8A/v4ooooAKKKKACiiigAooooAKKKKACiiigAooooAKKKKACiiigAooooAKKKKACiiigAooooAKKKKACiiigAooooAKKKKACiiigAooooAKKKKACiiigAooooAKKKKACiiigAooooAKKKKACiiigAooooAKKKKACiiigAooooAKKKKACiiigAooooAKKKKACiiigAooooAKKKKACiiigAooooAKKKKACiiigAooooAKKKKACiiigAooooAKKKKACiiigAooooAKKKKACiiigAooooAKKKKACiiigAooooAKKKKACiiigAooooAKKKKACiiigAooooAKKKKACiiigAooooAKKKKACiiigAooooAKKKKACiiigAooooAKKKKACiiigAooooAKKKKACiiigAooooAKKKKACiiigAooooAKKKKAP/Q/v4ooooAKKKKACikytJvWgB1FN3rRvWgB1FN3rRvWgB1FN3rRvWgB1FN3rRvWgB1FN3rRvWgB1FN3rRvWgB1fyrf8HG3/BXz9pX9j7xL8OP+Cf8A+wLEB8Z/jEY/KvvJWaeytLy4+xWq2iyfuvtN1ch0WR1YRLGxxuZWT+qfetfwPf8ABy3B4j/Yx/4LUfst/wDBUPxXpVzqfw90kaNZ3skQ8zZc6FqU93cQr2SR7W5EkIbG90cj7rYAMz9pj9g7/g5O/wCCbn7P2o/8FAdP/ay1P4hah4RgTWvE/hiS/vb+0gtIMNO0UN7vtZ4oVy0wEMJ8sMy5xiu//wCClX/Bb749ftJ/8G9vwx/bv/Zs8Sah8MPiDefEaz8LeKT4fnktfKvLewv5LiGJ9zP9nm2wXCKzMVVlViWUmv1U/wCCrX/BeH/gmNb/APBMX4lT/CT4seHPHfiD4h+E9S0HQ9B0m7S51BrjWLV7ZWurUfvbZIRIZJRcJHwpT75UH+PX4tfs5/EH4Cf8GnvgvxL8QrWaxb4lfHeDxXpsE/B/s6XRbqzgk2fwib7K0ik/fjZWGVIoA/vo8f8A/BWX9kH9gH9ib4PfFj9ujx9/ZureMfC2k3FtAIpb/VNUuWsoZJ5VggV3I3Nl5X2xhmALBmUH+cn9pv8A4LiRftZ/8Fm/2QdM/wCCefxk1iX4V+Kr/R9N8UaHavPYRy3UmrSRzQ3tpMqNuaAoMlSrpgqxFfHv7SE/wo0X/gvD+xLrX7en2T/hUJ+FfhD7E+tAHSUYaddC3Mxl/chF1UxtNu+UKQX+XmvQP+Cl2sfsZa1/wdB/sp3f7Is3h+4nGq+FB4nl8NGBrNtR/tOQx+Y1v+7NwLbyt567PLB6cAH+gH8UL+90r4aeItU02Vobi20y7likQ4ZHSJirA9iCMiv81f8A4JJ2f/BdD/grf4J8ZeNvhx+2brHgqLwbfWtjNFrmrXhedrqN5A0flBhhQmDnua/0m/jA6/8ACpfFP/YIvv8A0S9f5Lf/AARa/Yl/4I6/tYeA/HWsf8FO/jTefCvWNGv7OHQre21ix0sXltLG7TOVu7S5LlHCjKlQM8g5FAH9yH7EvhP9r7/gkD8MPil+1L/wVv8A2lbr4xeAobbS4reaxj1LWm0ZxNIkkzxJFI6pIZY1Z1XChcsQOa+3vHH/AAXj/wCCV3w8/Zc8IftjeJfilAvgXx3f3OmaNPBY3k95PdWWftCNZRwtdReTgeYZIlC74+cSJu+Bv+CXfwr/AOCEv7C37L/x08HfsvfGq0+J/wAP7vTG1vx9HrWq2Wrrb6ZHBJbuHS0trceVKjMmwq7SMQq8nB/g7/4Jv6z+yH8Lv+CoHw2/aD/aP8Ia7Y/sxah461b/AIRWTW2Mllaywun2V7qQp5VyLIyWTXwQjgKX3KuxgD/S++Ov/Bdv/gmL+zF8RdK+E/7Qnj+48H69q/hyLxVBa6no2owsunT28lzH5mbf93O6RMq2z4nMuItnmMFOr+wh/wAFv/8Agmz/AMFHvH118Jf2YfHv2zxZawyXK6Pqdlcabd3FvF96S3FwipMABuZY2Z0X5mVRzX8pf/BV3U/2X4v+Dsb4L6r+1xJpj/Dn+xdEe+k1YodN80xXv2Jrgyfu/IF2YC5f93tyW+XNan/BQfUf2cdW/wCDon9lG8/4J5zaLceIDdaJ/wAJfJ4SaJrYxi7m+1ecbTKGYaV5nn9/I2b+KAP6ev21P+C9/wDwS4/YF+KrfA39oH4igeL7byze6XpFlcanLYrLgj7S1vG0cTbSGMTP5u0htmCufdNR/wCCs/8AwT+sv2Ibr/gotY/EK31T4Q2MsEFzrVhbXNzJBPcTx2yQy2iRG6ilEs0YaN4ldQwYgKc1/nk/8EydE/a21n9r/wDac0tPiB8E/BXxFn1u6i8UxfG62Wa6vf8ASbw3gszcwTDy1kBN2uQSDEXBABGl4G+CFj8Ef+CE/wC3BpfgP4weF/ip4Wu9f8BkxeFLfWIbDTdTi1lBN5b6nYWcUomiMQ3WzzDZEhYgFCwB/Y38av8AgvZ/wTU/aF+GvjL9nj9nT42XWj+MfEPw41/X7LxHpelXs48Pw2+kz3xu5NqI4uLWFDN9nQ+cHXYQr8V2H/BKL9sr4M/Cz/glAf2of2jP2lD8V/Cmi6pqZvfiF4htLvSnYLMFW28i83XDujERxIoZpWIVFJIFflp+x3+wb+yT8Gv+DXzxX+0J4T8BaGfiL4l+C3i/WL7xVNYwy6y02oadeBkS7ZTNHEsTeSI42VNgOQSzE/y4/HpPie//AAbUfs9f2K0y+Dh8VvE/9tFd5gF4U/0Iy7cjGz7VtyM56c0Af6DP7KP/AAcO/wDBJn9sz41Wn7Pvwb+JZTxTqs/2bSrfV9Ou9Mj1GTslvNcRJGXc8JE7JK7cKjHiu4/aO/4Luf8ABLn9kr48eMv2av2hPiUPDfjLwJZwXurWM2m3zgJcwwXESQyRwNHcSvHcxMI4WZ8FiQAjkfw5/wDBQb9nr4i/FDw58GfEnxe/ac/Zo8Pvps0aeBbj4Z6fqTakw/d+TGI9E0q5uPLjdE8rzUURy5VSHYg/ov4V+B/w5+Ov/B5r478MftBaDpniuDS9BsNTezv7dLuye/t/C+mqshhlUo3lu5ePcnysFYAMoIAP6sP+Ce//AAWJ/YG/4Keahrfh79kvxdJqet+HYRdX2k39nNYXqWrOEE6pMoEkW8hS0bNsLKH2llz81/tL/wDByH/wSG/ZU+MV/wDAr4jfExr/AMQaPctZ6ouiaddanb2M6cOks8EbRM6HKukTSMjAqwDAgfzY/Az4bS/Aj/g6M/aq+GX7JOlw+Hrn/hXevyaHp+mRLbwpqF7pGn3iLFHEFCA3jhwEAwelY/8AwbV+I/8AglD4d/4JlftBf8N6SeFE8UNrGoDxTD4ma3TVZ9B+wwiCO2E5WZi0/wBqCLCfN+0EY+cx0Af26Rf8FBf2LJf2S/8AhupfiRow+Ev2Y3f/AAkjTFbXaH8vy9pAl8/zP3XkbPOMnybN/wAtfB/7Kn/BxD/wSX/bI+NVn+z78HfiYY/FGrXH2bSoNX0670yLUZT91IJriJI97n5UjkZJJG+VFJwK/iK/4Ko63+yP4o/4ItfDvVv+CWHhjxn4U+ArfFzUxrcHip5JDLro0y3EMqH7TdfuPLEijLAear7Ru3E9D/wUH/Z6+IPxQ8G/BvxF8YP2m/2Z/Dy6bLHH4GuPhrp+pNqbDCeVGI9F0q5uBHG6J5fmoojl+UEOxBAP9Qmv4x/gd+298Yf2wP8Ag4U+OnxT1v4h67oH7PP7I3h7VUvdD0/ULmHTL640pZbWaW6tIXWK5b7Qby4V3Vvkt4U5AFf2PeHhq8WgWMXiKRJdQW3iFy8WdjTBRvK5AOC2cZA47Cv8+v8A4IRfA3xF8Y/EH/BUj9k25bb4+8W2WoeHIJC/l/6VcSa9aS5Y/dBuJItxJxjrQBa/Zy+KH/Bcb/g5L+Kfj/4xfAL40Xn7OfwV8L6h/ZenRaNcXNm/mf62O33WTxz3NysLRyXUkk6xqXUIoUhR+kv/AASM+Mn/AAW3/ZC/4KMal/wTX/4KL2XiX4t/Dq9hnbRviQ2n3l9YWs8du13E7as0HzxXCKYXjuZC8VxtVWAyH+Hv+DUr/gpt+yd+x58APiL+wP8Atl+KtM+FHjLQ/GF7q8TeKLhNLt5xLDb2s9u805SJLm2mtSHSR1ZlcbQdjY/Vn9nT/g4H8Y/tuf8ABZOb9gH9jTwro3i74RaTDcT6l46SS4kYQWVpvmnj2EReS16yWkLkEOWDglWFAH3F+2N/wcF/8Eqf2Gfi5c/Af43/ABGMvi3TnWPUdP0WwudTNgzdVuJIEaJJF/ii3mVe6DIz9OaL/wAFU/2C/FH7Fer/APBQjwh8QLXWfhRoCBtT1axguJ5bN98aGKe0WP7VHMDLHmJ4g4V1bG0g1/G7/wAGvGsfsY+HPHf7Udt/wUZn8LWnxeOtBdXbx2bZJmtA9yNRVDf9f9K3fawOT+78zPy1+cn7JS2sn/BP7/gqNe/AVZk+CUk+ljw6CHFtt/tuY2Yh3cbhZFPN/i2mLd/DQB/Zl4u/4Ok/+CKvhGXQUk+KVxqK67AlzvsNGv5xZxOzKDdAQBo3+UkxYaUKQSgDAn4W/wCDh7/g4En/AGOfhR8OPDf/AAT0+IdifiD4vXTvFIkGmLqNldeEtRguhDcRTTxPbnzJ40wFbzQBkgKa/MLT/wBjv9mFP+DNGf43L4H0UeOJ4DrkniL7DD/apvI/E5tVf7UUMvFr/o+A2PKJXua+T/8AgpdY2d9/waqfsa+Kbm3jfUR4oazN2Yx53kRLrQSIvjdsAUYXOOKAP7DvAv8AwcSf8EupPgJ8M/i94++JL2lv8Qb248P2t3Lo9/FC+saZHZG/R/8AR8QxxNfQnzZNsWGJDEK2PZvg1/wXV/4Jf/HXwV8Vvin4I+JdvH4Q+DTWKeI9ev7aezsQ2pNOtuLVpUV7kyPbSKixIzSNtCBty5/kP/4OXdT+AX7RHwg/YK0b4Ia3o+q+HNZk1nS7m68PTwTwxzzx+H0mVjCWVZlDgsrfMCRuFfQn/B19+xp8E/2Ov2HPgx4R/ZU+Hul+BvhyfFi2/ic+H7FLaS8mtbR105r2ZFD3Mqxve7JLh3fe7HOWYkA/oP8A2bv+DkT/AIJBftSfGOx+BXw6+Jxste1e5Wz0v+2tNu9Mtr6d8BEinuIljV3YhUWVo2diFUFiAfzC/bn/AGpP2oB/wc8fB/8AYi8P/EbxHofww8ZeEgmp6FpeoS2lvJJc2eqhplEZBWYGONlkHzKyKQcgV8Cf8HQev/8ABK7Wv+CcvwRsf2JpvBtx4sXXrAeFY/CRtjfR6B9im81XFv8AvVi8w2w2yYfzscbg9bfxJX4gRf8AB03+xvH8WjIfFS/DPQBrRlz5n9oDS9U+07t3zbvN3ZzznrQB+kv/AAbQftjftC6j47/aE/4JhftheK9V8b+PPgh4ouzaa5rF5Lf3V1YC4eznjM07vIyRTwrJHuY/LcYHCgV/WXX8OP8AwSUu5Lv/AIOx/wBsCfwQGXRRouupqHGUNymo6Wr8jgMZxIR3xu96/uM3rQA6im71o3rQA6im71o3rQA6im71o3rQA6im71o3rQA6im71o3rQA6im71o3rQA6im71o3rQA6im71o3rQA6im71pdymgBaKTIpaACiiigAooooAKKKKACiiigAooooAKKKKACiiigAooooAKKKKACiiigAooooAKKKKACiiigDz/wCLPj6D4VfCvxN8ULq2a8i8N6Ve6q9urbGlWzheYoGIIBYLgHBxmvwz/wCCN/8AwcKfs+/8FevH/in4QaJ4Wu/h74u8PWcepWum6hex3h1GyLbJpIXSOP5oHKCRCM4kVgSA239gf2wf+TSfil/2KOt/+kUtf5MH7CHwH/aR/Zv/AGNtL/4Lo/smXk0uufBX4mS6J4gsMExDSZLOxeORwuGMEr3U1rdjJJSZCu0K7UAf6P3hH/gs34Q8Wf8ABZXxH/wR7i8B3kOreHrEXreJjfIbeUHTYNR2i28rePlnEefMPK574r9rK/zn/wDgnn+2p8JP2t/+Dp3xL+3B8OGlHhbxF4FOsmJxuntmtvC9kt1btgYaS3mikhbbwWQ7cgg1+bC/8FOPEn/BRfxn8R/2if20/wBpv4o/CfX0vHPgLwz4CtLyfRdMUBni837LNCAEBWIuqi4fBkd2OFoA/wBYeiv8y3X/ANu//goz+2r/AMG/WvfGfUfiD4w0X4jfs0+NtOt9S13TNSu9NvdY8M6xELeP7Ybd4muJoLlk3TPuJjQsxLl3PPf8Fef+Cyf7Yn7SWr/Av4ofsceNvEOkW3gD4S6F428cpoOpT2dumrahewWt0LyOCRFmijuWtYgHDf648AFqAP8ATzr50/a9/aGsP2Sv2WviF+0/qumSa1bfD/w/qGvy2EUohe5SwhaYxrIVYKWC4DFTj0r+Q3wR+2X8Yf8Agqp/wcnfDfw7+z/478Q6X8Gvh14I0fxXq+maRqtzb6deq1mmpKbiGGRYpi13qNrazCRSGSMqQQMV/Sf/AMFmf+UTP7R//ZOvEX/pFLQB/OD4Z/4PLdM8a6b/AGz4N/ZW8YatZ7zH59lqQni3rjK7ksiMjIyM5r+gr/gkp/wVCuv+CpXwn8U/FC7+GGs/C4+GtWTSxZazKZZbndCk3moTDDhRu29DyOtfxV/8EF/jZ/wcOeAP2GJdB/4Jh/CDwX44+Gh8SahK2pa/c20V2NRaODz49sur2TbFURlT5OOT8x7f05/E79nj/grL/wAFBv8Agkp4l0f9rnUf+Gfv2jND1K81Xw9L4K1x9MsGhs4gYIryaz1C5Qw3KtLHJvnIibZLtGzDAH9IdFf5oH/BKD9qn/gpB/wXQ/a7+EP7KHxa+MeseEfBPwQ8OyXniWfw9rlzpeq+JrS0uETNxJbzrLdXEwa3t3myRHGsk2RLIfM+p/HfhL9uH9u//g5N+Ov7A3w+/aF8b/DT4fR2P2nU4tJ1a5PkaVa2unOYbGFpRHBJLcPEGkTaRG0mdys6OAf6DFFfwU/sc/tQftW/8EVf+Cx/jv8A4JpfG/4oa98ZvhTN4O1XxPo7a9cyXF1bDTNIn1mNozIZmgby7We2kjjIikJWXYDhR+Fdp/wUd8b/ALcei/ET9qL9rn9qf4reAviot5cyeB/Dfgm0vP8AhHrHyog8CFrWeJYEd28jMaiVVXzZHlZ8UAf61VfIn7eH7T/iT9jP9lLxX+0p4R8B6t8TdQ8NixMXhrQ1Zr+++13kFq3lBI5m/dLMZnxGfkRug5H+ff8AtQf8Fc/25P2gf+Dc/wAEfErxR418ReGfib4M+M9r4O1DxDpd5PpOoatpw0S+u4XuJLZomcneqSZ4keASNlyTX19+0L+x/wD8FJv2Uf8Agj98Xf8Agq3+0L+074q174h/ELwR4XSDRbK4urNfD66r4g0WdPs93HdgLIlurQSLDbxLiWRQzLkuAf2+/sg/HzWv2o/2afB/7QPiLwjqPgK+8U2AvJvD+rqy3tgxZl8qYMkbbvlzyi8EcV9IV/m6ftsf8Fev2rvhj/wTA/Yt/Ze8LfE3xB4Sv/ix4dGr+OPHdvLPfeIBp329rVRDNvFwzDEsknlzLNJ5aRh1VmDeR/sX/wDBS3xT+xP/AMFNvhR4a/Y7+OPxM+NHwa8ealYaN4t0r4g2tzEbaXUrlYJJoVmeWMOm9bhJohG52mKQspJIB/pz0V/nR/s6fCn9vj/gqP8A8Fk/2wv2NtN/ac8c/Db4eeGvFHiW8uYrDULm7byLTWZba0srVGuIxbQASEusbBGSNUKEbSnZf8EhP+Ck37Xf7A/wz/bx+Cfxt8YX/wATT+zdZXkvh5tcuJboRapYXtxpZVWkeSRbaecQu0Icqu07SCzEgH+hVRX+e9+xX/wTD/4Kn/8ABU39gaL/AIKj2X7WvjTTvjJ4uvtQvvCul/2rc2Wjxw2F7JavHIbdwLbzJIJTGlvEsUahAUIJx3f/AAWs/wCClH/BTn9j/wDZo/Zu/YD/AGgfHw8B/E3xrbzS/Efxx4OMlxdNplve/ZLeS0aJLeUSyQ5nuVg8p3lTy0Ko5BAP75qK/wAxL9jn/gpd4o/Yj/4KX/CjQv2Ofjn8TfjR8HfHOpWOj+L9J+INrcxfZ31G5WCWaFJnljDpvE6TRiN8qY5CyEk/6U/xh8Z3Pw4+Enin4hWUfnTaDpF9qMcZBbe1rC8oGByclcYFAH8v3x//AODoeP4Z/tNfGX4Q/Bb4Dar8TfCHwYvYNH1LxDpWqFJbjU5JRbtClqtnKAizJcqsnnEOsBYABgK+S5f+D0LwzD4rXwJN+y94rTXHxt05tVQXZyu/iH7HvPy/N06c9K7r/gyp8Lm//Y4+NXxx1aQXOs+JvHwsry5cgzy/YbGC4Bdupy97IRnuWx3r5j+NP/K7j4H/AOvW2/8AUXnoA/qZ/wCCTn/BSe4/4Kh/ADXPjndfDfV/hg+i+IJtC/szWZDLNMIba3uPPUmKH5G+0bANp5Q89h+olf59X/BSjxR/wUg/aD/4OW9a/YD/AGQPjb4j+HNl4w0bT7Nmh1K6/s/S7E6NHd31xDapKqLMY45CjR+XIZWGJELbx8qf8FC/2h/jz+wr+0B8N/8AgiH4+/aT8caV8MvAdpLqvjbx34ftbj/hJNZudaa41JI9iXMk5iiilhtkj+0tHlmlkVwqxqAf6YFFf54//BC7/gpT8U/hR/wVrsv2IPhv8VPG3xl/Z++INtcQaTeePIJ4b7S763spLuMr57SmICSJ4HWNlilWQSFA6gD4z/aP+MHgDxv4r+M3jb9rr9uTxv8AEv4v2kd5ceD9A+CjarJ4f0+7iWVljlkntILT7Ikmxf8AQ5FwgZ2lZjQB/ot/ts/th/CX9gX9mHxR+1t8dEv5PCvhEWjXy6ZCtxdkXt1DZx+XGzxq372dN2WGFyecYrof2TP2nfhr+2d+zn4T/ai+Dy3ieGfGdn9u09dQiEFyIt7J+8RWcK25DwGP1r/Op8UeLP2jf+Cif/Brl4p/ah/aL+Lfi7UdV+BHjC40COzN+z2/iOy1C70AwrrG7L3jWTXDvbPIxdGwSTiu38YfDX40/sOf8Gwvhn9qr4N/Gvx/Bq3xS1nww8dkutT29roEFpJqivBpggZHgiuDIGnQNh2jQn7tAH+lPRX+Y5/wUC8Af8FJ/wBgP9iH9mj/AIK7RftV+OfEXjr4iJo0lxptzeS/YLFL7Tv7QtIUiMrQzRJFF5dzHLEyTuS7A5bPpH/BQ/wT/wAFDf8Agjz8S/2Yv27P+GnPGnxD8T/Fi7S88T6fqd3MunedF9kuJbRIPNeGSykS5eIRNGojCAoFyAgB/pN0V/nc/wDBav8A4KjeLvjV/wAFevEf7Cnxa+MPjT4L/AX4Z28drenwBBNLqur6i9tFNIZhC0bMpkn8tRIzwokO8IXfNYH/AASO/wCCn/7Reg/EL9o39hyy+KPjD4o/C+X4c+Ktb8CeKfE6XNrrOn3mmaeZk2PM7zQr5e9fLEpVJYlkiC7myAf6MtfIX7dX7bPwa/4J4/sz67+1f8fY9Rl8LeHpbOG6XSoFubotfXEdtHsjd4wR5ki7vmGBk89K/wA8j9hb9lj/AIKO/wDBSD/gkN8Wf22fGH7V/jzTrT4PS69caB4dOoXdx9vutIsINRne5uzdJIRIrLDBu3+SwZh8pKtpfHbxR8eP+Cgf/BsBY/te/H34peKr/XPgv4kn8LSWJvmaz8R295qGm+RLqytk3U1mkoEEjncCMsSxLEA/rT/bT/4L6+Bf2Ufgt+zh+13onw/u/EHwY+PF9DbX3iG6vf7Pu/D8NwI5I5JLRYLhZ3aD7RL5YnT/AFDDdyCP6B7S7tb+1ivrGVJoJkWSOSNgyOjDIZSOCCOQR1r/ADvvjB+wjD8Nv+DSbVfjjqvj3xJ4yk8SWXgfxXZaX4gvPtNj4fdb+OzaDS42H7iNo71wyg/MAB9f7AP+CJHxQ1D4w/8ABJL9nvxtqzySXP8AwhWmadLJLkvI+lx/Yi7E8ksYNxJ65zQB+pNFFFABRRRQAUUUUAFFFFABRRRQAUUUUAFFFFABRRRQAUUUUAFFFFAH/9H+/iiimscCgCN5QvSs2a+WPJJqvf3QiU815vrevrbgndjFAHcza1GnVqoP4jhBxur531nx5HAT89ef3nxOjRuZP1oA+wf+Emh/v0f8JNF/fr4p/wCFqw/89f1o/wCFqw/89f1oA+1v+Emi/v0f8JNF/fr4p/4WrD/z1/Wj/hasP/PX9aAPtb/hJov79H/CTRf36+Kf+Fqw/wDPX9aP+Fqw/wDPX9aAPtb/AISaL+/R/wAJNF/fr4p/4WrD/wA9f1o/4WrD/wA9f1oA+1v+Emi/v0f8JNF/fr4p/wCFqw/89f1o/wCFqw/89f1oA+1v+Emi/v0f8JNF/fr4p/4WrD/z1/Wj/hasP/PX9aAPtb/hJov79ePfHr4R/A79qH4Xan8Ff2hfDen+L/CusJsutO1KISxMR911z8ySIeUkQq6NypBGa8K/4WrD/wA9f1o/4WrD/wA9f1oA/PX4c/8ABuL/AMEUvhj8RI/iVonwcgvrq2nS4trTVdV1HULCF0OR/o1xcyRSqSOUnWRT0xiv0g/bC/Yu/ZF/b3+D2n/AH9q/wnH4o8IaVqEGqWmnR3l3pyQ3VrFLBE6vYzW8mEjmkUJu2YP3cgYyf+Fqw/8APX9aP+Fqw/8APX9aAON/an/4JpfsBftp/Bzwv8Cf2kfh/aeIdA8E20dpoBNxc297p0MMSwqkN5DKlztKIgdWkZZCqlwxANfOPwf/AOCDv/BIL4D+N/BHxN+F3wit9M8SfDy+j1PRdUXVtTNyl5FIsqSzE3e25KuoKrOsiKPlVQvFfYH/AAtWH/nr+tH/AAtWH/nr+tAH2Lq+oaVr2k3Wh6sBNa3sLwTJkjdHICrDIIIyCRkEGvwY/wCIZ7/ghR/0RAf+FN4g/wDlnX6Rf8LVh/56/rR/wtWH/nr+tAHxJ4Z/4N+/+COHgzwB4m+FvhX4TzWOgeMvsY1uzi8Ta+q3q6fIZrdJG/tLcUSU+ZsBClwrEEqpH0d8SP8AglX/AME3Pi3+yf4V/Ye8ffDGwvPhf4ImW50PR47u8tms5l8zMiXUM8d2Xk81zKzTMZWYmQsea9N/4WrD/wA9f1o/4WrD/wA9f1oA/mV/aV/4In+I/ih/wXF+EuuN8KW8SfsseGvBVv4W1CTU9UF7FDbW2n38EULG6u31FzDJJAIpAWeMhGRhsBH78/sS/wDBIX/gmn/wTy8eXnxT/ZV+HFvofia8ikt/7Vu7y71O6hglPzRQPeTTeSpHysY9rOvDlhXuP/C1Yf8Anr+tH/C1Yf8Anr+tAHzL+2P/AMEUv+CWX7eHxMk+M/7Rfwxtr3xbciNbrVtNvbvS7i7EfA+0C0miSZtoC+ZIrSBQFDAAAexv/wAEx/8Agnn/AMMY3n/BPi2+G9jafCHUZobi80Kzubu1NzcW80dwk013DOl3JL5sMZMjTl2CBWJUba7f/hasP/PX9aP+Fqw/89f1oA7rRP2XP2afDv7JT/sL6N4eEPwrk8P3HhZtD+2XTZ0m6ieGWD7S0xuvmjdl8zzvMGchgcGvJfh3/wAE5P2Bfhb+yPffsI+E/h1YP8JdRlnnuPDuoz3OpwtNcOJHkEt5NNOrhwHRlkDRsAyFSAa6D/hasP8Az1/Wj/hasP8Az1/WgD43/Zp/4IMf8Ei/2SvjNZfHz4M/CmCHxNpM4udMn1LUb7VIrCZeVkgiu7iaMSIRuSRlaRG5Vga+wNF/YI/Ys8Pftr6r/wAFFNH8HiH4ya3arZXviH+0b5vNgW2itAv2Q3Bs1/cQxplYAflzncSTY/4WrD/z1/Wj/hasP/PX9aAK/hf9gj9izwZ+2frn/BQrw14PFt8YPElr9i1HX/7Rvn86DyYoNv2V7hrRf3UEa5SBT8uc5JJ+OP2jP+CB3/BID9qf4vXvxz+LXwktj4j1W4a61KbS9RvtKhvpn5Z5oLO4hi3uxLPIqLI7ElmJJr7P/wCFqw/89f1o/wCFqw/89f1oA6+8/ZG/ZA1D9l9f2LL34faHJ8Kks/sK+GTar9hWIMZAVXqsgkPmiYESiX95u3/NXwN+zZ/wQV/4JEfsnfGay+Pnwb+FEEPiXSZxc6ZNqWo32qRWEy8rJBDd3EsYkQjckjKzo3KsDX2V/wALVh/56/rR/wALVh/56/rQB9rf8JNF/fr+Yf4M/sMftP8A7FX/AAcN+MP2q/gT4Xl1b4E/HnR7ifxVfRXVui6TrNwTcO7wySpPIzXkG8NGjBUvGH8Jr9ov+Fqw/wDPX9aP+Fqw/wDPX9aAPmv9s3/gi3/wS4/b28dz/Fb9or4ZWt14tulRJ9a0u7udLu59nQzm0liSd8fLvmR3CgAEADH0h+xV+wV+xL/wTv8ACV74O/Y+8B2Hg+HVGV7+5jeW6vrspnaJ7u5eW4kVSSURpNiEnaoyak/4WrD/AM9f1o/4WrD/AM9f1oA+Wv2uf+CIf/BKX9uD4qTfG/8AaC+Fttd+LL1ka+1LTb680qS9Kd7hbOeFJXIwDKymUgAb8AV9Hab/AME8P2DdD/Y81P8AYF8PfDzT9L+EutRhNQ0KxmuLX7WQ8cnmTXUMqXckpaKPdM0xkYKAWIGK1/8AhasP/PX9aP8AhasP/PX9aAM+P/gn9+xLH+xF/wAO5E8HAfBkwG1/4R7+0b//AFRu/txX7X9o+2f8fP7zPn5/hzt+Wuc8Vf8ABM7/AIJ9+OP2NdG/4J++Lvh5a6j8JPDsgm0vQ57y8kazmV5ZBLDdmc3iSBppRvE+7a7JnaSK7P8A4WrD/wA9f1o/4WrD/wA9f1oA+QtO/wCCEf8AwSQ074e+DPhanwtMmi/D7Wr7xDoML67q+bTUtR+y/aJt4vQ0m/7Fb/JIXRfL+VRubd+nXxx+F3wX/aX+F2rfBT4++HrDxb4U1yLyr3TNRiE0EoBDKcHlXRgGR1IdGAZSGANeBf8AC1Yf+ev60f8AC1Yf+ev60AfGH7Ov/BA7/gj9+y18XrP45fCb4R2o8RaVcC602XVNQvtVhspl5V4YLy4mi3owDJI6NIjAFWBAr6m+Mn7Dv7IPij9p2w/4KOar8PpPEvxq8D6VJFoV/Dql3byuIIZxHbpAbqOxLP58iBpoiAXyzcAjqf8AhasP/PX9aP8AhasP/PX9aAPxp/4N4P8Agn5+01+y9rXxv/bV/bz0pNF+L3xr8RS3U9iZ4bl7Wz86W6lfzLeSWMfabmdjsDHakMZ4JIH9Nn/CTRf36+Kf+Fqw/wDPX9aP+Fqw/wDPX9aAPtb/AISaL+/R/wAJNF/fr4p/4WrD/wA9f1o/4WrD/wA9f1oA+1v+Emi/v0f8JNF/fr4p/wCFqw/89f1o/wCFqw/89f1oA+1v+Emi/v0f8JNF/fr4p/4WrD/z1/Wj/hasP/PX9aAPtb/hJov79H/CTRf36+Kf+Fqw/wDPX9aP+Fqw/wDPX9aAPtb/AISaL+/R/wAJNF/fr4p/4WrD/wA9f1o/4WrD/wA9f1oA+1v+Emi/v0f8JNF/fr4p/wCFqw/89f1o/wCFqw/89f1oA+1v+Emi/v0f8JNF/fr4p/4WrD/z1/Wj/hasP/PX9aAPtb/hJov79H/CTRf36+Kf+Fqw/wDPX9aP+Fqw/wDPX9aAPthfEsJ/jqzH4gif+KviKP4pxM3+s/Wun074kRSsB5n60AfZUOrLJ3rWhuQ/Q1836H4wW5IG+vXNJ1UTqOaAPQlYMKdVG1l3gVeoAKKKKACiiigAooooAKKKKACiiigBCwHWoWnVaq3M4QEmuV1DV1hHWgDrGvUBwTUR1KMd68hvvFkcOfnrmZ/HcKE/PQB9Bf2nF/n/APVR/acX+f8A9VfOB+IMQPD0n/Cwov7/APn86APpD+04v8//AKqP7Ti/z/8Aqr5v/wCFhRf3/wDP50f8LCi/v/5/OgD6Q/tOL/P/AOqj+04v8/8A6q+b/wDhYUX9/wDz+dH/AAsKL+//AJ/OgD6Q/tOL/P8A+qj+04v8/wD6q+b/APhYUX9//P50f8LCi/v/AOfzoA+kP7Ti/wA//qo/tOL/AD/+qvm//hYUX9//AD+dH/Cwov7/APn86AO6+O/hjUfij8D/ABn8M9BlhhvvEWhajpltJcMViSW7t3iQuVVmChmBYhScdAelfhv/AMEK/wDgkN8Rf+CeP7A3xH/Yv/bSn8MeM7b4g+ItQvru30Sa5u7CfS9Q0+0spIJjdWtq+5vJk3BUI2kENnIH7Hf8LCi/v/5/Oj/hYUX9/wDz+dAH8rn/AASi/wCDbT49f8E1/wDgqhe/tRy+LfDGv/CK1t9c0/SrT7RdtrrWWoxtHbrcwtZpbb0UhZStwQcZA52jP8Gf8EWP+C0f/BM34heP/CX/AARu+M3hDT/hL8QL976PS/FcTG90qVwVRlL2V4rNBHtiEySAzBVMkOVXH9Wf/Cwov7/+fzo/4WFF/f8A8/nQB+d37LP/AATO+K/hT/gmf46/Yp/bd+LuufGfxZ8TtP1S21vXtbv7rUIrNtRt/s8cNh9rd5EhtiBIhwrNKWfauVVfxK/4Jb/8Gx/xk/ZW/Z3/AGmvhh+1X4g8I6zr3xl8Gf8ACJeHrnQbi7uYNP3iaVpbhrmytmGLpbOVRGj/AOpJPOBX9Y3/AAsKL+//AJ/Oj/hYUX9//P50Afgp/wAG6P8AwQ++LP8AwSH/AOFmeN/2k9Z8OeIPF3jX+z7Gwm8Oz3NzDa6baeZJIrPdWtq4eaV1LKEZcRIc5JFfuB+398FPFf7Vf7EHxZ/Zp+H11Z2Wu+PPCmq6FYT6i7x2kdzfW7xRtM0UcrrGGYFisbsB0U9K6v8A4WFF/f8A8/nR/wALCi/v/wCfzoA/i3/ZW/4IY/8ABy/+xJ8MG+DH7LH7SXw88HeGHvZdRNha3t7LH9pnCLJJmbQZGywRcjOOOnWvvTxp/wAE8/8Ag5C+KX/BPv4gfsi/Fz46/D/xN4l+IWpwQXOvXGo38H2Tw6sJFzZQfZ9EjbfdyELKzLgQhkGfMO3+lT/hYUX9/wDz+dH/AAsKL+//AJ/OgD+TO6/4Nifjz+x147/Z/wD2kv8AglL4/wBC0H4p/De0WPxjceKrq9h0/XrokvNKgtra6dYp1lltZICqL9nEeGEgZn/N69+Gf7c3xd/4OjfjpefsSeNNG+HXxb0LSv7XhfU1e+0a6K2OmwXNjO3kl2gcTMVlNsW3RqdiNhk/vt/4WFF/f/z+deA+Hvgr+zH4S+OGqftMeGPAug6f8Q9biaDUPElvYQx6pdRMEBSW5VRK6kRRggsRhF9BQB+Ln/BOT/giF+1ZB+3Z4y/4KZf8FePGuhePfiF4k0i60ay0nQPNNlb299a/YZTI5htlQLZ77eOGJGXbIzs5evlj4bf8EYP+C6//AATd/wCE3+AH/BKf46+ELf4O+NNRuL61TxJG0eq6XLcxpE0wP2G6CzLFGkXmxSESbBJ5UbYx/WR/wsKL+/8A5/Oj/hYUX9//AD+dAH8237dX/BB39tv9pn/gkX4D/YZT42L8SPijpHjyHxnr/in4g6rqU1vIosLy0a2s5DFf3CRRGeIRxsqq2JJDsZ9lfqb/AMFJP2CPjD+2L/wRx1j/AIJ5/DTVNFsPGeoaH4Y02O91OaePSxLot5Y3E5aSK3lm2slq4jIhJLFchQSR9+f8LCi/v/5/Oj/hYUX9/wDz+dAH81fx0/4N4vjf8TP2Af2ZvB/w5+IGj+Df2jv2Z7df7H1+2aefRrmVboXSoZGgWdPKmSOWKU2zYYOrRsH3L7H+yv8AsJf8F6vil+1z4K+Ov/BTL9o200/wV8P5EmTwt8Or250+HX54WDKNQjt4LKF4ZHVWkEgl3JuiWONXY1++P/Cwov7/APn86P8AhYUX9/8Az+dAH4vf8Ewv+CTP7Rf7FP8AwVQ/ac/bi+KOueGtQ8J/GnUtWvNEtNKubqXUbdL/AFV76MXUc1pDEhEbBW8uaUb+ASOa8R/Y8/4IM/EvwJ+1R+2l42/at1jw9q3w4/ajbXILK10K7un1S1tdW1G4u0acTWkMUc0UcykeXJKBKvdRk/0H/wDCwov7/wDn86P+FhRf3/8AP50Afx36R/wQz/4L7fBT9nDXP+CZXwB+Pvghv2fddvbg/bLpJ7bVobC6l8yeEItlNJCJmJd4YblkZiw81Vd8/cf7Vf8Awbct4l/Yz+Afw8/ZC+JB8OfGj9nSd9Q0LxZq6P5OpX1zdLfTvceWJng23iia2YJP5SDyirg7h/Rb/wALCi/v/wCfzo/4WFF/f/z+dAH4F/sufsI/8F7fir+1t4J+OH/BTD9o6z03wT8PpEnXwx8Ory50+PxBNCwcLqCW9vZQvBI6q0okEu5N0Sxxq7Gv6ddV/szW9MudG1SMTWt3E8M0bdHjkBVlPsQSK+fv+FhRf3/8/nR/wsKL+/8A5/OgD+UX/g1MutS/Y4+O/wC1J/wSn+K5Nt4t8D+I49ctUY4F5Zp/oUtxGCAdjKLORWx8yTqa+4/iD/wR1/aZ8Wf8HEnhz/grjp2v+Fk+HGkQQxzabJdXY1tjHo0unHbCLM25HmuGGbkfJk9flP60Wfwq/Z107453f7Tlh4L0SD4i39qLG58Sx2UK6rNbBUQRPchfNZAqIu0sRhVHQCvb/wDhYUX9/wDz+dAH4vN/wSZ/aMP/AAcRr/wVv/tzw1/wrgaP/Z39m/abr+2/N/sf+z8+T9k+z7fN+bP2nOznGflrm/8AgrB/wR1/ab+PH7aHgv8A4Kg/8EzfiHpnw7+OHhGyGm3C65Gz6ff26pLEH3CG5CyeRM8DxvA8ckZXmNky37i/8LCi/v8A+fzo/wCFhRf3/wDP50AfiV+w5/wT5/4K6eKvj/4k/aR/4Kt/tBy6lbajod5ommeBfBGoXVvoERvYHtzc3FuI7a2aSFJHaMeVKxlKyNLmNRX5Yfskf8ENP+C4P7FHwi+Kf7DH7P8A8SvhZpXwt+KE90NS8U3FrdzeIDa3Nv8AZGWGMW4EbvCADG8jrCzM0UgYkn+wT/hYUX9//P50f8LCi/v/AOfzoA/mr/ZE/wCCA37TPw0/4Ia/G3/glL8cPF3haHxJ8RfEh8QaRrGiTXd5YwmIaZLDHcie0tZVzPp21yiPiOTIyRtPzFJ/wQg/4LI/Ef8A4JM61/wTL+N3xI+HWpWPh/XfD974D8u4u0t7Gys21B9QS4nj0pbh2ke4t/IDpJgI4JQABv68f+FhRf3/APP50f8ACwov7/8An86APwI/4Krf8EX/ANqL9ub/AIJNfs9fsIfCfxB4U07xd8JY/DyaveavdXkWmznSdGk0+b7NJDZzStulcMnmQx5TJO0/LW//AMFvf+COf7TP/BSr4Ufs8eBPgZr/AIX0m7+Ek0kmrvr11dwRzq8NpGPsxt7O4LHNu3+sEfBHvj92P+FhRf3/APP50f8ACwov7/8An86APwA/4KFf8Ecf22o/+Cij/wDBVz/gkd8R9E8E/EvW9PTT/EukeJY2axv0jiSAtGwguUImihhV4niQB4xKsoc8eg/sj/8ABN7/AIKt6h4f+OHxQ/4KOfH8+NPGfxP8Iar4Z0LwlpeoXkfg7SJNQtzCty9sIooRIuEQeVanYpkctLI+R+33/Cwov7/+fzo/4WFF/f8A8/nQB+Jn/BK//gkb+0j+w7/wR9+MH/BPv4r674Z1Hxl8QW8Ttp17pNzdS6ZF/belw2MHnSTWkMy7ZIyZNkL4TBXceK+ZvgN/wQA/aI8Mf8EE/iN/wSj+KnjHw1beN/FfiQ+IdO1bSpLq70qNoZrG4hjmMttbzDebRkcrE2wOGAcjaf6TP+FhRf3/APP50f8ACwov7/8An86AP4Lf+ClHgf8A4KG/8E5P+CHP/Dt/9uPxh4c8bXXjnxJ4f8PfDnTPCnmTT2+k6NI97diVnsrSWbE62cUYPmPl1HHf+5D/AIJy/AS5/ZD/AGDfhF+zTrAVdS8HeFdM0/Udhypv1hVrsqf7pnaQj2rkfid8KP2cvjV418MfEj4v+CtD8T+IPBVx9r0DUdUsYbq50yfeknmW0kis0T74o23IQdyKeoFe4f8ACwov7/8An86APpD+04v8/wD6qP7Ti/z/APqr5v8A+FhRf3/8/nR/wsKL+/8A5/OgD6Q/tOL/AD/+qj+04v8AP/6q+b/+FhRf3/8AP50f8LCi/v8A+fzoA+kP7Ti/z/8Aqo/tOL/P/wCqvm//AIWFF/f/AM/nR/wsKL+//n86APpD+04v8/8A6qP7Ti/z/wDqr5v/AOFhRf3/APP50f8ACwov7/8An86APpD+04v8/wD6qP7Ti/z/APqr5v8A+FhRf3/8/nR/wsKL+/8A5/OgD6Q/tOL/AD/+qj+04v8AP/6q+b/+FhRf3/8AP50f8LCi/v8A+fzoA+kP7Ti/z/8Aqo/tOL/P/wCqvm//AIWFF/f/AM/nR/wsKL+//n86APpEanHTxqEbdDXzhH4/iY/f/Wti08axSHG+gD31LtW71YWRTXlen+Ikm6NXaWV+sg69aAOkoqGJ9wqagD//0v7+KimOEzUtV7k4jJoA4LX7vyo2wa8JbXT/AMJlpcGfv3sC/nIor1fxdMUiavlR9RYfEjQos/e1O0H5yrQB+h9FFFABRRRQAUUUUAFFFFABRRRQAUUUUAFFFFABRRRQAUUUUAFFFFABRRRQAUUUUAFFFFABRRRQAUUUUAFFFFABRRRQAUUUUAFFFFABRRRQAUUUUAFFFFABRRRQAUUUUAFFFFABRRRQAUUUUAFFFFABRRRQAUUUUAFFFFABRRRQAUUUUAFFFFAHnnxVuvsXgK+uc42mH9ZUFeWeD9XM6KSc12vx8mNv8J9UlHGGtv1njrwf4dXxkij5zQB9c6XLvQE+ldBXI6E5aNa66gAooooAKKKKACiiigAooooAKZIcLT6hnJCGgDlNXujEhIrx++1RLzWrXS5HIW4njiO3qA7AcfnXe+JrgpE2DXzW+rt/wn2jQ5+/qFsv5yLQB9G3fwc8PXpJkvLwZ9HT/wCIrBm/Z78JzHLahqI+kkf/AMbr3migD57P7N/g88/2jqX/AH8i/wDjVH/DN/g//oI6l/38i/8AjVfQlFAHz3/wzf4P/wCgjqX/AH8i/wDjVH/DN/g//oI6l/38i/8AjVfQlFAHz3/wzf4P/wCgjqX/AH8i/wDjVH/DN/g//oI6l/38i/8AjVfQlFAHz3/wzf4P/wCgjqX/AH8i/wDjVH/DN/g//oI6l/38i/8AjVfQlFAHz3/wzf4P/wCgjqX/AH8i/wDjVH/DN/g//oI6l/38i/8AjVfQlFAHz3/wzf4P/wCgjqX/AH8i/wDjVH/DN/g//oI6l/38i/8AjVfQlFAHz3/wzf4P/wCgjqX/AH8i/wDjVH/DN/g//oI6l/38i/8AjVfQlFAHz3/wzf4P/wCgjqX/AH8i/wDjVH/DN/g//oI6l/38i/8AjVfQlFAHz3/wzf4P/wCgjqX/AH8i/wDjVH/DN/g//oI6l/38i/8AjVfQlFAHz3/wzf4P/wCgjqX/AH8i/wDjVH/DN/g//oI6l/38i/8AjVfQlFAHz3/wzf4P/wCgjqX/AH8i/wDjVH/DN/g//oI6l/38i/8AjVfQlFAHz3/wzf4P/wCgjqX/AH8i/wDjVH/DN/g//oI6l/38i/8AjVfQlFAHz3/wzf4P/wCgjqX/AH8i/wDjVH/DN/g//oI6l/38i/8AjVfQlFAHz3/wzf4P/wCgjqX/AH8i/wDjVH/DN/g//oI6l/38i/8AjVfQlFAHz3/wzf4P/wCgjqX/AH8i/wDjVH/DN/g//oI6l/38i/8AjVfQlFAHz3/wzf4P/wCgjqX/AH8i/wDjVH/DN/g//oI6l/38i/8AjVfQlFAHz3/wzf4P/wCgjqX/AH8i/wDjVH/DN/g//oI6l/38i/8AjVfQlFAHz3/wzf4P/wCgjqX/AH8i/wDjVH/DN/g//oI6l/38i/8AjVfQlFAHz3/wzf4P/wCgjqX/AH8i/wDjVH/DN/g//oI6l/38i/8AjVfQlFAHz3/wzf4P/wCgjqX/AH8i/wDjVH/DN/g//oI6l/38i/8AjVfQlFAHz3/wzf4P/wCgjqX/AH8i/wDjVH/DN/g//oI6l/38i/8AjVfQlFAHz3/wzf4P/wCgjqX/AH8i/wDjVH/DN/g//oI6l/38i/8AjVfQlFAHz3/wzf4P/wCgjqX/AH8i/wDjVH/DN/g//oI6l/38i/8AjVfQlFAHz3/wzf4P/wCgjqX/AH8i/wDjVH/DN/g//oI6l/38i/8AjVfQlFAHz3/wzf4P/wCgjqX/AH8i/wDjVH/DN/g//oI6l/38i/8AjVfQlFAHz3/wzf4P/wCgjqX/AH8i/wDjVH/DN/g//oI6l/38i/8AjVfQlFAHz3/wzf4P/wCgjqX/AH8i/wDjVH/DN/g//oI6l/38i/8AjVfQlFAHz3/wzf4P/wCgjqX/AH8i/wDjVH/DN/g//oI6l/38i/8AjVfQlFAHz3/wzf4P/wCgjqX/AH8i/wDjVH/DN/g//oI6l/38i/8AjVfQlFAHz3/wzf4P/wCgjqX/AH8i/wDjVH/DN/g//oI6l/38i/8AjVfQlFAHz3/wzf4P/wCgjqX/AH8i/wDjVH/DN/g//oI6l/38i/8AjVfQlFAHz3/wzf4P/wCgjqX/AH8i/wDjVH/DN/g//oI6l/38i/8AjVfQlFAHz8n7OXhBOmo6l/38i/8AjValv8CPC9scpfX5x6vH/wDG69tooA8E8WeGdN8DaXBf2U87mSdYj5rKRgqx7KPStbw7q3nqOax/2ib02PhCwlBxu1GNf/Ictcf4F1EzRJk0AfTVjJvUGtOuf0ly0YNdBQB//9P+/iq11/qjVmq11/qjQB4t40OIWPtXx88jf8LS8Oj11Wz/APRy19geNf8Aj3b6V8dv/wAlS8O/9haz/wDRy0AfpvRRRQAUUUUAFFFFABRRRQAUUUUAFFFFABRRRQAUUUUAFFFFABRRRQAUUUUAFFFFABRRRQAUUUUAFFFFABRRRQAUUUUAFFFFABRRRQAUUUUAFFFFABRRRQAUUUUAFFFFABRRRQAUUUUAFFFFABRRRQAUUUUAFFFFABRRRQAUUUUAFFFFABRRRQB4j+0YSPg3q5H961/9KI6+d/hi5MUf4V9D/tHf8ka1f/etf/SiOvnb4Yf6uP6CgD7E8On90v0rtK4vw7/qx9K7SgAooooAKKKKACiiigAooooAKr3HEZPtViq9z/qz9KAPH/GEmIW+lfI8tyf+Fm+H09dUtB/5FWvrLxn/AKmT6V8eyf8AJUfDv/YVs/8A0ctAH6YUUUUAFFFFABRRRQAUUUUAFFFFABRRRQAUUUUAFFFFABRRRQAUUUUAFFFFABRRRQAUUUUAFFFFABRRRQAUUUUAFFFFABRRRQAUUUUAFFFFABRRRQAUUUUAFFFFABRRRQAUUUUAFFFFABRRRQAUUUUAFFFFABRRRQAUUUUAFFFFABRRRQAUUUUAfMf7Vcph8C6Yw76rEP8AyFNXCfDectEhrs/2tP8AkQtL/wCwtF/6KmrgPhn/AKmP8KAPrrRGzEB7CuprlND/ANUPoK6ugD//1P7+KrXX+qNWarXX+qNAHivjX/j3b6V8dv8A8lS8O/8AYWs//Ry19ieNf+PdvpXx2/8AyVLw7/2FrP8A9HLQB+m9FFFABRRRQAUUUUAFFFFABRRRQAUUUUAFFFFABRRRQAUUUUAFFFFABRRRQAUUUUAFFFFABRRRQAUUUUAFFFFABRRRQAUUUUAFFFFABRRRQAUUUUAFFFFABRRRQAUUUUAFFFcHqWpf29fXGhWt49hBbukM08ZVXeVwG8qMnODtILEDPI2nOcNK5E5qKO8yKK+fpU+G0fiWDwhDeanaatMiNHIJ7nf8+7aSWZlJ+U5DDHrXpHhvV9Xg1Wfwl4mdZrqFPOguFXaJ4M4yQOA6nhgODkEYzgXKnbVGFPEqT5Xbe2jur9ntZk3jG4+IEMEUfgG1sJ5XJEj380kaIOxAjRy30ytfOfjTxB+0zoGuaBpV3qmgWsOuXwsi9rZTTNDlSwb95OobpjGBX1/Xg3xwSSO58J6io4g120yfTedv65xWlCS5lGyOTM6EnTlUVSStbROy3V9rPbzNnQvAvxNs9Ut9R8Q+N7m/jibc9tHY20EMg9DhGkH4OK9grgtR8TWGh6/fT6tqqrbWdkJ5LQRcxqG5lLjLHPQAVsnxf4b/ALKk1lbyNoIYFuXIOWWJxuVio+YAjpkVnPmlZtfcrHVQ9lTTipP5ycn+Lehzni2f4s/bhbeBLbShb7QTPfyy7t3oI405HvvFeGvqn7Rt38TIvh5qmv6Rpyz2DXqz2WnPKRtfaVxNOR+OPwr6ws7y3v7SK+tW3RTosiH1VhkH8q8V14ND+0DoEvQTaXdRk+u1g2K1pT3Vls+n+ZyY6hfln7SVnKK0k0rN26WOq8I+EfG+iak1/wCJvFdzrUbJt+zyW1vBEG/vDy0D/gWNek1xkXxD8EyW63Mmp28CvO9qnnOIi00ZwyqGwSQfSrv/AAmnhH/hIh4SGp2x1QoZfsglUzBB1JQHIHPcVlJSbu1+B20ZUYRUYz085N7+bbfodNRXM3HjHw3b6NF4h+1JJZzyJFHLH84dpGCqBjOeTTrPxj4T1DXp/C1jqVrNqVsu6W1SVWmQf7SA5H5VPK+xr7andLmWvn3PHvhR408ZeIPE91F4iulntryFry3hEap9mQTPGiggBmyqgktk5z24r6Fr5D+APiDSLLw5qPj3xJew2djbCPTlnuJAkf7gsW+ZiBnzHYe5FfR0fjzwfNcxW8OoQOJ7Rr6ORXBia3UgFxJ93AJHfvW2Ig+d8qPOyzEReHi5z1eur11f69PwOuory22+NHw2vtR/s/TtSF2u4Rtc28by2qu3RWnRTEDz0L9a9SrGUJR3R6FOtTqX9nJO3Z3CiiipNTxD9o7/AJI1q/8AvWv/AKUR187fDD/Vx/QV9E/tHf8AJGtX/wB61/8ASiOvnb4Yf6uP6CgD7E8O/wCrH0rtK4vw7/qx9K7SgAooooAKKKKACiiigAooooAKr3P+rP0qxVe5/wBWfpQB4z4z/wBTJ9K+PZP+So+Hf+wrZ/8Ao5a+wvGf+pk+lfHsn/JUfDv/AGFbP/0ctAH6YUUUUAFFFFABRRRQAUUUUAFFFFABRRRQAUUUUAFFFFABRRRQAUUUUAFFFFABRRRQAUUUUAFFFFABRRRQAUUUUAFFFFABRRRQAUUUUAFFFFABRRRQAUUUUAFFFFABRRRQAUUVzuu+JLXQwsSwzXlzJ9y3tk3yN7nJCqPd2Uds54ppN6ImUlFXkdFRXncnjfWLDE+teH76C2/iliMdxsHqyRuz4HfarV2+najYavZRalpcyXFvMNySRkMrD2IpuLRMK0ZOy387p/cyDVdc0XQoPtWt3kFnEP455FjX82IFeWah+0X8CNLkMF14u0ppBn5IrlJX4/2ULH9K7zXfAngrxTfQ6l4m0mz1Ce3UrE9zAkrIp5IBYHFeJ+MfDfh/QPjl8PL3SLKCzH/E1tsQRrGDvgDgYUAY+Q1rSjTekr7P8FfzOHG1sVTXNT5bXitbt+9JRvutr33PQPDHxr+HnjLWYdD8NXFzcyzhmR/sVykBCjJ/evEsY6f3uvHWvV6ybTXNKv8AVbzRbSXfc2Hl+egB+TzQWUZxgkgZwDkDGeorWrOdr6K39fI7KHPy/vJKT8lZem8uvmYOs+KvDHhyPzfEOo2tgvrcTJEP/HiK8xu/2kPgRaOYf+Er06dx/BbTC4b8ot5/Su71D4d+AtX1d/EGraLY3V9IArTzW6SSEKMAbmBPAFeUaJo2l6F+0xqCaZBHbJd+GbQ7IlCLmC5mBOBx0dRWlONNp3vdL+u5xYqrioTiocqTdtU30eu8fu/E9G8HfFLwd48vZrDwzJcyPAgkZprO4t4ypOMq8saK3/ASfWvQqKKxla/unfSU1G1RpvyVvwu/zCiiikaHIeGvHvhHxff3+meHLxbmbTZDFcKFZQrAsp2lgA4DKyllJG4EZyDXX18q/s7pBeXIv7TPl2+jWcbE95bma4uHz74ZSfrX1VWtaChNxRx4DESr0I1Z2u+wUUUVkdgUUUUAfLf7Wn/IhaX/ANhaL/0VNXAfDP8A1Mf4V3/7Wn/IhaX/ANhaL/0VNXAfDP8A1Mf4UAfXGh/6ofQV1dcpof8Aqh9BXV0Af//V/v4qtdf6o1Zqtdf6o0AeK+Nf+PdvpXx2/wDyVLw7/wBhaz/9HLX2J41/492+lfHb/wDJUvDv/YWs/wD0ctAH6b0UUUAFFFFABX8r/wDwcFf8FPf2v/gj8c/g7/wTC/4J7Xlr4f8Ain8b5oVfxDdhc6faXtybK3WEyI6RtLKJWkm2s8SR/u13sGX+qCv5sf8Agvp/wRR+Ln/BSDVvh7+1L+x74stvCHxp+FDhtKkvZHggu4Y51uodtxGrtBcW06mSB9hVi5DlRhlAPh7xT/wQl/4Lz/D/AMN/8LI+DP8AwUD8T+I/G6RfaZNG1mbUYNKe5QbhFHJJe3kRQn5QXs0U/wASgZAs/wDBZ79qr/gp7+yh/wAEB/hL8U/ir4u1PwL8fpfFenaX4q1DSJbe2nkLRakWQtY/6PskWKFyIsISAfavnfXP+C3H/Bwj/wAErdKsLj/gqj+zxY+MvBVnJFa3PinTNltLIW+UPJfafJdaejv1VHtoSzccHp2n/By7+2F8HP29/wDg39+Gf7V/wHuJpvDfi3x9pU0MdyoS5tpobXU4p7eZFLBZYZUZGwxUkZUlSCQD0f4Yf8Ee/wDgvP8AE34aeHfiRa/8FAtctIvEOmWmpJA1vds0S3cSyhCwuQCVDYJwM4r3e8/4I1f8FyJ/hdp3g6D9vXWI9ZtdVvbyfUha3W+a2uIbZIoD/pG7ETxSuMnGZTgDnPzj8Ev2ZP8Ag7yv/gx4Rvvh3+0T8L7Lw/Notg+mW89jbGWKzaBDCjk+HnJZY9ob525HU9a/pI/4JreB/wDgoh8P/wBnOTQP+CnPjHQfHPxKOrXUqal4diSGzGmssfkRlUs7Fd6sJCx8noR8x7AH8QP7dXw7/wCC4X7Dv7cPwF/Yo139tTxN4gvPjtqVtptpqsD3EEenNcXsVnukiaVjIFMofCsuQCOOtf0Qfsa/8Env+CxfwJ/ac8H/ABb/AGgf21dV+I3g3Q7xp9V8Nz29yseowmN08ti87qMMytyp6V8If8HAP/KeX/gnp/2NWmf+nuyr+0+gChqmnx6tplzpcsksK3MTxGSBzFKocEZR1IZWGchgcg8iv48f+Can7df7Xn7CH/BYjx7/AMEhP+ClXj7VfHOneMpFvvhr4o1+XzJZ1YO1rGJCANt5CGjZQSEvIDEmS5Nf2O1/Md/wdBf8E7Zv2mv2Mf8AhtP4QTf2N8VP2d0m8VafqcD+RO+k2eLi8iEgwQ8AiF3Ackq8TKuDKTQByX/Bw3/wUi/aK8DeM/hl/wAErv8AgnJqtxafHn4walaSS3unSbLjSdL80iMmQAmE3DozPJ/yztoZWYAOrVwH/BWD/gpZ+1b/AME6fBHwR/4JK/sUa5cfE/8AaZ+Imn2tjceJtaZbu9ha5fyFvCsx8oTXVx5zRecWitoYiXBXaa8o/wCDX/8AZq+IP7V/jPx9/wAF2f2x9Ti8T/Ej4jX11ovh+QqoWxs7Xbb3UsaD5Yi3lrawquDHBEwyRKa8/SIeKP8Ag9gnj8fIoTQfCSt4eDjcHz4dUsRnoQ010RjutAHqK/8ABCv/AILyHwcPjA3/AAUB8SD4n/ZfN/sLff8A9gfaNm7yPN+1+Xs3/L5n9nYxzs7V9Vf8EFP+Cvn7RX7T/wATPiF/wTf/AOCjFjbaT8ffhCXjmuI1SFtZtrSXyLl3SP8AcmeFzGS8GI5o5VkRQFYn+nmv4i9aj/4Rf/g9g0dfAUaka/4Sc+INg27ceHpipbHUkwW3XrkUAfWv/BuV+19+09+0x+2D+254L+P/AI51fxdpPgPxhp9l4etdSuGmi023kvdbjaOAH7iskESkDsi+lffH/Bxx8e/jN+zL/wAEiPiV8Zf2f/Et/wCEfFWl3WgpaappsphuYVuNUtYpArjkb43ZT6gkV+PH/BqwQP26v+ChKnr/AMJ1pn/pw8Q1+lX/AAdWED/gh78WM/8AP74b/wDTxZ0Afl7/AMFa/wBuv9sP4O/8G3X7Lv7Tvwt+I+uaF8QfFk/hBdY1+zumjvr0XuiXs84lkHLeZLGjtnqyg0/xH/wTX/4OM/hn+z9D+1B8B/22dQ8bazaaNH4hh8O6pbuguVEIuDboblru3kkI+VVljWN2wGZQc18mf8Ftf+VUX9j3/r58Df8AqPahWz+0l/wdBftV+DP2afDf7K3gz9mzWfhN4s8baHb+HtD8UeO7xtOslWSFLVr2BLm1tonVPMVxLJOIYshpNygggH9F/wDwb6/8FTPGf/BVv9hdviz8XLO0svHXhHWJfDmumyGyG8kihhnivEi/5ZCZJsMgJUSI5XCkKP3Or8Uf+CCf/BLnUf8AglJ+wrb/AAZ8banbax4z8UalJ4j8Q3Fkxe0juriKKJLeByAXjhiiQb8De5dgACBX7XUAfwVfEPVv+Cpv7fv/AAX/AP2hv2C/2cv2oPEfwg8P+B9NPiCwihaW5s44YF0yBreOFJYtm970ybtxxgjHOR0fxJ/bL/4LQf8ABvv+0/8ADbTv+Cg/xOs/j98B/iLqBsJdTkjVL2zKFFmYSvGs8U0KyLMsbyTQTRqygo+4p8m6l/wUd8C/8Ewf+Dn79qb4++P/AAd4j8b2mr6G+gRWHhmCO4u0muBo1ysrrJJGBEBbMrMCSGZeDmvYf2j9X/bg/wCDpT9pX4XfDTwx8Fdd+EP7O3w81X+0ta1/xJGY5bsT7FnKF0jSSURI0UMFuZdrSF5XCkbAD6B/4Kj/ABK/4KLfH7/g4a8Mf8E3f2Uv2gfEHwe0PxX4Shv43sZJJbOCe1sr28kc26SRbmlFuEJ3jBIPOMV5T+2n41/4L9/8G/kfhX9q74lfH23/AGh/hTf6zb6RrGmavDsl3yB5VjbzlkmgEscbhJ4JztkAEiEEBuK/4KoftM+Lv2N/+DqzwR+0H8P/AIdaz8VdT0HwPGkHhfw7G8moXgutN1C3YxLHFMxEKyGV8RnCIeg5HCftG/tu/tV/8HQ37Q+h/wDBKPwr4Psf2dvD/hTUH8R+KIfFF80+tySabuhZEtmgtpDLCk7sLVYySw3ySIicAH9X/wDwUE+H/wAdv28/2C/DHxp/Yw+OWsfAxxpkXjhNT0i1N3NqWnTac88dm+25ttit5iPv3Pgr909vwu/4Nc2/4KIftuaF/wAPAP2g/wBpzxR4l8L+GfEOreF7nwFqcTXVtfOun28kdy12bkbDG92GCfZ25j+983y/1dePfh14Y+EH7F2tfCXwTG0OjeF/BVzpFhG7bmS1srFoYgTxkhEAJxzX81X/AAZkyXsP/BJfxvNp0YmuE+JWsmKNjtDuNL0vaCewJ4zQB5R+1p/wUw/4KSf8FVP+CkHiP/gmB/wR08RWngDwj8OpXXxf8Q1w0hNs6w3JjlKvsijnYwwx26+dcSIXEiw7iut8SP8Agi9/wcE/sy+HJfjP+yJ+3P4l+KPjCwU3UnhzxObiKzunX5mjgF/eajZszfdRJooUPd1HThv+DKq10zU/gh+0L481k7vF2p+L7FNULpiXykt5JI9x68yy3HB6EGv7b6AP4Qv+Cs37U3/BU7xR+0J+wr+zd4P+KOufBPx38bvCOjW/i6HTvMs4bXxBqUsMVw81qjAgwyu6+XuyANua+w/+HIn/AAXu/wCkhWt/+At3/wDJNfG//Bzvo3x48Q/8Fjv2N9C/Zc1ay0L4j3gih8M6jqKh7S11R9UQW0sytFODGkm0sDFIMD7rdK+x/wDhln/g8j/6OS+FP/gBbf8AzOUAf0qfsTfB/wCN/wAAv2W/CPwh/aQ8dy/EzxtolvNFqniadGjk1B3nkkR2V2ZgUjZI+WJO3NfU9eP/ALPOlfGbQvgH4I0T9o3UrTWfiFZ6BpsHifUNPULaXWsR26LeTQqI4QIpJw7IBFGApHyL0HsFABRRRQAUUUUAFFFFABRRRQAUUUUAFFFFABXzDc/EzQfB82q6C9zDJqx1S4AtDcxwFldVkEjO+SgVDgHoW+X3r6ergfE/gS01u9XW9PZLa/VPLZnjEkU0fXZKnG4A8gghlPQ8kHWlKKdpbHHjKdWUU6Ls1+Xl0v66Hy3ceP8AXPDWsz+NTrmjStrEkcUkcjhzZLnEfKyHcFB2uVwMsX5C4PsPg7xx4Y8beL9MPh64ia5hguJLuJZRK8bAJGVJ3HOWAIYfeAzV+LwJ4sFwfLstItlZQpkBkkHufL8tOvoZOPU16b4e8L6d4fVpo1WS8mC+fcbFV5CowMhQAAOwHArapUhbzODDYavz7+7e7unve+l31flbfyOlrwP9oyWW08D2WqRDP2PVtPmI56LMuele+UhCsMMMiuenPlkpdj08VQ9tRnSTtdWv2Plj4qyQWXjTXWkBLXHhicgY4YxyLx+ted+BPhtqHhvwPp3iy8tpZ9S8TaY8GotCjM26VAYA23JCphVB6Lk191FEY5YA9qcAAMCtliWo8qRwVMohOs6spd7abXd/816Nn59WXxN1PVvG3gGW907ULWy0uKa1eCS3kWe5vVj2ERxkAsi45c/Jz1r6B8a3dxD8XvA2q3ELQfaVvYGRzllLICASpIzx6muKsLI6z8Yrbx1qHzXH9pXGn22f+WdtBGMgem5jk+tfXBVSQSM46VpWmouNl0f43/zOXL8LUqQqKc/txadv5eX80tunmfD9jbWvgGL4g/FXAe+h1GW2tZZV3LaRuyhmUfwjcxdiOuOaoeB7218M/EXS/EYtbr+zLmyngsW8h2nvrhmUyTOcZHmH7u/HyjPFfd2xMEYHPWnVH1m97rf/ACNlk/LKLhOyi77deZtvfrovkumh8T+Hxr/iDXLjwBptnLHB4Tu7u+m3r8kszhmtYl7HAbcce1cj8AL2eWC2kt4kfxF5csItoj5r2rzvunub1yAFkdgNsZ5wAB3I/QUADp3oCqpJUYz1pvE6Ncu/9fiEcmaqQqe02v06aWtrpZJd1fWx+ZdzJqPhrRvCWiGWBLbTNR1iOS9vyEtYbyKUqk0wAwzhS7RpxucjnrXqkPg7TfF/jXwNo6Wrx+G7G1uhGtwCkl8kPlMHkjYAiMyYdVPLYyRg4r6l8GeDX8JXOsHzxNBqd/JfRptx5ZmwWX3+bJB967sqpIYjkdDVTxevurv+N/8AMww+Se7+8lp7ulukeXS99nyr9ex8s+LvEl9+zr50ulQrrOiXb3F6dOj+W9tgSZJ5EONrwKSSd+0rnAZuFr6S0S7u7/S4b+82B51EgEedoVuQMsATx3wPoK5rxL8NPBHjDWLfXfElit1cWqeWu5mCMgbeFdAQkihhuAcEA89a7kAAYHQVz1Jxklpr1Z6mGw9WnUnd/u9OVdu/T7lql0sLRRRWR3HiH7R3/JGtX/3rX/0ojr52+GH+rj+gr6J/aO/5I1q/+9a/+lEdfO3ww/1cf0FAH2J4d/1Y+ldpXF+Hf9WPpXaUAFFFFABRRRQAUUUUAFFFFABVe5/1Z+lWKr3P+rP0oA8Z8Z/6mT6V8eyf8lR8O/8AYVs//Ry19heM/wDUyfSvj2T/AJKj4d/7Ctn/AOjloA/TCiiigAooooAK+PP22/29f2Vv+Cd/wck+OX7WXimHw1opl+zWkexp7u+uipYQW0EYMkshAJ4G1R8zlVBI+w6/gt/4Otbq3+Gn/BTH9kn49/tM6DceJ/gJo0kS6pp/lebbSSwaik2pRMv3Wea08giJsCVYyucBsAH6GaD/AMHlP/BJnV/Eo0PU9F+IekWbSBF1K60a0a1Kk4L7Yb+WfaO/7rd6DPFfrp+0d/wWU/Yc/Zq/Yi8J/wDBQzxDq+pa98L/ABtfW9hpF/o9hJJPPJcpO6EwXBt5EUfZ5A28BgwxinfCH9qT/gkF/wAFM/hVZ/CH4b+JPh98SNBvrIQQ+FLkWv2mG3ZMbP7MuFS4g2rwB5KlccYI4/BL/g6q/Z5+En7KP/BDLwD+z18CNLOi+EfDHxB0u30yxM0tx5EUltqkpQSTM8jAM5xuYnHGaAPpn/iMQ/4JBf8AU7/+CSP/AOSq7e7/AODtH/gk/Z/Dew+KUx8Zf2ZqWpXelRAaMnmieyit5pCV+04C7blNpzknPAxzyvwC/wCC7v8Awbz+FPgV4K8LeMfH/h2HV9N0HTbW+jfwnqUjLcw28aSguumMGIcEEgkHqCa/aP8AZD+M3/BPz9vb4O/8Ln/ZOh0Lxf4Pi1C4sPtaaM1oi3kKxmVfKu7aGTIVky2zBGME4oA/E/8A4jEP+CQX/U7/APgkj/8Akqvon9kz/g5y/wCCZ37Z/wC0X4V/Ze+Df/CWDxP4xu2stP8At+kpBbeasbyfPILhyo2oedp5r8l/+C9fw3+Hegf8F0/2ANH0LQNOsrPUfE+mJdwQWsUcc6/21ZjEiqoDjBIwwPBPrX9n2kfCD4S6BqUWsaD4X0iyvIDuint7KGORD0yrKgIOPQ0Adtql7JpumXOoxW8t21vE8gggAMspQE7EDFV3NjAyQMnkivzZ/wCCd3/BWv8AZE/4Kcz+M9H/AGc7jVbPWvAN1Fa61o+v2f8AZ+oQGbeqv5JdyU3xvGxzlXXDAZXP6a1/DD/wVz+HvjL/AIIX/wDBXPwT/wAFpfgBp0z/AAt+KV8dF+JOlWa4jNzdYa6JUYGbtI/tcOTj7ZbuWOHAIB/Wd+3r+31+zh/wTc/Z8uv2lP2n9SnsdAhvLbT4IbOIT3l3d3TEJFBEWXe4RXkYbhiNGbtWBrv/AAUh/ZV+H/7Fej/t8fG7WZvh54A1zTYdUtD4jh+y6hJFcqXgjS1RpJJJpowHjhj3yMpzt64/k88Ua9Zf8HNn/BaHSvBnhOZ9V/ZL/ZqEd9fThWS117UJmBKkMASLyWPyUB6WcErqVaXBs/8ABVTwcf8Agql/wcl/B3/gl38RLgj4T/DHSo9Y1XSrctGkzPaHUrlHKFSPtEKWtqCpUxoxKEFjkA+6/wDiMg/4JNf8Jj/wj39k/ED+y87f7a/sa2+xbv8Ad+2/aenP+pz7V/Rj+yt+1v8As6fts/BzTvj1+y/4rsvFvhjUhhbm0Yh4ZQAWhniYCSCZMjdFKquMgkYIJ6df2dPgCnwd/wCGel8FaGPAgs/7P/4R77BD/Zn2XZ5flfZtnl7dny429K/i+/4Jb+EZP+CT/wDwcvfFX/gmf8K7povhX8U9Kk1nSNLlZ3W3eK0Op2qxlyWJtYzd2oYljJGAXJYDAB/Uf+w9/wAFRf2Yf+CgvxN+LHwm+AH9r/2t8GdTh0nxD/aVottF9onlu4V8hhI/mLvspckheNvrx7H+3F+2l8Gf+CfH7NWu/tW/tAfb/wDhFfDslnFd/wBmwC5ud19cR20e2MugP7yVc/MMDJr+Wb/g1X/5Pp/4KE/9j1pn/pw8Q1+lX/B1Z/yg9+LH/X74b/8ATxZ0AfZP7SP/AAWS/Y8/ZX/YY+H/APwUM+KX9uf8K++Jb6Ymj/Y7FZr7OrWkt7B5sJlUJ+6hfdhzhsDnOa/Nnwr/AMHen/BHHxFrdvpOq6v4s0OGeRUa8vtCdoIgT95xbyTybR32xsfY1+NX/BbX/lVE/Y9/6+fA3/qPahX9Sf7TXwm/YH/4dY3evftl+HPDUfgu38BxSXl1qNrAkkb/AGEFDbSFRIt0Xx5HlHzTLt2fNigD9Nvg18ZvhV+0N8L9F+NPwR16z8T+FfEVuLrTtTsJBLBPESRkHqCrAq6sAyMCrAMCB6bX8h3/AAZg6X8ULD/gmH4tvPF8csfh298e382gecpG+NbS0juGiJ6xeejKMcCRZO+a/rxoA/nq/a5/4Oa/+CaX7FH7R3ir9lv40/8ACWf8JR4PuUtdQ+waUk9t5kkSTDZIbhCw2yLztHNfQH7CH/BfD/gmR/wUS8fw/CH4CeOZLTxndB2tdC120k068uhGpdvs5cGGZlVWYpHKzhQSVwM1+Fv/AAT18O+H/E//AAd3ftdaf4lsLfULdfA904iuYllQMJ/DwztYEZwSM+hNfOn/AAdk/CL9nX4FfHr9nH4l/skaLpXhr9oC/wDEDSxQ6BClpd3kNvJAbOe4jtwpLrdYjhlYb3BdQSEwoB/RT/wUA/4OEv8Agn7/AME1v2gX/Zp/aQ/4SX/hJI9OttTP9laat1b+Rd7tnzmeM7vkORt4ri/2UP8Ag5o/4JJftc/FHTvg34T8a3/hfxBrU8drpsPibT5LCG7uJW2pElwplgV2YgKJJE3EgLknFfk18d9I0zXf+Dz/AOE+ma/aw3kEngWfzIZkEsbFdE1UjKsCDgjIyKwP+DyH4b/sS+F/2UPAk+k6JoOm/Gq+8T266QNNt4odWn0kwz/avNEQDvbCXygpcECUgJyXyAf04/8ABR//AIKd/s0f8EsvhVofxi/ahXVzo/iDVRo1qdHtBeSi5MMk/wA6mSMKuyJuc9cV8VfsLf8ABxn/AME7/wDgod+0fo/7LP7Pg8Uf8JRrkN3PbHU9LW2ttllC88m6QTvg7EOPlOTxX3/4asfiRpn/AATS0/TfjIHHi+3+GUUWuCQYf+0k0oC53ZJOfODZ5PNfz9f8GXbpH/wSk8YySEKq/E7VySeAANM0qgD9xf8AgoP/AMFa/wBhX/gmJoWn6h+1f4wXTtU1cFtP0PT4mvdVuUGcyLbx8pECCPNlKR7vlDbuK/Hz4b/8HiH/AASP8b+MYvC/iq18deDLOZ9q6trOiwvZ7CcByLG7u7jb/wBsSfavzE/4IE/Abwd/wWS/4KQfH7/grZ+2Rp9r4yj8Pa5BY+E9Kv4vOsbaWTc1vIInyjfYbOKGOFXDjdIZSPMVWr+1f9pD9kT9mb9rz4V3PwV/aS8E6T4u8NXMRhW0vrdWMGRgPbyDElvIo+5JCyOvYigD83v24/8Agv3/AME9P2AovAF/8XtS1nWdO+J2hJ4k8PX/AIesVvra602Xb5cu9pYiA4YMvByDXwT/AMRiH/BIL/qd/wDwSR//ACVX5Sf8F09C/Z3/AGCP+Cnv/BPjwr4uu2svhb8ItK0ixuLjUo2vmj0bRr6GMtOkUbNMRDHlwkRLHOF7V+4X/D/z/g3E/wCih+G//CQ1T/5V0AftT+x/+1b8Kf24P2bvC37VHwQN43hXxfBNcWH2+H7Pc7YJpIH3xhm2kPE38RyOe9fSleXfBHxr8LPiX8HfC/xM+B0lvP4N8TaXa6xok1rA1rDNYahGtxDIsTJGyCRJA+1kVhnkA5Feo0AFFFFABRRRQAUUUUAFFFFABRRRQAUUUUAFeWeDbu81DRxrLyN52pvJNM2wsyo7FIgjE7VEagZHPc45Jr1OvjTxT4P8V2N8vhjxLeWK6NbtLLpvnRSxQM0zs5DypMu2WMHZGDgFSduSSF2pRUrps4MbVlTcZqN1r5a6Wv26/l1Ov8C/Ee117xlqmsf8JNHLpkdz9mtbFzHumMiBYyjZHDukm0ZyfYYr1Hw0v9keM9Q0eBRDbX0ZvUhBBCSLIY5CMdBJ8rkf3i3cmvnnxP4Z1m8uLa+1270Wx+xb4ciB8SwyqA8QxKCcgKybMsGVdvpXt3ww8OeO7K7uNd8d3kV3I8EVrbMkTRSGGIsQ8gZmw7lssOvAzzkVtVjHlumcWEqVXUUJJuzbv673Tba7JbdT2OvB/i35Vr48+Hept97+3JbcEnjE1lc/1UYr3ivPfiB4D/4TiTQpluvsr6Hq1vqinZv3+SHUp1GNyuRnnHoa56UkpXfn+R6ONpznStBXd4v7pJ/oeT/En4ieMNEg8fRaXcLbtoVjp91ZSFFOzz/M3k5BDDKHrWDJ8c/F+u+CvFWuWlimmx22ntqmi3APmPPZI7oZJFYAKzeXvUDI2OvfNeifEP4NS+O08VQLqZtYvFGlW+mOvl7vKMDSnzB8wzuWXGOMYzmuq1/4WeHNe0200gtJa21rZTaaY4SAslpPGI2iYEH5cBSCMEFRz1B6FOkkrrX/AIC/NnmTw+OlObjNpWdtd25Tt3taLT6dF0DUPiVYWfxS0n4XQQ+dcanp9zqLSBwPJigaNFyuMnezkDkY2muUv2S2/aW0z1u/Dd4vJ/543MBGP++zXzl4L8Czj442elWusajdw2FteaddaxLKi3d7JbC2Jt12IPKhhBClkw7SF+c5NfXmp/D9bz4g6D45tLnyRotpeWbQlN5ljuvKI+cnI2GIHoc5onGFNpJ7p/qFCtXxUJScfhqRtqtEuW/rZXd+vS6tfxXwN8WvHGrWes3mty21lpHhO8vbbUtSuYmd7h4JnxHBGhQAJFsBc7sscBSQTW/4G+J3jvxN8WZPCetxWthbDSP7RaxVC91bGWRVgWeTdt3su5mRVwvAyep2tS+DFzceBNS8Jabqi29xfay+sJcNB5iKzXQuRG8e8b1GAp+YZH5VHY/AxdM1q31ux128SaWKWPVJNqedftK6uWaTGY8bQoCAbUwq4xmm5Und6fd/X9dkRCjjoumndpWb1WurVt+it66vWVrYw+KetXnhbwol1KlvqmpXkn25oxhEt9MZzePg5IQ+Xs9QXA61U+Fvxj8W+MtWm1jX47S20NtObUvKjR/PsoncfZhM+4q0k0IaQoFBQBeua63w18DdH0TXPEesajeS3y659oigiYBVs7a6JeaKM8n95KS7Nx/CMfLWP8NfgEngPTbPw5eakt1pGmOJLe0htxbiaVcbZbpt7meQYGPupkA7eFwnKjyyS/r/AIbRDhSzD2lNy266rpZJvunq9Ojs1ezXgfwu8eah8P8A4R6BBpstvb6j4je8v7q8vkYwWNjYkRFnjDIxdVEUapuGZG/A+rX/AMVfidYeIfCWh/Y4ZNY8TaQ7tYMCkNtdI0bNLKfmdY0jZ8rkksNoOea5jwz8IR42ePUba6itdS8Ha5rVtCt3bfaoDHdXPnqzRl48uoZHjbOAecHgj3nRfhNbaR4s03xjNeve31rDdJc3E6gy3Elz5fzZGAioE2qirtAOB6nWrOlzNvfX9bfLY5MFh8Y6UYxbUVyJNNbe7z6fzX5t19+iOL8B6l8QPFGs3sXiHxKljrWnXLxy6RHaokIt0chJNrlpmWZAHEiy7QTjsRX0bDPBcKXgdXAJUlTkZHUfhXzB+0J8PfGXxH1HT9G8PaeoijhkeLVI5kgntrk/Ku5/9aIlUlisYJlbCttXJP0rpdhHpmmwafEFAhRU+RQikgckKOBn0FctWzSknv07HsYH2kZ1KUk2o295t+99/brbR9lsX6KKKwPTPlv9rT/kQtL/AOwtF/6KmrgPhn/qY/wrv/2tP+RC0v8A7C0X/oqauA+Gf+pj/CgD640P/VD6CurrlND/ANUPoK6ugD//1v7+KrXX+qNWarXX+qNAHivjX/j3b6V8dv8A8lS8O/8AYWs//Ry19ieNf+PdvpXx2/8AyVLw7/2FrP8A9HLQB+m9FFFABRRRQAV/NX/wVn/4Lc/Hv/gkt+254b074g/CPU/Gf7O+u+FLO4vvEOlWsiXOn6415eRyxx3TkWcp8hLcm2kaJ/mDiQA4b+lSo5oYriJoJ1Do4KsrDIIPUEdwaAP4a/8Agop/wc9/seft1fsZeL/2MP2LPhz418d/ET4vaRP4bsdKvNKjQWzagpiaTbBPcSTTxA74UhRwZApLACvjj/gqP+xF8Sf+Cfv/AAasfBz4A/GdBb+MH+I1nrWsWiv5gs7jU4NUnW2yMjfDE0aS7SV80PtJGCf9DLw14A8CeC5JpfB2iWGktcHMps7aOAyH/aKKufxrraAP4tvgl/weQf8ABMX4b/Bnwj8O9c8DfE+W90DRbDTrh4NM0pomltYEicoW1ZWKllJUlQcdQOlf0Af8EtP+CuH7Nv8AwVy+HXij4mfs26N4k0Wx8JalFpl5F4ktra2meWWISq0Ytbq6UptOCWZTntjmv1JooA/ix/4OAgf+H8f/AATzbHB8Vabz/wBxuyr+06iigAr8+f8AgrUM/wDBK/8AaVA/6JZ4w/8ATVc1+g1FAH83H/BpuCP+CKHw/wA/9BjxD/6cJq+Of+Dgf9iL9rn4K/tnfC//AILkf8E+9BufFHij4aRJb+LtFtd0ks2n2m8CUQp+9kiltpp7W7EWXSLY4XAd1/sNooA/j+T/AIPN/wDgnh/wqP8At+bwF45Xx8IPLPhf7LbFP7Q2/wCr+2efjyPM+XzfJ83b83kZ+SsL/g30/Y3/AGsf2iv22Pil/wAF0f2+fD954V8Q/EJJLPwdo14jwyRWFyERphFJiVIIbaGG1tDIAZY98hGCjt/XofAvgg+KP+E3OjWP9tBPL+3/AGeP7Vs/u+bt349s4rqqAP4D1+PPjv8A4Nrv+Czvx3+Kf7SHgjWtb+AP7R2pzazZ+INEtg629zPcT30MaGRkieS1e5uLeWAypIUKzLkYVub/AOCuP/BZfSf+C73w70H/AIJaf8Ep/AnibxVqXjDWrG91zVdQsvs0EFpZyB0GxGlaOFZjHLPczeWkSx4Afflf9AfUdN07WLKTTNWt47q2mG2SKZA6OPQqwII+orH8L+C/B3gixOl+C9Js9ItmbcYbKBLeMse+2MKM/hQB/GF/wdTfBO0/Zq/4IIfAn9nSxuReQ+AvFPhPw6lwqeWJhpehajbeZtycb/L3YycZ61+6P7av/BMf4Of8FU/+CZvhv9nb4nKmn61B4e0698Na6I90+k6ologjlHdon/1c8WQHjJxhwjL+yNFAH8Zf/Bvv/wAFPvjR+z/8Zr//AIIVf8FNjJo/xJ8BStpvg3Ur1yy31rAu+OwMzf6zEOJbCX7s1uRGMMsYf+zSiigD+LL/AIJsg/8AEXx+142OB4Fuv/Sjw7X9ptFFAH8WPxlBP/B6h8JiB08C3Of/AASarXun/BxL/wAEmfih4l1rS/8Agr9/wTrNxofx3+FZi1HVI9KXFxrFhYjidEAIluraMFWjYH7TbZiIYqiN/W1RQB/JH4T/AODoP9iv4r/8Ep5fj38dhe6R401NZvBev6FpFv8AamtNbvLG4khnVWkVhZXSwyPE5LFSrRnc0bGvgX/gzl/4KKfs7+DPhRc/8E1dabUx8SvFvi3WvE1gEtQ1gbGPTLTdvn35V/8ARJfl2HtzzX961FAH8Aniux/ai/4NeP8Agpp8Rv2ivD3gHV/Hv7JvxkvBPePpZEjac8kjXCKTnbFc2TyzxwC4KR3MDY8wPkx/eXxb/wCDw79kjX/Ckfhf9hn4X+N/iX8S9ZTy9K0a609LaFbhx8ol+zzXM8pU4PlwRtvwRvTO6v7CSARg1ymg+BPA/ha9uNT8MaNY6bc3eTPLa28cLyknJ3sigtz60Af58X/Bbz9rHxh8F/24/wDgnb+2r+2VoN5p3iDw/wCFtD8V+M9G061EV3BexXMFzfW8NvcSoEkSTeixySjaRhmGCa/U3/iNU/4JY/8AQhfFT/wVaT/8uK/r7ooA+V/2Jv2vPhp+3p+y34R/a3+DtnqWn+G/GdvNcWVvq8UUN7GsE8luwlSGWeMHfE2NsjDGDnsPqiiigAooooAKKKKACiiigAooooAKKKKACiiigAooooAKKKKACiiigAooooA8r074U6Zp3jh/Gcd/dOheSaOxYr9njmlAV5F+XfkgdC2B6V6pRRVSm5bmVKjCmmoK13f5hRRRUmoUUUUAFFFFABRRRQAUUUUAeIftHf8AJGtX/wB61/8ASiOvnb4Yf6uP6Cvon9o7/kjWr/71r/6UR187fDD/AFcf0FAH2J4d/wBWPpXaVxfh3/Vj6V2lABRRRQAUUUUAFFFFABRRRQAVXuf9WfpViq9z/qz9KAPGfGf+pk+lfHsn/JUfDv8A2FbP/wBHLX2F4z/1Mn0r49k/5Kj4d/7Ctn/6OWgD9MKKKKACiiigAr5c+Nmlfse/tK6vqP7E/wC0DB4a8Y6heaXBrlz4P1kQXU76e8skMV4trLl9izROqzIMxuv3lOK+o6/nw/4K3f8ABA/Qf+Cl/wAe/DP7Xvw2+MHiP4PfFXwjo8OiadquloJ7dLa3nuLhGVIpLW5jm33UimVLoDaQNhwcgH5Sf8FnP+DZb/gnV8If2PPiJ+2N+yR/aHwn8UfDnSbnxJFbxalNdaZdmxUymHbdvJNFLIRtgMUyhZCo2HIA/Mf9vb9pj44ftYf8GlHwX+KH7Qd9c6z4gt/iZFpA1a8YvcahbacmqwQzSOSTI6qvlO7fM7RlmyxJP7Aap/wbRft//tLWGnfDP/goH+3D4t8efDiyuYpbnQLaG4d75IW3LvlurySMSg8rJLBcFTyB3r9VP+Civ/BDn4Uftmf8E3/BP/BNb4G+JI/hH4T8Barp+oabPHpn9r/urGC5hMbxm5tS0kzXLSyTNIWZ9xYEsSAD079mj/gk3/wS88Qfs4/D/Xtd/Z1+G17fXvhvSri4uJ/C+nSSyyyWsbO7s0BLMzEkknJJya/SP4Kfs/8AwK/Zs8GH4dfs8+DdE8DeH2uHuzpugWEOnWhuJQoeQxQIib2CqC2MkAZ6V/KjpP8AwbY/8FOtB0q20PQ/+Cl/xPsrKyiSC3t4LfVY4ooowFRERfEgVVVQAqgAADAr9wv+CWn7Bf7SX7BPw68UeCv2kv2h/En7Q99rupRXtnqXiRLlZtOiSIRtBH9qv9QYozDedroM/wAOeaAP5+f+DgH/AJTy/wDBPT/satM/9PdlX9p9fiz/AMFAf+CP4/bp/bx/Z5/bb/4WH/wix+A2q22p/wBjf2T9u/tX7PfQ3mz7R9rg+z7vJ2bvKlxu3YOMH9pqACvzA/4LVfDXwN8U/wDgkt+0VoHxA02HVLSw+H+v6zbxzDIjvtJs5by0mXuGiuIY5FPquDkEiv0/r58/a0+BH/DUn7K/xK/ZmOq/2F/wsPwtrHhr+0vI+0/Y/wC1rSW18/yd8fmeX5m/Z5ibsY3LnIAPwO/4NGfAvg/wv/wRv8N+KfD+nQ2uo+JfEOuXeqXKLiS6mgumto2dup2QxIijoAPUnP5s/tZ+LtF/4J9f8HeHgb9pP4xbtF8E/GjQLXTv7XmwtqJ57D+yF3SEhVEdzb23nFiPLjcO3ykZ/p3/AOCTf/BPcf8ABL39ifw/+x4PF3/Cc/2Feajd/wBr/YP7M837fcPPt+z+fc7dm/bnzTuxnjpVf/gp/wD8Eq/2Xf8Agq78DovhB+0Taz21/pDzXHh/XrBgl/pN1MoVnjzlJI5AqiWGQFHCj7rqjqAfpVkY3Z49a/hm/Zj8WaJ/wUE/4O+fFv7Q3wczrXgv4JaBd6dJq0OGtTPBp7aU+2QEqwe6upxEQT5iRl1+UEj3Bf8Ag24/4KjxeC/+Gb4f+CgHixfhR9l+xfYPsV754s9vl/ZPL/tPb9n8v5NnneXt48vHFfvZ/wAEr/8Agk5+zL/wSW+B918JfgCt1qWp65LHd+IPEGpFTfancRKVj3BAEjhiDMIYkGEDEks7M7AH88P/AAbM6ppnw2/4Kr/8FBfgF4iuEj8QT+MftkFuTh5bfStW1eGaVB3QNdwc/wC2vrX6Cf8AB2n498NeEP8Agi3418N65dRwXfirXPD+m6dG7Yaa4ivo7xlUdyIbaRj7Ka0P+Ckf/BvNpP7V/wC1bF+37+xv8XdZ+AHxmZUXUNV0mFpre+McXkCQrDNbSwzPGBHK6yOkiDDRElmPyp4L/wCDY742/tA/HLwz8Yv+CuH7Teu/HnS/CUvnWXhn7PJBZuwZW2PLNPKFhl2ATxw28byDA80YoA+Af+C8nhbUvBX/AAazfsieGNZXZd2tx4DEyEYKO3hu/YqfdScH6V8e/wDBVH/g3O1n9lD9jXwL+3r+zbr3iP4u6L4atbDWvGfhjxXc/agmnvHHM0sH2RbaQWsfzJcqreakTeYrqEdh/Zv/AMFnP+CUlv8A8Fcv2TND/ZatfHC/DeLQ/E1n4hS/TSv7VVltLW6thAIBc2gUEXO4P5hxsxtOcj9QvBXgSx8KfDPSPhnqDJqdtpumW+mSmWMBLiOGJYmLRksMOBypJGDjmgD88/8Agjv+2j+yZ+27+wn4P8f/ALIGlWXhPQtEtY9HvPCdmqR/8I/e26jzLMogUbed8Um0ebGwc4YsB+o1fzqfsWf8EDLz/gnV/wAFDfE37W/7Gvxgk8L/AAx8ZSsNX+GNxoZu7OS2cFhFHei/j8swTMz2sn2ZnhQmIl1Z939FdAH+c3qX7Cnjr/goR/wc/ftTfBXwB8XfEfwYu9O0N9Zl1rwy8iXdzDCNGga0cxz25MTmdZGBYjdEvynqP6Nv+Cfv/Btd+x/+xb8e4f2svij4n8Q/Gv4n2EyXGn6z4rmDx2NxGMJPFCu4vOowFeeWXZgFAjANX0R+zZ/wSAH7PX/BXz4vf8FWf+Fh/wBsH4q6FLov/CL/ANk/Z/sHmyac/mfbftcnnY+wY2/Z4/8AWdfl+b9pqAP8/T/gql+x14P/AG+P+Dq/wT+yr498Qa14X0rxL4IjebUvD06W2owmx03ULpfKkkjlVd7RBHyhyhIGCc18s6z+yR4C/wCDbn/gs74P+Ln7XPho/Fz4E+MC8Ph3xjrkH26+0WYshNw6AeU19YMAWxGS8DmWALKNif2F+Mv+CP48Xf8ABajwn/wWAPxD+z/8IvoUmijwl/ZO7z/Msruz837f9rG3H2rft+zN9zGecj7c/b6/YY+B3/BRf9l7xH+yx8fbPztJ1uPfa3kag3Wm38YPkXlsx+7LEx+jqWRso7AgHo/xl8UeG/HH7Knivxn4Nv7fVdI1fwpf3lle2kizQXFvPZu8csbqSro6kMrAkEHIr+Y//gzHsrXUv+CTXjbTr5BJDcfEvWI5FPRlfS9KBH4g17P8Nf8Aggn+3x8Iv2D7f9gv4d/ts6po2haZrBvdN1Gy8KNFcwaZcQTx3Wlv/wATk+ZayySpMgLL5TK4wyuBH1f/AASI/wCCBf7RH/BKH4q2GqaL+1Lqfi/4axTX97f+BU8PHTLC+vr22Futw7/2lcgPHsibPlHPlgZHWgD8vv8Ag0r+JOl/softCftH/wDBKj4xyNonjjR/ETanpljeYje7Gn77O8EZJG91RLeVQud8TM65VSa/uP1rW9G8N6Pd+IvEV3DYafYQvcXNzcyLFDDDGCzvI7EKqqoJZiQABk1+A3/BU3/g3p/Z7/4KK/F2w/at+G3i/Vvgv8atPkt3Hi7QVaVrg2ihYHmgWaBvPhCqIp4ZopAqhWLBU2/nX4j/AODaX/goP+0rDB8OP26/26PF/jf4d27r5ujW0FxvvUQ/L5huL2SESDqHliuCD69aAPnz/gu0Pg3+03/wWu/4J/Suml+N/AXjp9LlVZFjvtN1XTL/AFOJlJVg0c0E0Tg4IKsp9DX9R/8Aw6E/4JT/APRtnwx/8JTTf/kevyd/4KEf8G35/a4vvgHN+zx8dNV+Do/Z68LWfhfw9dQ6W2pant08p9muReQ32ntFOgjX5kUHd8wK9K+ev+Icf/gqd/0k4+Kn/frVv/mkoA/rY8H+D/Cfw98JaX4B8BaZa6LoeiWkNhp2n2MK29raWtsgjihhiQBI440UKiKAqqAAMCujr5X/AGJvgH8S/wBl79lvwj8BvjF8RdS+LXiTw7bzQ3vi3V1lW91NpJ5JVeUTXF1JlEdYhunckIOR0H1RQAUUUUAFFFFABRRRQAUUUUAFFFFABRRRQAVFNBDcxNBcIsiOMMrDII9walooA53TvB/hLSLn7bpOl2lrN/z0hgRG/NQDXRUUU229yYwjFWirBRRRSKCiiigD5U+Gdtfp4/tfD8thdwSaG+tzXk00LLC7X10rwlJCNsnmIS3yk4AwcGvquiitKk+d3OXCYb2EHG9/+Akl+CV+7+4KKKKzOoKKKKAI0hhjZnjUKXOWIGCT0yfwqSiigAooooAKKKKAPlv9rT/kQtL/AOwtF/6KmrgPhn/qY/wrv/2tP+RC0v8A7C0X/oqauA+Gf+pj/CgD640P/VD6CurrlND/ANUPoK6ugD//1/7+KrXX+qNWarXX+qNAHivjX/j3b6V8dv8A8lS8O/8AYWs//Ry19ieNf+PdvpXx2/8AyVLw7/2FrP8A9HLQB+m9FFFABRRRQAUV/IvRX0H9hf8ATz8P+Cflf/ETP+oT/wAn/wDtD+uiiv5F6KP7C/6efh/wQ/4iZ/1Cf+T/AP2h/XRRX8i9FH9hf9PPw/4If8RM/wCoT/yf/wC0P66KK/kXoo/sL/p5+H/BD/iJn/UJ/wCT/wD2h/XRRX8i9FH9hf8ATz8P+CH/ABEz/qE/8n/+0P66KK/kXoo/sL/p5+H/AAQ/4iZ/1Cf+T/8A2h/XRRX8i9FH9hf9PPw/4If8RM/6hP8Ayf8A+0P66KK/kXoo/sL/AKefh/wQ/wCImf8AUJ/5P/8AaH9dFFfyL0Uf2F/08/D/AIIf8RM/6hP/ACf/AO0P66KK/kXoo/sL/p5+H/BD/iJn/UJ/5P8A/aH9dFFfyL0Uf2F/08/D/gh/xEz/AKhP/J//ALQ/roor+Reij+wv+nn4f8EP+Imf9Qn/AJP/APaH9dFFfyL0Uf2F/wBPPw/4If8AETP+oT/yf/7Q/roor+Reij+wv+nn4f8ABD/iJn/UJ/5P/wDaH9dFFfyL0Uf2F/08/D/gh/xEz/qE/wDJ/wD7Q/roor+Reij+wv8Ap5+H/BD/AIiZ/wBQn/k//wBof10UV/IvRR/YX/Tz8P8Agh/xEz/qE/8AJ/8A7Q/roor+Reij+wv+nn4f8EP+Imf9Qn/k/wD9of10UV/IvRR/YX/Tz8P+CH/ETP8AqE/8n/8AtD+uiiv5F6KP7C/6efh/wQ/4iZ/1Cf8Ak/8A9of10UV/IvRR/YX/AE8/D/gh/wARM/6hP/J//tD+uiiv5F6KP7C/6efh/wAEP+Imf9Qn/k//ANof10UV/IvRR/YX/Tz8P+CH/ETP+oT/AMn/APtD+uiiv5F6KP7C/wCnn4f8EP8AiJn/AFCf+T//AGh/XRRX8i9FH9hf9PPw/wCCH/ETP+oT/wAn/wDtD+uiiv5F6KP7C/6efh/wQ/4iZ/1Cf+T/AP2h/XRRX8i9FH9hf9PPw/4If8RM/wCoT/yf/wC0P66KK/kXoo/sL/p5+H/BD/iJn/UJ/wCT/wD2h/XRRX8i9FH9hf8ATz8P+CH/ABEz/qE/8n/+0P66KK/kXoo/sL/p5+H/AAQ/4iZ/1Cf+T/8A2h/XRRX4Xf8ABMj/AJLzq/8A2ALj/wBKLav3RrycZhvYVPZ3ufdZBnH9p4RYrk5dWrXvt52X5BRRRXKe0eIftHf8ka1f/etf/SiOvnb4Yf6uP6Cvon9o7/kjWr/71r/6UR187fDD/Vx/QUAfYnh3/Vj6V2lcX4d/1Y+ldpQAUUUUAFFFFABRRRQAUUUUAFV7n/Vn6VYqvc/6s/SgDxnxn/qZPpXx7J/yVHw7/wBhWz/9HLX2F4z/ANTJ9K+PZP8AkqPh3/sK2f8A6OWgD9MKKKKACiiigAor8i/+HqX/AFIf/lU/+5qP+HqX/Uh/+VT/AO5q9D+ysV/J+K/zPlf9dsl/5/8A/ks//kT9dKK/Iv8A4epf9SH/AOVT/wC5qP8Ah6l/1If/AJVP/uaj+ysV/J+K/wAw/wBdsl/5/wD/AJLP/wCRP10or8i/+HqX/Uh/+VT/AO5qP+HqX/Uh/wDlU/8Auaj+ysV/J+K/zD/XbJf+f/8A5LP/AORP10or8i/+HqX/AFIf/lU/+5qP+HqX/Uh/+VT/AO5qP7KxX8n4r/MP9dsl/wCf/wD5LP8A+RP10or8i/8Ah6l/1If/AJVP/uaj/h6l/wBSH/5VP/uaj+ysV/J+K/zD/XbJf+f/AP5LP/5E/XSivyL/AOHqX/Uh/wDlU/8Auaj/AIepf9SH/wCVT/7mo/srFfyfiv8AMP8AXbJf+f8A/wCSz/8AkT9dKK/Iv/h6l/1If/lU/wDuaj/h6l/1If8A5VP/ALmo/srFfyfiv8w/12yX/n//AOSz/wDkT9dKK/Iv/h6l/wBSH/5VP/uaj/h6l/1If/lU/wDuaj+ysV/J+K/zD/XbJf8An/8A+Sz/APkT9dKK/Iv/AIepf9SH/wCVT/7mo/4epf8AUh/+VT/7mo/srFfyfiv8w/12yX/n/wD+Sz/+RP10or8i/wDh6l/1If8A5VP/ALmo/wCHqX/Uh/8AlU/+5qP7KxX8n4r/ADD/AF2yX/n/AP8Aks//AJE/XSivyL/4epf9SH/5VP8A7mo/4epf9SH/AOVT/wC5qP7KxX8n4r/MP9dsl/5//wDks/8A5E/XSivyL/4epf8AUh/+VT/7mo/4epf9SH/5VP8A7mo/srFfyfiv8w/12yX/AJ//APks/wD5E/XSivyL/wCHqX/Uh/8AlU/+5qP+HqX/AFIf/lU/+5qP7KxX8n4r/MP9dsl/5/8A/ks//kT9dKK/Iv8A4epf9SH/AOVT/wC5qP8Ah6l/1If/AJVP/uaj+ysV/J+K/wAw/wBdsl/5/wD/AJLP/wCRP10or8i/+HqX/Uh/+VT/AO5qP+HqX/Uh/wDlU/8Auaj+ysV/J+K/zD/XbJf+f/8A5LP/AORP10or8i/+HqX/AFIf/lU/+5qP+HqX/Uh/+VT/AO5qP7KxX8n4r/MP9dsl/wCf/wD5LP8A+RP10or8i/8Ah6l/1If/AJVP/uaj/h6l/wBSH/5VP/uaj+ysV/J+K/zD/XbJf+f/AP5LP/5E/XSivyL/AOHqX/Uh/wDlU/8Auaj/AIepf9SH/wCVT/7mo/srFfyfiv8AMP8AXbJf+f8A/wCSz/8AkT9dKK/Iv/h6l/1If/lU/wDuaj/h6l/1If8A5VP/ALmo/srFfyfiv8w/12yX/n//AOSz/wDkT9dKK/Iv/h6l/wBSH/5VP/uaj/h6l/1If/lU/wDuaj+ysV/J+K/zD/XbJf8An/8A+Sz/APkT9dKK/Iv/AIepf9SH/wCVT/7mo/4epf8AUh/+VT/7mo/srFfyfiv8w/12yX/n/wD+Sz/+RP10or8i/wDh6l/1If8A5VP/ALmo/wCHqX/Uh/8AlU/+5qP7KxX8n4r/ADD/AF2yX/n/AP8Aks//AJE/XSivyL/4epf9SH/5VP8A7mo/4epf9SH/AOVT/wC5qP7KxX8n4r/MP9dsl/5//wDks/8A5E/XSivyL/4epf8AUh/+VT/7mo/4epf9SH/5VP8A7mo/srFfyfiv8w/12yX/AJ//APks/wD5E/XSivyL/wCHqX/Uh/8AlU/+5qP+HqX/AFIf/lU/+5qP7KxX8n4r/MP9dsl/5/8A/ks//kT9dKK/Iv8A4epf9SH/AOVT/wC5qP8Ah6l/1If/AJVP/uaj+ysV/J+K/wAw/wBdsl/5/wD/AJLP/wCRP10or8i/+HqX/Uh/+VT/AO5qP+HqX/Uh/wDlU/8Auaj+ysV/J+K/zD/XbJf+f/8A5LP/AORP10or8i/+HqX/AFIf/lU/+5qP+HqX/Uh/+VT/AO5qP7KxX8n4r/MP9dsl/wCf/wD5LP8A+RP10or8i/8Ah6l/1If/AJVP/uaj/h6l/wBSH/5VP/uaj+ysV/J+K/zD/XbJf+f/AP5LP/5E/XSivyL/AOHqX/Uh/wDlU/8Auaj/AIepf9SH/wCVT/7mo/srFfyfiv8AMP8AXbJf+f8A/wCSz/8AkT9dKK+Rf2Vv2qf+Gmf7e/4kP9if2J9l/wCXr7T5v2nzf+mUe3b5fvnPbHP11XHVpSpycJqzR9BgsdRxlGOIw8rwlezs1s2no7PdBRRRWZ1Hy3+1p/yIWl/9haL/ANFTVwHwz/1Mf4V3/wC1p/yIWl/9haL/ANFTVwHwz/1Mf4UAfXGh/wCqH0FdXXKaH/qh9BXV0Af/0P7+KrXX+qNWarXX+qNAHivjX/j3b6V8dv8A8lS8O/8AYWs//Ry19ieNf+PdvpXx2/8AyVLw7/2FrP8A9HLQB+m9FFFABRRRQAUUUUAFFFFABRRRQAUUUUAFFFFABRRRQAUUUUAFFFFABRRRQAUUUUAFFFFABRRRQAUUUUAFFFFABRRRQAUUUUAFFFFABRRRQAUUUUAFFFFABRRRQAUUUUAFFFFABRRRQAUUUUAFFFFABRRRQAUUUUAFFFFABRRRQAUUUUAFFFFAHiH7R3/JGtX/AN61/wDSiOvnb4Yf6uP6Cvon9o7/AJI1q/8AvWv/AKUR187fDD/Vx/QUAfYnh3/Vj6V2lcX4d/1Y+ldpQAUUUUAFFFFABRRRQAUUUUAFV7n/AFZ+lWKr3P8Aqz9KAPGfGf8AqZPpXx7J/wAlR8O/9hWz/wDRy19heM/9TJ9K+PZP+So+Hf8AsK2f/o5aAP0wooooAKKKKAPyL/4dW/8AU+f+Uv8A+6aP+HVv/U+f+Uv/AO6a/XSivQ/tXFfz/gv8j5X/AFJyX/nx/wCTT/8Akj8i/wDh1b/1Pn/lL/8Aumj/AIdW/wDU+f8AlL/+6a/XSij+1cV/P+C/yD/UnJf+fH/k0/8A5I/Iv/h1b/1Pn/lL/wDumj/h1b/1Pn/lL/8Aumv10oo/tXFfz/gv8g/1JyX/AJ8f+TT/APkj8i/+HVv/AFPn/lL/APumj/h1b/1Pn/lL/wDumv10oo/tXFfz/gv8g/1JyX/nx/5NP/5I/Iv/AIdW/wDU+f8AlL/+6aP+HVv/AFPn/lL/APumv10oo/tXFfz/AIL/ACD/AFJyX/nx/wCTT/8Akj8i/wDh1b/1Pn/lL/8Aumj/AIdW/wDU+f8AlL/+6a/XSij+1cV/P+C/yD/UnJf+fH/k0/8A5I/Iv/h1b/1Pn/lL/wDumj/h1b/1Pn/lL/8Aumv10oo/tXFfz/gv8g/1JyX/AJ8f+TT/APkj8i/+HVv/AFPn/lL/APumj/h1b/1Pn/lL/wDumv10oo/tXFfz/gv8g/1JyX/nx/5NP/5I/Iv/AIdW/wDU+f8AlL/+6aP+HVv/AFPn/lL/APumv10oo/tXFfz/AIL/ACD/AFJyX/nx/wCTT/8Akj8i/wDh1b/1Pn/lL/8Aumj/AIdW/wDU+f8AlL/+6a/XSij+1cV/P+C/yD/UnJf+fH/k0/8A5I/Iv/h1b/1Pn/lL/wDumj/h1b/1Pn/lL/8Aumv10oo/tXFfz/gv8g/1JyX/AJ8f+TT/APkj8i/+HVv/AFPn/lL/APumj/h1b/1Pn/lL/wDumv10oo/tXFfz/gv8g/1JyX/nx/5NP/5I/Iv/AIdW/wDU+f8AlL/+6aP+HVv/AFPn/lL/APumv10oo/tXFfz/AIL/ACD/AFJyX/nx/wCTT/8Akj8i/wDh1b/1Pn/lL/8Aumj/AIdW/wDU+f8AlL/+6a/XSij+1cV/P+C/yD/UnJf+fH/k0/8A5I/Iv/h1b/1Pn/lL/wDumj/h1b/1Pn/lL/8Aumv10oo/tXFfz/gv8g/1JyX/AJ8f+TT/APkj8i/+HVv/AFPn/lL/APumj/h1b/1Pn/lL/wDumv10oo/tXFfz/gv8g/1JyX/nx/5NP/5I/Iv/AIdW/wDU+f8AlL/+6aP+HVv/AFPn/lL/APumv10oo/tXFfz/AIL/ACD/AFJyX/nx/wCTT/8Akj8i/wDh1b/1Pn/lL/8Aumj/AIdW/wDU+f8AlL/+6a/XSij+1cV/P+C/yD/UnJf+fH/k0/8A5I/Iv/h1b/1Pn/lL/wDumj/h1b/1Pn/lL/8Aumv10oo/tXFfz/gv8g/1JyX/AJ8f+TT/APkj8i/+HVv/AFPn/lL/APumj/h1b/1Pn/lL/wDumv10oo/tXFfz/gv8g/1JyX/nx/5NP/5I/Iv/AIdW/wDU+f8AlL/+6aP+HVv/AFPn/lL/APumv10oo/tXFfz/AIL/ACD/AFJyX/nx/wCTT/8Akj8i/wDh1b/1Pn/lL/8Aumj/AIdW/wDU+f8AlL/+6a/XSij+1cV/P+C/yD/UnJf+fH/k0/8A5I/Iv/h1b/1Pn/lL/wDumj/h1b/1Pn/lL/8Aumv10oo/tXFfz/gv8g/1JyX/AJ8f+TT/APkj8i/+HVv/AFPn/lL/APumj/h1b/1Pn/lL/wDumv10oo/tXFfz/gv8g/1JyX/nx/5NP/5I/Iv/AIdW/wDU+f8AlL/+6aP+HVv/AFPn/lL/APumv10oo/tXFfz/AIL/ACD/AFJyX/nx/wCTT/8Akj8i/wDh1b/1Pn/lL/8Aumj/AIdW/wDU+f8AlL/+6a/XSij+1cV/P+C/yD/UnJf+fH/k0/8A5I/Iv/h1b/1Pn/lL/wDumj/h1b/1Pn/lL/8Aumv10oo/tXFfz/gv8g/1JyX/AJ8f+TT/APkj8i/+HVv/AFPn/lL/APumj/h1b/1Pn/lL/wDumv10oo/tXFfz/gv8g/1JyX/nx/5NP/5I/Iv/AIdW/wDU+f8AlL/+6aP+HVv/AFPn/lL/APumv10oo/tXFfz/AIL/ACD/AFJyX/nx/wCTT/8Akj8i/wDh1b/1Pn/lL/8Aumj/AIdW/wDU+f8AlL/+6a/XSij+1cV/P+C/yD/UnJf+fH/k0/8A5I+Rf2Vv2Vv+GZv7e/4n39t/239l/wCXX7N5X2bzf+msm7d5ntjHfPH11RRXHVqyqSc5u7Z9BgsDRwdGOHw8bQjeyu3u23q7vdhRRRWZ1Hy3+1p/yIWl/wDYWi/9FTVwHwz/ANTH+Fd/+1p/yIWl/wDYWi/9FTVwHwz/ANTH+FAH1xof+qH0FdXXKaH/AKofQV1dAH//0f7+KrXX+qNWarXX+qNAHivjX/j3b6V8dv8A8lS8O/8AYWs//Ry19ieNf+PdvpXx2/8AyVLw7/2FrP8A9HLQB+m9FFFABRRRQAUUUUAFFFFABRRRQAUUUUAFFFFABRRRQAUUUUAFFFFABRRRQAUUUUAFFFFABRRRQAUUUUAFFFFABRRRQAUUUUAFFFFABRRRQAUUUUAFFFFABRRRQAUUUUAFFFFABRRRQAUUUUAFFFFABRRRQAUUUUAFFFFABRRRQAUUUUAFFFFAHiH7R3/JGtX/AN61/wDSiOvnb4Yf6uP6Cvon9o7/AJI1q/8AvWv/AKUR187fDD/Vx/QUAfYnh3/Vj6V2lcX4d/1Y+ldpQAUUUUAFFFFABRRRQAUUUUAFV7n/AFZ+lWKr3P8Aqz9KAPGfGf8AqZPpXx7J/wAlR8O/9hWz/wDRy19heM/9TJ9K+PZP+So+Hf8AsK2f/o5aAP0wooooAKKKKACiiigAooooAKKKKACiiigAooooAKKKKACiiigAooooAKKKKACiiigAooooAKKKKACiiigAooooAKKKKACiiigAooooAKKKKACiiigAooooAKKKKACiiigAooooAKKKKACiiigAooooAKKKKACiiigAooooAKKKKACiiigAooooA+W/2tP+RC0v/sLRf+ipq4D4Z/6mP8K7/wDa0/5ELS/+wtF/6KmrgPhn/qY/woA+uND/ANUPoK6uuU0P/VD6CuroA//S/v4qtdf6o1Zqtdf6o0AeK+Nf+PdvpXx2/wDyVLw7/wBhaz/9HLX2J41/492+lfHb/wDJUvDv/YWs/wD0ctAH6b0UUUAFFFFABRRRQAUUUUAFFFFABRRRQAUUUUAFFFFABRRRQAUUUUAFFFFABRRRQAUUUUAFFFFABRX84P8AwdA/t6/tY/8ABO79gXwh8a/2OvFf/CH+J9U+IGn6JdXn2Gz1DzLCfTtSneLy76C4iGZbeJtwQONuAQCwPyB/wxv/AMHkn/R2Pwq/8Ftr/wDMrQB/X7RX8gX/AAxv/wAHkn/R2Pwq/wDBba//ADK0f8Mb/wDB5J/0dj8Kv/Bba/8AzK0Af1+0V/IF/wAMb/8AB5J/0dj8Kv8AwW2v/wAytH/DG/8AweSf9HY/Cr/wW2v/AMytAH9ftFfyBf8ADG//AAeSf9HY/Cr/AMFtr/8AMrR/wxv/AMHkn/R2Pwq/8Ftr/wDMrQB/X7RX8gX/AAxv/wAHkn/R2Pwq/wDBba//ADK0f8Mb/wDB5J/0dj8Kv/Bba/8AzK0Af1+0V/IF/wAMb/8AB5J/0dj8Kv8AwW2v/wAytH/DG/8AweSf9HY/Cr/wW2v/AMytAH9ftFfyBf8ADG//AAeSf9HY/Cr/AMFtr/8AMrR/wxv/AMHkn/R2Pwq/8Ftr/wDMrQB/X7RX8IfxR/aR/wCDkP8A4J2/t9fspfBT9un9oTwr4w8MfHT4gadoktn4Z0jTn8ywg1HToL6KeSXQ7GWLzYr5VRoXLj5jlCFJ/u8oAKKKKACiiigAooooAKKKKACiiigAooooAKKKKACiiigAooooAKKKKACiiigAooooA8Q/aO/5I1q/+9a/+lEdfO3ww/1cf0FfRP7R3/JGtX/3rX/0ojr52+GH+rj+goA+xPDv+rH0rtK4vw7/AKsfSu0oAKKKKACiiigAooooAKKKKACq9z/qz9KsVXuf9WfpQB4z4z/1Mn0r49k/5Kj4d/7Ctn/6OWvsLxn/AKmT6V8eyf8AJUfDv/YVs/8A0ctAH6YUUUUAFFFFABRRRQAUUUUAFFFFABRRRQAUUUUAFFFFABRRRQAUUUUAFFFFABRRRQAUUUUAFFFFABRXyB+2t+3r+yd/wTu+Fmn/ABr/AGxfFf8Awh/hjVNVi0S1vPsN5qHmX88M06ReXYwXEozFbytuKBBtwSCVB/MD/iKN/wCCFH/Rc/8Ay2fEP/ysoA/f6ivwB/4ijf8AghR/0XP/AMtnxD/8rKP+Io3/AIIUf9Fz/wDLZ8Q//KygD9/qK/AH/iKN/wCCFH/Rc/8Ay2fEP/yso/4ijf8AghR/0XP/AMtnxD/8rKAP3+or8Af+Io3/AIIUf9Fz/wDLZ8Q//Kyj/iKN/wCCFH/Rc/8Ay2fEP/ysoA/f6ivwB/4ijf8AghR/0XP/AMtnxD/8rKP+Io3/AIIUf9Fz/wDLZ8Q//KygD9/qK/AH/iKN/wCCFH/Rc/8Ay2fEP/yso/4ijf8AghR/0XP/AMtnxD/8rKAP3+or8Af+Io3/AIIUf9Fz/wDLZ8Q//Kyj/iKN/wCCFH/Rc/8Ay2fEP/ysoA/f6ivxB+E//Bx5/wAEY/jj8U/DXwU+Fvxk/tTxP4w1Wy0TSLP/AIR7XYPtF/qEyQW8XmTaekSb5XVd0jqi5yxAya/b6gAooooAKKKKACiiigAooooAKKKKACiiigAooooAKKKKACiiigAooooAKKKKACiiigD5b/a0/wCRC0v/ALC0X/oqauA+Gf8AqY/wrv8A9rT/AJELS/8AsLRf+ipq4D4Z/wCpj/CgD640P/VD6CurrlND/wBUPoK6ugD/0/7+KrXX+qNWarXX+qNAHivjX/j3b6V8dv8A8lS8O/8AYWs//Ry19ieNf+PdvpXx2/8AyVLw7/2FrP8A9HLQB+m9FFFABRRRQAUUUUAFFcR8TfGY+HPw38Q/EI232z+wdNu9R+z7/L837LE0uzdhtu7bjO04znBr+Wb4Rf8ABx3+218UP2a7X9tqH9hnxFdfBqWO6uZvEeheLbXVZY7XT5pILuYWX2GCcrC8Um4tsXCElgvzUAf1oUV83/siftW/Bz9uD9m/wn+1R8Ab2S/8KeMLQ3Vm88flTxtG7QzQypkhZYZkeKQAsu9DtZlwT5/+1F8e/wBpj4P/ABP+FHhD4E/CGf4k6F4z19dN8VaxDqUdivhjTjJCpvnieNzcgLJI/lqUP7rGfmoA+0KKZJJHEu+Vgo4GScDngU+gAoqGC4guY/NtnWRclcqQRlTgjj0PBqagAoqKSeGFkSV1UyHagJwWOCcD1OAT+FS0AFFQwXEFzH5ts6yLkrlSCMqcEceh4NTUAFFFRSzwQbRM6pvYKu44yx7D1NAEtFfGH7XPx7/aX+COs/Dqw/Z4+EU/xTtvFPiO30rxFPDqUenjQNMlZRJfsHjk89YwSfLXaTjrzX2RcXNtaR+ddSLEmQu5yFGWOAMn1JwPegCeivi7/got+0x4q/Y2/Ya+KP7UvgewtNV1fwLoFzq1paX2/wCzTSwAELJ5bI+099rA+9dt+xj8c9Y/aT/ZB+Ev7Qvi23ttO1j4h+DND8S3VnalhDFPqdlDdSpEHZn8tGl2ruJOMZJNAH03RX5+/GL/AIKD+BPg3/wUD+D/APwT41bQL+8134w6drOpWOqQvGLS0TRbeW5kWVWPmEusRC7QQCRmv0CoAKKKKAP5Av8Ag9W/5RZeAf8Asqulf+mjWK/r9r+QL/g9W/5RZeAf+yq6V/6aNYr+v2gAormPG3izS/APgzV/HWuEiy0WyuL+4K9fKto2kfHvtU1/Lnq/xi/4KOf8FDPBXh7xl4e8WaP4P8LePfGC6P4d8OR2qS7n0lZNR+03MzRSSmOBrRd/JEjg/ulTggH9WdFfh74c/b+/ai+Hf/BOjx78a/2m/C83hv4ieELk6RYPf6fJZw6lPcGOO3uEhkVFcK8jF/L+QiMkYBwOa8Faz/wXc8deDdJ8babceBba31izgvoormMxzIlwgkVZFCHa4DYYZODxQB+89Ffjh+1n+3Z+0D4E+KPgr9iP9mbS9N8R/GLXrG3n1e8ugf7P08GMtI5RWXBIVpjuOEi2/K5cAcl+zx+1r+2r8I/24dK/Yl/bml0TXJvF2mSahousaLGYkDRrLJtPyRZU+TJGQ0SsHCnJU5IB+3lFFFABX52/Gn/grf8A8EyP2ePFs3gH4x/HXwbo2uWrmK4086pDPc28gOCs0cJdomHpIFNfnH+2x41+Ov8AwU5/bw1X/gkz+zv4r1DwD8L/AId6ZZat8ZvFWiyeVqlwdVXfZaBZTDPktcQgyzyc5j3KeEaOX0/xt4O/4N/v+CO/hzw/8IvidoHw9+Hsms25NnFqWmLqmrXkER2tPcStDc3bxgggzTtsBBG4YOAD9afgJ+1D+zd+1P4Yfxn+zZ480Dx5pcJVZrjQtQgv1hduiy+S7GNuD8rgN7V7tX8+v7Tv/BHj4CfEnQbH9ub/AIJF3umfBn402timseGPEPg4x2ugeIYZEE0drqFrB/odxaXi4zKIyfmDt5ijYfv/AP4Jeftzwf8ABQr9kDRPjxquk/8ACOeK7S5utA8W6Ec7tK8QaW/k3lvhiWC7sSRhiWEcibjuzQB+Bv8Awcd/8pTf+CY//ZVZP/Tv4br+v2v5Av8Ag47/AOUpv/BMf/sqsn/p38N1/X7QAUUUUAFFFFABRRRQAUUUUAFFFFABRRRQAUUUUAFFFFABRRRQAUUUUAFFFFABRRRQB4h+0d/yRrV/961/9KI6+dvhh/q4/oK+if2jv+SNav8A71r/AOlEdfO3ww/1cf0FAH2J4d/1Y+ldpXF+Hf8AVj6V2lABRRRQAUUUUAFFFFABRRRQAVXuf9WfpViq9z/qz9KAPGfGf+pk+lfHsn/JUfDv/YVs/wD0ctfYXjP/AFMn0r49k/5Kj4d/7Ctn/wCjloA/TCiiigAooooAKKKKACiuS8eeP/Anws8Haj8Q/idrdh4c8P6RC1xf6nqlzHZ2drCvWSaaVljjQd2ZgBXzl8M/+CgX7Bnxp8T2/gj4OfG3wD4s1q7bZBYaN4k06/upWPOEignd2PsAaAPrqiivItc+P/wM8M/GHRf2evEfjHRbDx54jtZb3SvDtxfQx6pfW0AkaSWC1ZhLIiLFIWZVIARiehoA9dooooAKKKKACiiigAooooAKKKKACivIvFPx/wDgZ4H+KPh74IeM/GOi6T4y8WpNJomh3d9DDqOopbgtKba3dxJKEVSWKKcAHPSvXaACivnz9p79qv8AZ+/Yy+Et18df2m/EsHhPwnZTwWs2o3EcsqJLcsEiXbCkj/MxxwuPXFfQdABRWBF4r8LzeJJPBsOpWr6xDALmSxWZDcrASFEhizvCZIG4jGT1rfoAKKKKAP5Av+D1b/lFl4B/7KrpX/po1iv3+/4dPf8ABLL/AKNp+FX/AIRukf8AyLX4A/8AB6t/yiy8A/8AZVdK/wDTRrFf1+0AfAH/AA6e/wCCWX/RtPwq/wDCN0j/AORaP+HT3/BLL/o2n4Vf+EbpH/yLX3/X5h/tJ/8ABW79jj9nnULvwgviW38Q+J7G8t7W406yEzxwh50juGkuYoZola3QvI0YLSEps2hjQB3v/Dp7/gll/wBG0/Cr/wAI3SP/AJFo/wCHT3/BLL/o2n4Vf+EbpH/yLX0x4X/aJ+B/jX4Py/H7wt4nsb3wbb2013NqqSfuIooATIZM4ZGQA7lYBgeCM189/wDDzb9gX/oquhf9/m/+JoAy/wDh09/wSy/6Np+FX/hG6R/8i0f8Onv+CWX/AEbT8Kv/AAjdI/8AkWvqfxr8dvg38OPh5bfFnx/4m07RvDd5HFJb6heTrDDKJ13xhCxBZnXlVALEdq4r4Fftdfs1/tMTXlp8C/GNh4iuNPUPcW8DMk8aE7Q5ikCPszxuC7c455FAHhv/AA6e/wCCWX/RtPwq/wDCN0j/AORaP+HT3/BLL/o2n4Vf+EbpH/yLX3/RQB8Af8Onv+CWX/RtPwq/8I3SP/kWj/h09/wSy/6Np+FX/hG6R/8AItcB/wAFFP8Agpp4T/Ydl8MfCH4f+Fb/AOKnxr+IsjweD/AWiuqXd8Y877m5mYMtpZRYPmTuCBhsAqkjJ8Xab8C/+Djv42Ww8c+OPjv8NvglPcDzYvDPh3wv/wAJHHbqeVjuLu/kBaQDiRoSybslTjFAH6If8Onv+CWX/RtPwq/8I3SP/kWj/h09/wAEsv8Ao2n4Vf8AhG6R/wDItfmLqf8AwUP/AOCkf/BMbxDpqf8ABXbwt4f8ZfB/UbqKxPxZ+HsU8aaPJOwSJta0yXc8cbuQDPb4jThQJHYLX9E2ia3o3iXRrTxH4du4b/T9QhjubW5t3EsM0MqhkkjdSVZGUgqwJBByKAP4lv8AguP+yd+yz+y//wAFTf8Agm3/AMM0fDTwr8O/7c+Kqf2l/wAIzo1npH2z7Nq/h7yfP+yxReb5XmybN+du9sY3HP8Ab5X8gX/Bx3/ylN/4Jj/9lVk/9O/huv6/aACiiigAooooAKKKKACiiigAooooAKKKKACiiigAooooAKKKKACiiigAooooAKKKKAPlv9rT/kQtL/7C0X/oqauA+Gf+pj/Cu/8A2tP+RC0v/sLRf+ipq4D4Z/6mP8KAPrjQ/wDVD6CurrlND/1Q+grq6AP/1P7+KrXX+qNWarXX+qNAHivjX/j3b6V8dv8A8lS8O/8AYWs//Ry19ieNf+PdvpXx2/8AyVLw7/2FrP8A9HLQB+m9FFFABRRRQAUUUUAeH/tN/wDJtvxC/wCxa1b/ANJZK/h8/wCCP37ff7fOgf8ABFzwl+xx+xr+yj4t+IOsXln4i03TfGd3JDZeFjJqmp3pM3nS4Eq2zTMkiF4wXjYFlHNf3W/GHwhqXxB+EninwFo0kUV5rmkX2nwPMSI1kuYXjUuVDEKCwyQCcdAa/P7/AIIwfsSfFX/gnT/wTd+Hv7Hvxs1DSdU8TeE31dry50OWaexf+0NTuryPy3uIbeQ4jnUNuiXDAgZGCQD+UD9oD/gmb8Z/2QtM/wCCZn/BOWL4lah4N8Yanrnjr+2vEfhmVvNs7rUzY3U62bMV+aGORoIpiBhh5oUE7a+0P20f2FPhp/wTU+P/AOwl8EPgZ4j8Ua1p/iP4+f25qV54l1M6hfXN3cQ6dbyb5VSIFGW3Vtu3G4se+B+3f7fX7APxi/ao/bw/ZM/ah+H2p6NZ6B8B9c17U9ft9RmnjvLmLVIbSOIWaRwSxuymBt4lkiABGCeQD/gpT+wD8Yv2yP2kP2WvjB8MtT0aw0z4IeP4/FWuxapNPFPcWaGElLRYoJleX92flkaJeR81AH4nfsz/ALHXw5/4L4fty/tQ/Gr/AIKGahrPinwB8JPHd78PPBPgm31O603TbGLS2ZJbx47aSOQzzBYnJ3LlzJu3ARrH4F/wU5+Hul/sHeP/ANnz/gjL8O7v4ueOfgn4xv8AX/GPiTQfCBk1jxdqOmQJm20a1ZHgZ7GKSKV5l3BlhO85aMFv1N8a/wDBNv8A4KjfsS/tn/Fj9qj/AIJF+KPAOpeF/jhff254m8F/EVL5YLXXHLNJeWc1l8zGWSSWRw0kQAfYVk2RlM/40/8ABJj/AIKbftE/Dn4YftTePfjJ4Z0n9r/4S+IdV1nQtZ06zlHhgaZqipG2jSJ5KTfZ1RNvnNDI5V5FZXMhcAH5o/sO+C4/2c/+CsXwb1//AIJgfs0/Hz4JfCPxZHqOifFDR/HWhajDoEimEnT71Zbi6vtksc2fMeSRAoVQnEkgP9kX7U0skP7MfxGmhYo6eF9XZWU4IItJcEGvyu/Zy8K/8HBPjj9ozwl4h/bM8R/CPwf8NPDk80usaX4Eh1C5v9ezBJHGjSagriCJZWSXKPG/yYIYE1+p37Vf/Jr3xI/7FbWP/SSWgD+Jb/gmH/wQb/Zf/b1/4IreGP2pvjl4p8Yan8SNT0XX5/DeoXGtz/Y/DUlhf3scC2dsCIxEZYvOmD7izyOVKEgj5gv/APgpt8ff2yv2Ov2If2TPj0nxH8Z+HvG9r4lu/iFafDq3lvvFfiux8M3Vza2VsmJYnljZLfdft5m5gGlPzIM/Wn/BJX4J/wDBeX4+/wDBGfwB8CP2WPGPwp8KfBrxvp2t2MOu6hFqX/CW6VZXGpXkN7GgjVrR3d/NMLhd6q4+eNgGH6//ABu/4IG6x4H/AGcv2dNO/wCCdPj2HwL8YP2XUuf+EY17WIGksdW/tQmTU47+OMSNGl5M8khKJKEWSSMIVfcoB+Wn7D3guL9nP/grD8G/EH/BMD9mn4+fBL4SeLI9R0T4oaP450LUodAkQw50+9WW4ur7ZLHNnzJJJEChVCcSSA1f+CB3/BL3QP23/hhq/wC07+0F8VPHVxp3gT4t6vceHfCOm6n9k0aC9064t7hrm4jKSNcPK4jU8oFRNvOcj92/2c/Cn/BwV44/aL8I+IP2zPEfwj8H/DTw5PLLrOmeBIdQub/XswSRxoz6griCJZWSXKPG/wAmCGBIr0//AIIsfsA/GL/gnH+y74n+CXxu1PRtV1XWvHGt+JoJdDmnnt1tNS8rykdriC3YSjyzvAQqOMMaAP1N8fsyeA9bZDgiwuSCP+ubV/n/AP8AwSw/4In/ALNX7d//AARCk/a1/aP8SeL/ABD4yh0vxTJ4XWXWp10/w5JptxdeU1nbA7CZJozNN5m4MXOAp5P+gj4o0ufW/DOo6Lasqy3lrNAhfhQ0iFQTjJxk88V+PX/BK7/gnN8bf2Hv+CR9r+wR8WNV0PUPGENl4jtmvNJnuJtN36xPcywkSTW8E2FWZfM/c8EHG7gkA/nCvf2iPi58fP8AgmL/AMEq/it8S9cvdS1/UPjnoOl3t7NMzT3cWl6tc2EZmfO6Rmit03s5LOcliSSa+wPhJ+x98MP+C8P/AAU4/al8Vf8ABQG71bxL8PPgJ4oHgHwd4Lt9RudO062ktjLHdXjrbSRymWV4A4cON+8htypGqe3+Bv8Aghj+1n4Z/YQ/Yk/Zfv8AxF4RfX/2bfinB448TXEd3eGzu9Pj1a6vzHYObISST+VOqhZo4E3gjfjDHI/aC/ZK+L37M/8AwUY+MHxy/wCCaP7WXw4+E+rfEsWWofEPwT42e2uGsr0ReZHqEUTs0i+asrTLvVFLSP8AOybVQA/LH4ZfCHw1+zr+yv8A8FdP2dvAN1qE/hnwVHp+maTHqV3JezQ2scF9sTzJCWO0YUE84Az0qP48/wDBGz4BfCj/AIIEeFP+Co3hvxb4zuPjz4f8AeDfF2j+J7nW5y2mrLFYmOwtYUKpFbW1vL5NuF/eJsQ78AqfZv8AglL+yP8AG39tj9l//go54N8J/ESy+I2pfFzxAvhfS/iBqMJsNK1zUrCK4NxdqLVJwluxuUKeSkgEZXaCCK/oQ+PX/BOb42/FH/ghVZf8ExPD+q6HD49tvhv4c8Htf3E9wukG+0eG0jmkEq27T+Sxt32N9n3kEZRecAH88f7VP7GP7PH7df8AwWT/AGIvFXx/0u9vpv2ifhndeIPGYttSurM3N5p/h8y25hMEiG2CtGm5YNgfB3A5Of6Bf2gP+CHvwV+J3gf9nn4V/CDxdrPw/wDC/wCzz4jfxBpljFJJqb3/AJl1HdvBPPcz+btMiN8zM5AfAGABXzX+1l/wSp/bnS5/ZH/ab/Yi8ReDofjL+zN4Y/4Rq6sfFBu20LVYLnTo7G42SQRifAxMFBWMssgbdGyAH6L+OfwB/wCC1vxr+H/7PGseH/iR4M8BeM/DXiSTUvipa6DcX0GkappRukeO0sRLaXM0hW1UowmaIGRj85ByAD9w6KKKAP5Av+D1b/lFl4B/7KrpX/po1iv6/a/kC/4PVv8AlFl4B/7KrpX/AKaNYr+v2gDxb4+/Fn4J/B/4cXWu/tA6ra6R4a1A/wBmzyXgYxSG5Rh5R2An51DfhX803xV/Y/8AjB+xv8Y7nxd+wZ8Q5rnRPBHha9+I8Wm6yVntrS0uC1u6w7g8Uj3Fuk2HMcblIsbyxBH9F/7Wn7MHgT9sD4Har8DviBLNa2t+Y5oLu2x5ttcwtujkUHhsHIZT95SRwTkfh38P/wDgkp+2B4s1fxf8M/iF8Z9SsfBEP9n+HGmNl/pWs6Pp0Qmhjj3TMYreN7mWFVMjqSpyrKFAAPS/iF4g8M/8FeP2SPhH4R8bfEPR/hl4g8RX8moXeiMBLcalNYyT2WbSKSeNzGWWV1H7zBwpJKEn52/bY/Ztvv8Agl74z+Gfx9/Zn8eeJr/WNY11NO1DTtYvhdHU1wHbcFSIMjY8uRWBGXUqVIzX6UftBf8ABJD4V/Ef4a/D3wv8E/EN98Pdf+F0Qi0HWLYGeQAyCZmlAeJjIZsyiRHQq7McEHAxPhF/wSw8VXHxp0L4+ftm/FLUfizq/hYrJo9jcW/2extZUO5XZTJJvIYK+FWPLqC+/GKAPB/+Ce2nt8Qf+Cr37TPxX8TjfqWg3LaLa+Zyy25uGhUr6Yis41z2Bx3ql4s1Ff2jP+C9Hhux8Kt9o0/4SeHpF1KWM5VZVjnYjPTImvYY2HYqR1Br6O+PX/BMHx94h/aN1n9pn9lP4rX3wt1rxXCsGuQwWv2mK4OFDSJiWLaW2hirBv3mWDKTX0x+xD+wd8Of2J/DWqpouoXPiXxT4kmFxrev34xcXkgLMoC5bYgLs2NzMzElmPGAD7nooooA/n2/4Izy22k/to/t5eC/E+B4wg+MB1K5V/8AW/2NqFmj6UT32GNZNnbGcV2v/BYH4Q6H4V8NS/E34D6V4Y0341fH6TSfgc3irxTqUUMNloOuTSmbyLS8uoYbqaNTI8drbI1xM5B2ShClZv8AwUB/ZQ/aq+AP7W9h/wAFaP8AgnHo0XizxfHpUegfEb4fyTC2Hi/Q7c7oZbaUgqmpWgGImYEugVFzgxTcIP8AgvJ/wRR+PFnpOlftf3cPgbxf4M1O31pPC3xO8NTw6poOs2efJuIlmtpoo7qEs3lzQSGRMnBXOKAP2V/ZD/Zs8Kfsd/sweA/2W/BF7c6lpXgPRbXRre7vCDPcC2QKZHxhQXbLbV+Vc4HAFfkH/wAEMpbbWvi/+2z408G4PhDU/j3ry6e8f+pmvYILdb+WM9GV5dp3jhsda8y+Lv8AwWD+J/8AwUSsLz9mT/ght4e1XxZq2t7rDUvizqmn3Gl+E/C8EnyS3EctzGkt1eRjJhiSP72HUShStfsl+wR+xd8M/wDgn3+yj4T/AGVPhZJLeWXhy3Y3Wo3Axc6lqFw5lurubk/PPMzNjJ2LhAdqigD+cX/g47/5Sm/8Ex/+yqyf+nfw3X9ftfyBf8HHf/KU3/gmP/2VWT/07+G6/r9oAKKKKACiiigAooooAKKKKACiiigAooooAKKKKACiiigAooooAKKKKACiiigAooooA8Q/aO/5I1q/+9a/+lEdfO3ww/1cf0FfRP7R3/JGtX/3rX/0ojr52+GH+rj+goA+xPDv+rH0rtK4vw7/AKsfSu0oAKKKKACiiigAooooAKKKKACq9z/qz9KsVXuf9WfpQB4z4z/1Mn0r49k/5Kj4d/7Ctn/6OWvsLxn/AKmT6V8eyf8AJUfDv/YVs/8A0ctAH6YUUUUAFFFFABRRRQB+SH/Beb/lDr+0N/2J93/Na/lv/aw/Zr/4Ir+D/wDg3Z8DfGTXdP8ABPhn43yfDPwxqGj6hok0Fr4ku/E0lnbP86W7iadpJS5uDIjbVLudrKGH9SH/AAXlGf8Agjt+0Pj/AKE+7/mlfHX/AAR1/wCCPP8AwTJ0T9i79n79qmL4NeH7zx/rHgbwz4gutX1BJL+RtTurCCaS5WO5eSKOQysXBjRdrcrjAwAfHFn/AMFhf+Cn/wCz94z/AGaP2GPC/wAGk+L/AMSfH3wK0TxTfW15cSWGrLr0pngeXULqeRYIIES3Et15kYczMU3qWGPoHwV+0h8edR/4K1fspfDL9ub4KeAtF+M3irwV4svtR1rThLeX+hpZSaktvb6fdi4kj8qe0CNMGDndNIAV6Dc+L4P/ABFgfCg/9UBvf/TnqFZ/7ZunR6v/AMHNn7K2lTs6R3Pw08XxM0Z2uoe3vlJUjoRng+tAGB8O/wDgqX/wV6/4KQeJfHHxI/4JKfDT4cR/BzwVrNzodjr/AMRbq/W68T3Fl/rXsY7N4hDGwZCpmG0bhmTcHRPVviL/AMFT/wDgot4o8dfC/wDYO/Z0+EXhqw/ah8UeFpfFvjW08UX80nhrwhp0Fw1oJJpLIma48+UAxiKQlVdD+8Dgj8xv+CQ3/BUb9mf/AIIifs5eJv8AgmV/wVEn1L4ZeO/hj4h1aXTpH0e+vLXxDpt7O0sV1ZyW0Em4O5cKz7UaPYQ5+dU+af29bD9i/wCK/wDwUO+H3/BWj/gon8JfFOs/sq/HHwBBp0V/Ouo21z4W1m0uNlvLqEelTLKiTW8YKRh3EgnZkV2iIoA/ow/YP/4KHftoXf7dPiT/AIJi/wDBTLwp4V0b4m2PhiPxp4e17wPLdNoet6OZhbSbY7wtPHNHLuHzEBtkg2KFUyfef/BSv9qHxl+xX+wf8UP2qvh9YWWqa14G0SXU7O01EObWWRGVQsgieNyvzfwup96/CX/gkXcf8G8Os/t5iy/4JJ+BdX1Dxlpnhu/uL3xfE2vtpNlau8MbWjnV7jBmn8wFAsBGEbDg8V+of/BfP/lDf+0L/wBinP8A+jI6APx28Yf8Fdf+C+vgj9kTQv8Agpx4m+AXw5tfgomk6XreraImp3U3iSfS7xIi9/C6TGGCGQP5saPHLLBE481X2M1ffXx8/wCCu/xx+MnxS+FH7Kv/AASZ8J6F4x+IvxR8EWvxJuNU8ZTXFvoXh3wzeqn2ea9S0/0iSWV5FTy42DISuVbeMfi58RP+C2/7Ifxo/wCCIXhb/gmj+ywNd+IHx+8YfDbQ/h3D4QstEvknhu5dPgtLiZ5pYVgeJEDyRtFJJv8AkOFUsy/On7V3/BOb9m3/AIJ6ftcfAz4if8FaPAOp+PfgBcfB3QPAur+IdIm1M2vh3xZo8UMTzTHTZIp/s8gRhEmW8wSsyIzREUAfv38HP+Cq37c/wl+Mvxf/AGI/+Cing3wfYfFvwR8NtQ+JfhXWPB8t2/h7XtMskdCrRXTfaY3WdCG+ZdwWQBU2qz89/wAErv8Agqb/AMFZ/wDgo/H8Lvi1d/s+aF4V+DusC5j8TeLbjUTFLdSReeok0mxe488QLKsUZklEwc+YVIxhfz1/Z2n/AODeHWdX+MVj/wAEk/Aur6j4y0z4R+MLi98Xwtr7aTY2r2Zja1kOr3GDNP5gKBYCMI2HBGD+2P8Awbjf8oT/AIBf9ge9/wDTjdUAfoD+3t+0B4o/ZR/Yo+K37THgmztdQ1jwF4V1TXbK1vg5tpp7G3eVElEbI5RmUBtrKcdCK/mQ1/8A4LKf8F67D9iDR/8AgqO3wI+G2m/Bqz0vTtW1TTLnUbuXXtSsLgxpLfWnlz+XawOW3xJMssscZDMsoGT++3/BZkZ/4JM/tH4/6J14i/8ASKWvyP8AiUuf+DQ62BH/ADQrST/5KQUAe4fGb9sH4WfEv/gqh+wlcaH8N/DmuxfGfwrr3iHSfFGrWzvr2iWo0lr+JLKVJRFH5qvtmDI+QTtI615b4X/4Kdf8Fdv+ChPxf+Ieqf8ABJb4f/DhPhB8M9euPDf/AAkPxEuL9Z/EeoWP/HwLFbJ08qPDIUMqEYZSZAS0afGPw+B/4b6/4I8/9ka1D/1FErl/+CX37fB/4Ib+BviF/wAEzv2vvhN8Q9V8X6J411bUPCU/hfQ5NUh8T6fflPIe2l3IGd2XOScBXVWIdWQAHhf/AAUj/wCChnxw/wCCkv8Awbc/Fb4z/tB+HdH8MeI/DfxYtfCsljoZla2CabPatktNJKzPvmYFgQpABCiv0v8AjN/wVo/4LO/sW+L/AIdftEft2/BPwJ4V+A3xA8VWHhu40vS9RuL3xVoK6nvMMl3OJfsjyIisziOHYxTyyYmYGv539W1XUfEX/Bq/8d/E2pafNpc2qftAXF21pcDEsBlmsC0bdPmRso3uDX9Pn/B1kuf+Ca/hnjOPiZ4X/wDQ5qAPze8Q6/8A8FY7L/g5s+MVz+zRoHwzvfG6/DExWUPiC61GPTW8IDU7T7LLI0H70aizCHzUH7kAvt6Cv6BvHf7Tn/BTHwT+2v8AAH4BW/wp0zWfAPi/w+tz8SPFWmwXc1pomsJDMZYrWcyqiwmZEEfnRs5Rxnk8fkT+1T+1h8F/+CXv/ByLqn7Vv7al7eeE/ht8RvgtHoGk+IF0+6vrVtSttQt5XgYWkU0m4LbNuCoSu+MsArA1+uPjT/gsb8EfDv7aH7Pv7H/hzw9qetj9orw6nibQdejKwW0FlNDLPEZoZQswZ44s7cAruAIyDQB+v9FFFAH8gX/B6t/yiy8A/wDZVdK/9NGsV/X7X8gX/B6t/wAosvAP/ZVdK/8ATRrFf1+0AcL8UNM8Ua38NPEWjeCJhb61d6Zdw6fKTtEd1JEyxNnjGHIOa/j2/ZR+JP7N3wLvPA37Mf7YXhBvCOr6P4wvtZ8W32uad5yXsC2VxBYwOdjyGETyqWUoYcL5gY7iR/S1/wAFGPiN+0n8I/2X9U+JX7LNuLrxFo9zBPcRfZReMbDJWYrEcklMq5IBIVWPTNfz8/H7/gor+zN+1jaeIdZ8Z+HbrXfEl78O7XwxoGjvY+bJH4jv5pZLq5iYbgiwPHbGNlPmOOAOWAAPoP8Abu+G3wc/YJ/4Jw6n8JP2aNf1DXdP+NPiC2mtDNcw3S/Z2RJpWtWgjjDROkMUf8ZYSDk5rlvhN8Q/2Efh/wCKfBHwQ/ag/ZduvAsOtQ22naf4i8R2Chr2ZAkXnXCvGhQu5BlKvIULgtxzXZeFfjX+1f8A8EwP2avgJp3xU8Ix6n4BkS4l8TNJaNcajpL3V7LOkSP5qJE4glQqki/6xXTcMcZP7V37QOif8FfviZ8OP2dP2UND1O+0XRNYj1fX/EF3bNbw2UO3YV3clcIXPzFd7hFTd1oA7vVvA2i/8FBf+CtWp/CHxvCLn4XfAzTlii0gZW1muovLQo6A4+adyG7NFbhDwTWh8Qfh58Ov2ff+C4/wk0D9n/RrTw5B4g8OzPq2n6VCttauHjv0LGKMBF+WFHYAAEoGPJJPBeCv2g/Bv/BMX/gox8drv9pfTdSttH+JFx/bOjala2xnSZGlluNicruBM5jYg4V48Ngc17v/AME+fAfxM/a2/bW8Wf8ABTP4paJc6B4fe2bS/BtnertlaAqIfOA67VhDBmGVeSZ9pIU0AfvpRRRQB/PT/wAEk/CcX7Q/7fH7Yf8AwUF+JcYvPE+l/EjUvg/4fMvz/wBmaD4RESOlv/zzW7mkEsoH3nTPc56v/grT8dP+CjfwWvfFfxT+EPjvwz8Dvgr8OfBM2vz+LdbsbXWrjxB4lMjrBoyW0twslvE4EaiVYWkeSTZGGOAPJP2SviHpn/BM7/grN8aP2JvjnONF8H/tM+Jp/ih8Ntauj5dpe65qSoms6Y0rfKt15yxtDHkFk2/xSxq36d/8FDv2WPH37WGhfCfwz4O0bwlrun+FPiX4e8Va7beLptRiiGl6U0jyvZrp7KJr1WZDDDd7rN/m81ThaAOo/Zd17W/25v8Agnp4M179rzwZBYXvxP8AB1s3inw5cwukH/ExtwLiIxSEyIkgYlUcl0DAE7hmvz+/4N59d8Y6F+yB8QP2TvF9/Nqyfs6/FPxX8L9Nvrht8s+m6NLFNalj6JHciNBgbURVAAFfpZ+3D+2t8DP+Cf8A+zh4g/aW+PupJZ6Vo0LC1tA4F1qd8wPkWdqh5knmYbVAGFGXbCKzD4o/4IZfs1/F/wCAH7Elx47/AGjLNtM+JHxq8Vaz8T/FNgwKtZ6h4jkWRYGDfMrpbxwiRSAUk3KelAH5I/8ABx3/AMpTf+CY/wD2VWT/ANO/huv6/a/kC/4OO/8AlKb/AMEx/wDsqsn/AKd/Ddf1+0AFFFFABRRRQAUUUUAFFFFABRRRQAUUUUAFFFFABRRRQAUUUUAFFFFABRRRQAUUUUAfLf7Wn/IhaX/2Fov/AEVNXAfDP/Ux/hXf/taf8iFpf/YWi/8ARU1cB8M/9TH+FAH1xof+qH0FdXXKaH/qh9BXV0Af/9X+/iq11/qjVmq11/qjQB4r41/492+lfHb/APJUvDv/AGFrP/0ctfYnjX/j3b6V8dv/AMlS8O/9haz/APRy0AfpvRRRQAUUUUAFFFFABRRRQAUUUUAFFFFABWN4i8P6N4t8P33hXxHbrd6fqdvLaXUD52ywzKUdDjBwykg4NbNFAHjvwB/Z/wDg5+y18ItH+A37P+g2/hjwhoCzLp+mWpdooBcSvPIFMjM3zSyO5yTya9ioooAKKKKACiiigAr83f2mP+CQf/BNX9sX4pyfG79pX4Q6L4r8WTJDHNqdwZ4p5kt1CRiUwyxiQIihRvB+UAdK/SKigDzL4PfBf4S/s+fDrTfhH8DfDeneEvDGkR+XZ6ZpVulrbQgnJIRABuYkszHLMxJJJJNem0UUAFFFFABRRRQB/IF/werf8osvAP8A2VXSv/TRrFf1+1+EP/Bwt/wS/wDj7/wVl/Yv8Mfs6fs6av4f0XW9F8a2XiSefxJcXNtata21jf2rIjWttdOZS90hAMYXaGJYEAH84P8Ahjf/AIPJP+jsfhV/4LbX/wCZWgD+v2iv5Av+GN/+DyT/AKOx+FX/AILbX/5laP8Ahjf/AIPJP+jsfhV/4LbX/wCZWgD+v2iv5Av+GN/+DyT/AKOx+FX/AILbX/5laP8Ahjf/AIPJP+jsfhV/4LbX/wCZWgD+v2iv5Av+GN/+DyT/AKOx+FX/AILbX/5laP8Ahjf/AIPJP+jsfhV/4LbX/wCZWgD+v2iv5Av+GN/+DyT/AKOx+FX/AILbX/5laP8Ahjf/AIPJP+jsfhV/4LbX/wCZWgD+v2uK8W/Db4dePmhbx3oGm60bf/VG/tYrny/93zFbH4V/Jv8A8Mb/APB5J/0dj8Kv/Bba/wDzK0f8Mb/8Hkn/AEdj8Kv/AAW2v/zK0Af152VjZaZZxafp0KW9vCoSOKNQiIo6BVGAAPQVar+QL/hjf/g8k/6Ox+FX/gttf/mVo/4Y3/4PJP8Ao7H4Vf8Agttf/mVoAP8Ag47/AOUpv/BMf/sqsn/p38N1/X7X8UV1/wAEW/8Ag4P/AGlP20P2ef2i/wDgof8AHD4a+P8ARPgZ4103xJbQWAksbqK1jvrK6vkhW00CzSWWVLKMIJpAoZQAyBmJ/tdoAKKKKACiiigAooooAKKKKACiiigAooooAKKKKACiiigAooooAKKKKACiiigAooooA8Q/aO/5I1q/+9a/+lEdfO3ww/1cf0FfRP7R3/JGtX/3rX/0ojr52+GH+rj+goA+xPDv+rH0rtK4vw7/AKsfSu0oAKKKKACiiigAooooAKKKKACq9z/qz9KsVXuf9WfpQB4z4z/1Mn0r49k/5Kj4d/7Ctn/6OWvsLxn/AKmT6V8eyf8AJUfDv/YVs/8A0ctAH6YUUUUAFFFFABRRRQAUUUUAFFFFAGXqWh6LrJhOsWcF2bdxJF50ayeW46Mu4HBHqOa0ZYo5o2hmUOjgqysMgg9QRT6KAMvSNE0Xw/Z/2foNnBY24Yt5VvGsSbj1O1QBk96+Of8AgpB+y54m/bX/AGGPib+yl4N1O10fVPHOiyaZbXt6Ha3hkdlYNIIwWK/L2BNfbVFAHzd+yL8Cpv2cv2Yvhp8E9dktb7WfBHhDRPDV3qFsm1bh9Ls4rdmQsA/ls0ZZQ3IBGRmvo6WKOaNoZlDo4KsrDIIPUEU+igDL0jRNF8P2f9n6DZwWNuGLeVbxrEm49TtUAZPetSiigAooooAK/Af47fss/wDBwFr3xY8bWvwB/aV8E6L8PfEmo3k+jDU/Dgm1nQrG5ZjHBC6Q+XM0KnCyTOzHAPHQfvxRQB8H/wDBNj9grwD/AME2P2RvD37K/gPVLnxAdNkub7U9ZvF2XGp6leyGW4uHTcwTcxCqu5tqKoLMQWP3hRRQBn6lpOlazALXWLaK7iDBwkyB1DDocMCMjsa0KKKACiiigD+QL/g9W/5RZeAf+yq6V/6aNYr+v2v5Av8Ag9W/5RZeAf8Asqulf+mjWKP+I1b/AIJZf9CD8Vf/AAVaR/8ALmgD+v2vIvBHwM+Gnw/8Z+JPiF4e05BrPiu/Go313IFeTzVgjtwqNjKIEiX5QfvFieTX8r//ABGrf8Esv+hB+Kv/AIKtI/8AlzR/xGrf8Esv+hB+Kv8A4KtI/wDlzQB/XzLFFPG0M6h0cYZWGQQexFVtP07T9JtVsdLgjtoU+7HEoRRn0AAFfyH/APEat/wSy/6EH4q/+CrSP/lzR/xGrf8ABLL/AKEH4q/+CrSP/lzQB/Xhe6bp2pqiajbx3CxuJEEiBwrr0YZ6EdjV2v5Av+I1b/gll/0IPxV/8FWkf/Lmj/iNW/4JZf8AQg/FX/wVaR/8uaAP6/aK/kC/4jVv+CWX/Qg/FX/wVaR/8uaP+I1b/gll/wBCD8Vf/BVpH/y5oA/pV/bE/Yq/Zq/b0+DV18CP2o/DMHiTQZ3FxAWLRXVldICEuLWdCJIJkycOjDIJVsqWU/k/o3/BKD/gp/8ABm2Pgv8AZX/b48V6L4PgXy7Kx8Z+EdL8ZahbxjhVGoXUkEjBBwoKAAdq+Cv+I1b/AIJZf9CD8Vf/AAVaR/8ALmj/AIjVv+CWX/Qg/FX/AMFWkf8Ay5oA/Uf9nn/gif4B8N/G/SP2rf25viX4l/aV+J/h9/N0W/8AFpjh0bRpsg+bp2kQ5t7eTcAwYmTawDIFcBq/bav5Av8AiNW/4JZf9CD8Vf8AwVaR/wDLmj/iNW/4JZf9CD8Vf/BVpH/y5oAP+Djv/lKb/wAEx/8Asqsn/p38N1/X7X+cJ+3B/wAFq/2Wf+Cwf/BU39gT/hmjQPFWh/8ACu/irp/9pf8ACTWtnbeb/a+r6L5PkfZby73bfskm/fsxlcbsnH+j3QAUUUUAFFFFABRRRQAUUUUAFFFFABRRRQAUUUUAFFFFABRRRQAUUUUAFFFFABRRRQB8t/taf8iFpf8A2Fov/RU1cB8M/wDUx/hXf/taf8iFpf8A2Fov/RU1cB8M/wDUx/hQB9caH/qh9BXV1ymh/wCqH0FdXQB//9b+/iq11/qjVmq11/qjQB4r41/492+lfHb/APJUvDv/AGFrP/0ctfYnjX/j3b6V8dv/AMlS8O/9haz/APRy0AfpvRRRQAUUUUAFFFFABRRRQAUUUUAFFFFABRRRQAUUUUAFFFFABRRRQAUUUUAFFFFABRRRQAUUUUAFFFFABRRRQAUUUUAFFFFABRRRQAUUUUAFFFFABRRRQAUUUUAFFFFABRRRQAUUUUAFFFFABRRRQAUUUUAFFFFABRRRQAUUUUAFFFFABRRRQB4h+0d/yRrV/wDetf8A0ojr52+GH+rj+gr6J/aO/wCSNav/AL1r/wClEdfO3ww/1cf0FAH2J4d/1Y+ldpXF+Hf9WPpXaUAFFFFABRRRQAUUUUAFFFFABVe5/wBWfpViq9z/AKs/SgDxnxn/AKmT6V8eyf8AJUfDv/YVs/8A0ctfYXjP/UyfSvj2T/kqPh3/ALCtn/6OWgD9MKKKKACiiigAooooAKKKKACiiigAooooAKKKKACiiigAooooAKKKKACiiigAooooAKKKKACiiigAooooAKKKKACiiigAooooAKKKKACiiigAooooAKKKKACiiigAooooAKKKKACiiigAooooAKKKKACiiigAooooAKKKKACiiigAooooAKKKKAPlv9rT/kQtL/7C0X/oqauA+Gf+pj/Cu/8A2tP+RC0v/sLRf+ipq4D4Z/6mP8KAPrjQ/wDVD6CurrlND/1Q+grq6AP/1/7+KrXX+qNWarXX+qNAHivjX/j3b6V8dv8A8lS8O/8AYWs//Ry19ieNf+PdvpXx2/8AyVLw7/2FrP8A9HLQB+m9FFFABRRRQAUUUUAFFFFABRRRQAUUUUAFFFFABRRRQAUUUUAFFFFABRRRQAUUUUAFFFFABRRRQAUUUUAFFFFABRRRQAUUUUAFFFFABRRRQAUUUUAFFFFABRRRQAUUUUAFFFFABRRRQAUUUUAFFFFABRRRQAUUUUAFFFFABRRRQAUUUUAFFFFAHiH7R3/JGtX/AN61/wDSiOvnb4Yf6uP6Cvon9o7/AJI1q/8AvWv/AKUR187fDD/Vx/QUAfYnh3/Vj6V2lcX4d/1Y+ldpQAUUUUAFFFFABRRRQAUUUUAFV7n/AFZ+lWKr3P8Aqz9KAPGfGf8AqZPpXx7J/wAlR8O/9hWz/wDRy19heM/9TJ9K+PZP+So+Hf8AsK2f/o5aAP0wooooAKKKKACiiigD5g+Nf7bv7F/7Nfiq38C/tF/F7wV4A1u7tEv4NP8AEmv2OlXUtrI7xrMkV1NG7RM8boHA2lkYA5U48f8A+HsP/BLL/o5b4Vf+FlpH/wAlV/MF/wAFbP2XPgT+2j/wdXfs1/s0ftL6F/wkvgnxL8Krj+0tN+1XFn532MeJrqH99aywzLtmhjf5JFztwcqSD+v3/ELl/wAEKP8Aohn/AJc3iH/5Z0Aff/8Aw9h/4JZf9HLfCr/wstI/+SqP+HsP/BLL/o5b4Vf+FlpH/wAlV8Af8QuX/BCj/ohn/lzeIf8A5Z0f8QuX/BCj/ohn/lzeIf8A5Z0Aff8A/wAPYf8Agll/0ct8Kv8AwstI/wDkqvv+v88P/g6B/wCCM/8AwTY/4J3fsC+EPjX+x18N/wDhD/E+qfEDT9Eurz+2NU1DzLCfTtSneLy768uIhmW3ibcEDjbgEAsD/oeUAFFFFABRRRQAUUVw/jH4m/Db4d3Wk2PxA8Q6ZoU2v3sem6XHqF3Fate3sxxHbwCRlMsznhY0yx7CgDuKKKKACiimrIkmdhBwcHBzgigB1FZuo6zpGkGBdWuobU3Mghh851TzJG6IuSNzHsBzWiSAMnoKAForN0rWdH121+3aJdw3kAZk8yCRZE3KcEZUkZB4I7VpUAFFFFABRXD/APCzfht/wsL/AIVH/wAJDpn/AAlf2L+0v7F+1xf2h9i3bPtH2bd5vk7/AJfM27d3Gc12Ftd2t7F59nKkqHjchDDj3FAFiiiigAooooAKKKKACiiigAooooAKKKKACivM/in8avg38DNATxX8bfFujeDtLkkEKXmuX8Gn27SEE7RJcOilsAnGc4rpPCHjjwV8QdBtfFPgLWLLXNMvoUuLa80+4juYJoZBlXSSNmVlYchgSD2oA6iiiigAooooAKK4fwH8Tfht8U9Pu9X+GPiHTPEdpYXcthdTaXdxXkcF3DgyQyNEzBZU3DcjYZcjI5ruKACiiigAorlfG/jvwR8M/C1345+I+s2Ph/RNPVWutQ1K4jtLWBXYIpkllZUQFmCjcRkkDqa3dM1PTda0231jR7iO7tLuNJoJ4XEkcscgDK6MpIZWBBBBwQcigC7RVeK7tZpnt4ZUeSLG9VYErnpkdqsUAFFFFABRRRQAUUUUAFFFFABRRRQAUUUUAfLf7Wn/ACIWl/8AYWi/9FTVwHwz/wBTH+Fd/wDtaf8AIhaX/wBhaL/0VNXAfDP/AFMf4UAfXGh/6ofQV1dcpof+qH0FdXQB/9D+/iq11/qjVmq11/qjQB4r41/492+lfHb/APJUvDv/AGFrP/0ctfYnjX/j3b6V8dv/AMlS8O/9haz/APRy0AfpvRRRQAUUUUAFFFFABRRRQAUUUUAFFFFABRRRQAUUUUAFFFFABRRRQAUUUUAFFFFABRRRQAUUUUAFFFFABRRRQAUUUUAFFFFABRRRQAUUUUAFFFFABRRRQAUUUUAFFFFABRRRQAUUUUAFFFFABRRRQAUUUUAFFFFABRRRQAUUUUAFFFFABRRRQB4h+0d/yRrV/wDetf8A0ojr52+GH+rj+gr6J/aO/wCSNav/AL1r/wClEdfO3ww/1cf0FAH2J4d/1Y+ldpXF+Hf9WPpXaUAFFFFABRRRQAUUUUAFFFFABVe5/wBWfpViq9z/AKs/SgDxnxn/AKmT6V8eyf8AJUfDv/YVs/8A0ctfYXjP/UyfSvj2T/kqPh3/ALCtn/6OWgD9MKKKKACiiigAooooA/kC/bI/5XJP2Tv+yVal/wCk3iuv6L/+Cgf7PHxb/ai/ZN8WfCT4A+PtX+Gfjq5t/tGgeINGvZbGW31C3+eJJnhIZreU/u5lwfkYso3qpH86H7ZH/K5J+yd/2SrUv/SbxXX9aXjvx14P+GHgnV/iR8QtSg0fQdAs59Q1G+unEcFta2yGSWWRjwFRFLE+goA/h2/Ym/4OWfFv7IP7APxa+B//AAUba7vf2lPgdcz6NpWn6y7Ne+I55pHihWeTOWaylBF1Jn57YI6l3Y5/aH/g3n+Dv7fCfszXf7X/APwUT+I3ifxT4v8Ai2y6rpfh/WL6Z7PQ9IlJlhKWhPlQzXO7zCqqPKh8uMBD5i1/ET+3La/tP/8ABWf47/Gn/guv+zl8N9OHwp+EGtaRDHDfWYeTVbPSiv7+5t9pF2Y4lilv1dv3VvKiZZIyR/pI/wDBM7/goB8Jf+CmH7H3hf8Aao+EzLbjUovsur6XvDy6Vq0AUXNpJ0PyMQ0bEDzImR8AMBQB/P1/werf8osvAP8A2VXSv/TRrFf1+1/IF/werf8AKLLwD/2VXSv/AE0axX9ftAHl/wAbvi54P+AHwa8WfHT4gzfZ9C8G6Pe63qEmQCttYQvPJjPfahwO5r/P8/4I9eIvj/8Asjf8FG/gR/wUK/aHvpF0b/goCPFdrqcMmfLs9Un1Ez6eBnj/AEh/s32fPIjmcDgFR/Qd/wAHNvxZ8YXX7Gng79gf4PzhPHP7TfjLSvBNggJDLZGeOW6lOOfLDeRDL/0zmOcCvx+/4Kkf8El/+Cu/wp/4Jyad4w8Z/tC+H/HHhn9mCHTfE/hjQtK8JW+kXdnH4ejWFZIruH94BbWu6VlYsr+UC3zAMAD99v8AgoZ/wWh1z9h79tPwh+w78P8A4HeI/jB4s8c+F31/SYvDlyizNP588CwSRPE2yEeQZJbkuREhyUIBql+wt/wWd8a/H79qrxD+wp+2d8EdV+AHxd0zQ38S6XpF/qcWq2ur6YhIdre6jihVnXnhFkVgkvzAxso/IrXf+Ch/7NvjH/guT+yL+3T8VPFej+CfCPjr9n+S7a/1e7jtLK0vb+e+3W0k8rLGjRzB4SXYDcpGa9s1D41/Cf8A4KKf8HH/AMPvif8Asdaza+NfCPwD+GWuJ4q8TaPItxpbXOrxXdvb2iXSExTkG5SRfLZgSJME+W+AC/8ACn/g5T/aw/aY/Z9k/aS/ZT/Yi8Y+MfDGhLdS+IdQbXIbazgS0Zi62Mn2R5L91iAaRY4laNiU2nG4+ef8FJ/20/hF/wAFCvh//wAE3/2tvgiZk0PxV+0F4Xb7LdBRc2dzb3Yhnt5gpYB4pUZcg4YYZcqwNcb/AMG8n/BVL/gnz+xv/wAERNJ079oP4q+G9E1/whd+ILu88NzX8I1qYS3c08SQWJYTztMjLs8tGBJ5Iwcfmd8Cfgv8Qfg5/wAE8v8Agm9d/ETTpdIm8Z/tQ6V4nsbGYbWh0+/vYxbYU8hZY4xMnqkgPegD+0D/AIJ//wDBSrS/22/i38cf2f8AxF4Qm8CeNvgX4obQNU02e9F79qtJN4tr+JxFCRHcGKQqu04UKdx3gC3/AME6P+Cj2m/8FGNV+L2r+AfCMukeCvht4wufB+leIZL0XEfiCaxz9ouIYhEnlRKGiZCXk3iT+EqRX83v/Bez4hfGT/gkb/wUNl/4KEfs4abcXMP7SXw71b4eaolmCWh8UWsKLpl7tHWVR9m8tR8xWCUD72K/pj/4JQfsWWP/AAT7/wCCfPwy/ZaESJquh6SlxrkiYPm6xfE3N624feAnkdEJz+7VR0AoA93/AGuPhp+0n8WvgveeCv2UPiXD8JfGE88LQ+IptFg14QwqT5iC0uHjjLOOA5J29cGvwM/4NP7HxXpn7G/x303x3rMviLXLf46+KotR1Wddst9dpZ6YJrhxlsNK4LkZOC3U1/SB8XPjX8GvgB4Nk+Ivx38W6L4J8PxSxwPqevX8Gm2ayynCIZrh44wzHhRuyT0r+XT/AINbf2l/2cH+F3xu+C6fEDw2fGPin44eL9X0XQhqtr/aeo6e1pYuLq1tfM86eApDKwljRkKxuc4U4APBf2KP2BP2e/8Agvf+0f8AtVftf/8ABQeHU/GFh4d8f6l8OvAunx6rdWkGg6dpChhLbrbyRqZGWaJyHDRmTezIxcmvgbxT+1V+0TB/wb/fEz9kz4l+L9Uu4/hJ8cofhF4g19bhvtreD4rhCRJN98JuH2bBODDtjOVJU/qL/wAEZv2tP2ZP+CZHxX/bE/Yo/bO8b6L8M9W8P/FXWPGenf8ACQXaWCajo2rRRCCS084r57GK3jfy490hEq4U16n/AMG8H7Pfgv8Aaq/Yi/aH+L/7QPhG31jwL+0r8VPEfiG10rV4PMivdHkkTy3dHHBFwJdjD5laMOpBAIAPPPgz4Y/ZZ/4JU/8ABd/xN8NP2WZIfBPwS/4Z/k8a+O9LtbuW502yutMvXEV/IJHkKzfZVjA53MspbnzMn6T/AOCQ/jv4eav4n8a/8FZ/23PFOieCfiD+1DeIfBWi+INTtrK6sPA1gxi0u1t45pFLNchRcSmIFZf3b4DE18sftff8E+P2NdL/AGk/A3/BEr/gnh4CsfA0HxVeDxn8aNV0ySea8g8EaLOHisnuppJZoxf3YEcaBwqEKSmySvkL4qfDn9hTW/2uP+Cl+jft/ab4Zg1vwb4Q0ez+HUHiEQRyabo0OjXP2UaEk2GjkV1tcG2G7eyKOXYMAf3j1+Of/BR//grV/wAMXfF/wV+yR+z38MtU+OHxy+IFvLf6X4R0m6jsVg06HcGu7y6kSUQRFkcITGVIjcsyBQT6B/wRF1T4l61/wSS/Z+1P4tvcS63L4N0/c93uMz2oUi0Zi3zHdbCIgnkg55zX4/8Axo+OPwn/AGFv+DohvjV+2Drdp4S8G/E/4MrofhnxDrMiW2m299bX0MksL3MhEUPFvIWZ2XBmQEgSDIB4/wDsWfG79oj9pT/g5gu/EX7Wfwfu/gp4rg+Atxplz4eudUh1dZIV1WNluYbu3RI3ik8wqMDKsjDJxmui/YD/AOCqf7Fn7A3/AARo8D/GD9l74OeILRPiJ48v/DHhD4exawdW1DUtenlMZBvpol2RuUHPlOVZlVVYtXR/s2ftafs5/th/8HUWq+Pv2Y/Ftj400HRPgXNolzqWmMZbRr2DVIppEimxsmVUmT95GWQkkBiQcfmV/wAE7Ph9/wAE4vjf/wAECPg58Cf+Cg/xDl+FEus/ETxFf+CvFkFz9gfTdd0+Vysn2tlMMI8uU5E5RGwMOsiowAP6c/2YP+Cmn7Yvib4q3/w//wCCgH7Lesfs+6LaeH9Q8RjxXLr9r4h0OO205VkmS6urWGOO2kETFwrsWIRjtGDj4y8Mf8F+/wBrT47eEdQ/aO/Y4/Yr8afEn4G2FzcQxeLBrNtYajqENq5SWey0hoJbi5RWVwBE7ZYFWKOGUfkm/wAV/wBunU/in8Z/+CPfwl/aRg/bI8IePfgn4n1Kw1myW3u9S0bUVtZo4LO4vYJpw7XTCO3IknfcbmNtsZJ3frD/AMEfP+CyH/BMn4Uf8Eivhhp3xZ+KvhvwJrHw18OQaF4g8Pandpb6xFfaapjlMdhk3NwZyplQwRybi5H3wygA+hfjx/wWy+JM/wC0T/wyD/wTx/Z/1r49fEfSdCsdf8UWh1e18PWHh+LUYo5obe5vLlZYzdFJBuiOzBOFZ2Dqjfh9/wAF7PAfi79jH47fH/xZ8M9X8JfE39nNCPGfw41a7SO8t5WYiIxXaxlZIJQG2zeSOVPy7SjN8Af8E1/2sf2d/wBjf/gr1+2P4S/ax8W6b4Ck+NF9oHj/AMHax4luYtMtNV0O4huJY1juLhkj3QrcoqxltxKyDGY2A+A/i3dR/t4/Ez/gqd+2T+ysj+IPhpdfD7S/DVlq1mhe11fUdFtLZ7uS3YA+cIY7SQhkyDHIjdHXIB/V18fv+ClmlfAn/glHH/wVHuPCEup2cnhHQvFf/COreiKQLrYtSIPtJiYZi+0jL+V8237ozx8Y/ta/8F4pP2Zvid8EPhF4S+B3iP4la/8AHPwWnirSNO8OXSS3kVxPFvitDEYfnTdjzrjcoijDSFGC7T+NH7cf/BVH/gn/AOLv+DYPw5+zt4c+KOh6h8Q9b+HPhLw7F4Zs7gXGqw6lpYsVuo7i3j3PbrH9nlPmTBEcAbS25c/Ufh3/AJTUf8E5/wDsg99/6aJ6APu/9l//AILYfH34r/G/4hfsc/tC/s0ax8Mfjl4b8GXfjXwv4Sm1y3vovE1rAGEdvFfeTDDDLLJiNXIkjBEhZlMZSvzL/wCDcb9ur/goN4l8Aan8Nta+BfiHxx4R1r4oaymrePL3xTbOnh8S+R5tq1rOGuJls+D+6YK2/wCUDmvuX49Ii/8AB1j8DpVGGb4I6spPcgXl+QP1rwX/AINqf2p/2bvg58HPin+yR8WvHWheGficPjX4ltIfC+qX8Npq1zLctbxxi3tZWWWbdJG6fu1bDIwOMUAfuj/wVd+JnxW+EP8AwTn+MPjr4LeGLvxZr9v4Y1CKO0sr1NPnt4Z4minvVmfgfYome52r87iPapDEGvwt/wCCJ/8AwU7/AGlPh3/wTd8FeLf2v/hDrOj/AAe8GeD9U1m++LupeIra/GoJZyzOoFiQbxpZm/cRqzFi4AGdwFf0cftyaBrHiv8AYp+MHhfw9bvd6hqXgjxBa20EYLPLNNYTIiKBySzEAAd6/jT8D/GT4O/tV/8ABpa/7FnwC8c6NrHxe07whJd3Hg6zv4X14Q+H9aXUb0Gx3faNv2SFnBCYdWXbncAQD9PJP+DiD9pfw18KdO/bW+J/7G/i7Qv2ZdUlgeHxwNcs7jU49OupAkN9LoyxiVIZQyFWM3lEMCkrhlz/AE1eBfG/hL4m+CdH+JHgG/i1XQvEFjb6lp17bndFc2l1GssMqHurowYH0Nfyg/tX/wDBXr/gnL46/wCDeHVtE8IeP/D994j8WfDGLwjp/g23vIpNbg1i5slshA1grGdPssp3s5Ty9iB1ZgyFv3v/AOCV/wAJ/iB8Cv8Agm18C/hB8VYJbTxJ4e8EaLZ6jaz8S2twlrHvgbH8UJPlH/doA/kh/wCCi/iv40ftVf8ABwlN8LPi7+yle/HTRfhj8P7g+G/Ak/iO1s7S7t31EL/wkJMn7nZMHWE2sgLnbGWyEAr9I/2Mvib+xj+xj+1J+2x4l+BnwMu/Aniv4JfDzQNc8RWia6bizvobfRTfxafbQeUYrT7OsX2cyIZFcjfjHFereHv+Vs7Xf+zdU/8ATzBXwp4i/wCT5P8AgsX/ANkn0/8A9Ra4oA+5P2bv+DkTRf2iPCmm/GyD9nrx3onwjsPD+q614v8AH1xGW0TR5tKsbi7e1tpfJUX7tJClqGBh/fyqoB43X/gx/wAFwv28/jHonhX49aV+w94s/wCFJeM7u2TTvFVn4is73UhYXcojS+l0iK3NwsO1hIzb9ioCwkZea7r/AIJ661+zp4f/AODbPwDe/tdEp8L5fhk9r4oYRyyFdLuhJDOQsAaXIRyQYwXXqvIFfgd40+Ker/8ABILTvhd41/4JN/tr2/x68AeIPFWn6HYfBnULuz169fT9QkOYrUwyNLBsOEwsFqUkcZJYlGAPof8AY+/4KJf8FNvDX/BWX9sSfwX+zV4l+JN3Pe+Go7rwifGNlbx+F0gtplhZHuA0Di/T99iBV2Yw+TzX9wqklQSMH0r+Sf8AZL/am/Zv/Yz/AOC+n7eNl+1j460L4cDxTB4K1LSJvEd/DpsF7b2unEymCS4ZEkZfPT5EJc/NgHa2P62AQwDDkGgD+CL/AII4/wDBRP8Aa/8A2Z/g78c/hL+yF+y14o+PF3afF/xXrmrana38Wj6VawTC2RbeGeSKdrm8xA7NBGgdVaMjdvxX7zaf/wAHDn7It5/wTJsf+CjTaLrBudQ1n/hEYfA8ISXWn8V/9AxMYVjtxN5m0HyCG8veRFX5tf8ABvj/AMFAf2H/ANlb9mf9oXwv+0j8WPCvgfVtP+Mni3WJNO1nVILS9ksZEtUSWG3dhNOGeJ0UQo7Mw2gFiAfxL8H+GPF3gP8AZR+GX/BWbxboWoWnwZb9r67+JE1qYCxt/DV1Naxw37QrlgFltpYF7FtgGQ60Af1XfDv/AILf/H/4e/H34ffBz/gpj+zHrP7PWkfFq/XSvCniSTX7TXrB9Qm2+Ra332eKI2ckmcASEuCfmQIHdez/AGhf+CzfxjP7Wvi/9jD/AIJufs9ap+0V4q+GccD+NL6LXLTw9pOkzTjclqLu5SVJrkgOpj+Qh1ZVDlJAv51/8F+P2wf2X/2+/hx+z7+xZ+xT470P4mfEbxz8UfD+rabD4YvoNTfT7KzScS3c7QO4t9gmHEu07BIxGI2I3P8AglB+01+z/wDsCf8ABQv9uD9mX9tbxho/w38V+Ivibe+OtJvfFF7BpkGraJqzSzQPDcTukTmON0cxhgQJDtB2PsAM7/go/wD8FMvh1/wUl/4N/P2n9V0zw5qXgHx18P5tO0Dxj4O1rb/aGjajHq1n8rEBd8TlXCSFEJaN1KqVIr700P8A4Kt6T8HT+zv/AME/P2ZfA8/xk+MPiTwdoN5q2k2V+un2XhvSPsMBN9ql4YbgQKdyssXll2Qg/eeFZf5pfjx4m0z9pP8AZh/4Kw/t3fB4SS/CnxzqvgvRdA1JUKW2rXOiXsKXU8WcEqPMSRWwMi49cgfVn/BODUtY/wCDfT9qDwjY/tO3C+Ifgl+1roug3tl8S7+FRfaR4jNojtY6ldcsLYtI2zexRUKyqRsucAH6jfBn9pr9lf8AZq/bD/4KNfHv4ZfC/Ubbxr8IdI0vxD4uvZdceaHxK0WnXl7FHbwvDtsdghaMsPN3bg2OMHxu9/4OXf2jJf2etM/ba0D9i/xnL8DYYLSbXvFd1rFvbNbid1jlksrY25a8t45GKrcboo3I+YxckfLetMr/ABu/4LUuhyD4D0wgjv8A8U/qdfamqRxy/wDBoaqyAMB8C4Tz6i1Uj8jQB99/tu/8FoPhx+zb4a+EGi/s4eCdV+N/xJ+PllFqngbwjo0q2c15p0sKXH2u5mkST7NAIn3b2ib7rk7UjkdfIf2Wf+CzH7S3xE/b48I/8E7P2w/2Z9Q+C3jTxVol/rkdzN4jtdZtGtrJJHDQtbQBZBIY2Q/vAY2GDur8M/h/8Z/BP7A37ZH/AATy/bq/aolm0n4SeIP2Y9A8EQ+IZIZJ7TS9ZSza4PmeUrsnmRzxJnBO12b7iMV+r/C/7en7LH7e/wDwc9/BHxb+yZ4nXxfonhf4b6/pN5qUFvNDatdlLuYpC8yIZQqSLl0BTJwCSDQB/ZDRXwx+yr/wUT/Zp/bK+NPxf+AXwQvL658RfA7WU0LxTHd2j28UV4813ABC7cSrvsphuXjAB7ivuegAooooAKKKKACiiigAooooA+W/2tP+RC0v/sLRf+ipq4D4Z/6mP8K7/wDa0/5ELS/+wtF/6KmrgPhn/qY/woA+uND/ANUPoK6uuU0P/VD6CuroA//R/v4qtdf6o1Zqtdf6o0AeK+Nf+PdvpXx2/wDyVLw7/wBhaz/9HLX2J41/492+lfHb/wDJUvDv/YWs/wD0ctAH6b0UUUAFFFFABRRRQAUUUUAFFFFABRRRQAUUUUAFFFFABRRRQAUUUUAFFFFABRRRQAUUUUAFFFFABRRRQAUUUUAFFFFABRRRQAUUUUAFFFFABRRRQAUUUUAFFFFABRRRQAUUUUAFFFFABRRRQAUUUUAFFFFABRRRQAUUUUAFFFFABRRRQAUUUUAeIftHf8ka1f8A3rX/ANKI6+dvhh/q4/oK+if2jv8AkjWr/wC9a/8ApRHXzt8MP9XH9BQB9ieHf9WPpXaVxfh3/Vj6V2lABRRRQAUUUUAFFFFABRRRQAVXuf8AVn6VYqvc/wCrP0oA8Z8Z/wCpk+lfHsn/ACVHw7/2FbP/ANHLX2F4z/1Mn0r49k/5Kj4d/wCwrZ/+jloA/TCiiigAooooAKKKKAP5Av2yP+VyT9k7/slWpf8ApN4rr+hv/goZ+wf4D/4KQ/s3X37LHxU8W+J/CXhjV7qC41JvCtzbWlzfRW5LrbTPdWt2pgMmyRlVFZmjUFtu5T+Uf/BVn/ggr8U/+CiX7cPhL9uj4KftF6r8C/E3g/wrD4Zs5dE0qae/TZPfSyTxX0Gp2MsXmxXzwsirygOWIcqPkD/iHE/4Km/9JOfir/371f8A+aSgD+lX9lf9jL4Afsd/ss6B+x18HtGQeCdB059ONveqk73wn3G4luzsVJZLlnd5jsVWLEBQuFHxZ/wTb/4Iu/s1f8ErfiP468a/st+KvGQ0bx82+88L6tfWt1otrIkpeGS2RLOK4R4EZoUZ7iQtE2JN7BWX8ff+IcT/AIKm/wDSTn4q/wDfvV//AJpKP+IcT/gqb/0k5+Kv/fvV/wD5pKAD/g9W/wCUWXgH/squlf8Apo1iv6/a/ii+Nf8Awaf/ALaH7SnhW38C/tF/8FAPGvj/AES0u0v4NP8AEmkX2q2sV1GjxrMkV14gkRZVSR0DgbgrsAcMc/2u0AeW+Mfgd8FPiH458OfE/wCIHg/RNd8S+D3mk0HVtQ0+C6vtLe4CiVrOeRGktzIFUOYmUtgZzgV3XiHw9oHi7QL7wp4rsbfU9L1O3ltLyzu4lmt7i3mUpJFLG4KujqSrKwIYEgjFbFFAH85vxk/4I1+DvHv/AAVt+FPxWsfhJ4Lm/Zw8H/DTUvDN34fawsU02DUbq8vLpVi0vyxHgvcCUukYxIzNndk1+23wl/Zk+AP7N3w5vvhr+zT4H0HwJpN2JJGstB0+DToJZ3TZ5kiwIgdyAAXbLYHWvfKKAP5tv+CMn/BD34Mfs8/sL+B/A/7f3wS8Ca78WPDt9qk0uoXumWGsXCxT3kstuPtTRuX2IylQWPlnpg1+/fj/AOCfwZ+K914fvvil4R0XxLP4T1CHV9Dk1WwgvH0zULc5iurQzIxgnjIBSWPa69iK9OooA/Dj9vL9h39oz9t3/gpn+znrHifT7RP2evgxPP4z1N3uozPqXiiPcLGI2uSxjtmSJ95G1lklU9q/ceiigDzD4vfBL4MftBeDJPhz8evCGi+N/D0ssc76Xr9hBqVk0sRyjmC4SSMsh5UlcjtXiPwr/wCCfP7BHwL8dWXxQ+CXwQ8AeDvE2miUWmr6H4a07T76ATRtFJ5dxb26SJvjdkbaw3KxU5BIr69ooA+Ufj7+wl+xX+1T4i0/xf8AtK/Cfwl481bS0WK1vdd0i1vriOJGLCISTRsxi3MT5ZJQkkkZr6W8PeHtA8I6DZeFfCljb6ZpemwR2tpZ2kSw29vBEoVI440AVERQAqqAABgDFbFFAHnGi/B34ReG/iTrXxl8O+FdHsPF/iOGC21bXLaxhi1K/htVCwx3NyqCaZIlAEauzBAMDFeLfHT9hD9ir9p7xjpvxC/aL+E/hPxxrukIsVpqGuaRbX1xHGhLLH5ksbMYwxLBGJUEk4zX1hRQBBa2ttY20dlZRrDDCoSONAFVVUYAAHAAHAArwv8AaD/ZY/Zs/ax8JweBv2mvAehePdJtJvtFvba7YQ3yQTY2+ZF5qsY3K8FkIJBIzg173RQB82/Cf9jb9kX4Da9Y+Kvgl8LvCXhHVtM0w6LaX+j6NaWV3DprSec1qs8USyCFpSZGj3bWcliCxzWPqH7Cn7EuqfB+L9nu/wDg/wCCpPAcFxJdw+HDoFiNKiuJTl5ktRCIUlYkkuqBiec5r6qooA+cP2ev2Pf2Uv2S9PvdL/Zh+HHhvwBDqRVrz+wdNgsWuSmdvnPEitJtydu8nGeK838d/wDBNn/gnr8Ufie/xq+I/wAD/Auu+LZZvtM2rX2gWU93NP2klkeEmVxgYd9zDAweK+16KAPmX9oD9i79kX9q3StO0X9pX4Z+GfHVvowK6eNb0y3vGs1bG4QNIhaINtUMEIBAAOcV6r8M/g/8J/gv4BtPhV8H/DGleFfDFgjx22kaRZxWVjEshJcJBCqxjcSS2F5JJPJr0WigD4S8Of8ABLv/AIJteEp9en8PfAP4fWx8URtDqyjw5YMl3EzrI0citCVMZdFcx42FlDEZANfR0f7PfwDh8a+HPiTF4H8Pr4i8H2DaVoOqjTLYXul2LoY2trOfy/Mt4ShKGOJlQqcYxXr9FAHml/8ABb4O6r8VbH47ap4T0a58caXYvpln4hlsIH1W3spCzNbxXZQzpCzOxMauFJYkjk14/qH7Cv7FmrfHaH9p/U/hN4RuPiNbzrdR+Jn0a1Oqi4jGFm+0mPzDKoACyFt6gDBGK+q6KACvlT4bfsK/sWfBv4t3vx7+Evwm8I+GfG2oiYXGuaXo1raX8n2g5mzNFGr5lPMhBy5+9mvquigD4q0H/gm5/wAE+vC/xiH7Qfhv4JeB7Dxutz9tTWrfQrOO8S6LFjcJIsQKzliSZVxISclq+1aKKAPNI/gv8HYfizJ8fIfCejL46l07+x38RiwgGrNpwcS/ZTebPPMHmAP5RfZuAOM81hSfs3/s7y674x8US+AvDjan8RLRbDxXdnS7Yz67aJEYFh1CTy913EsJMQScuoQlcbTivaKKAPOdC+D3wk8L/DKH4KeGfC2kad4Nt7Q2EWg2tjDDpkdoQQYVtUQQiIgnKBNvPSvm/wCE/wDwTb/4J8/Aj4ip8Xfgt8EvA/hTxPCWaHU9K0GztLmAsCG8l44lMWQSD5e3I619rUUAfKnx3/YV/Ys/ai8TWHjT9pH4T+EfHmr6XGIbW917RrXULiOIEsIxJNG7eXuJOwkrkk45r6qAAGBwBS0UAfAHi7/glH/wTF8d6qmt+LP2e/h1eXaXUt80reGrBWluJjukkl2wjzS7cv5m7ceTmvtC++H3gLU/Asnwu1LQ9PuPDMtl/Zr6RLbRvYNZ7PL8g25UxmLZ8nl7du3jGK6+igD5H+An7An7EH7LHim88cfs3fCPwj4G1q/R4p7/AETR7WyuWicgtGJYo1dYiQD5akJkDjitb9oj9iL9jv8Aa3n0+8/af+F/hfx9c6UpSyuNd0u3vZ7dC24pHLKhdEZuWQMFY9Qa+oqKAPE7j9mr9nO7+Co/Zsu/AHhyb4dCBLb/AIRZ9Ktm0XyI3Eqx/YjGbfYsgDhfLwGAbrzVj4j/ALOv7Pvxi+G1t8Gvi54E8PeKvB9n5H2fQtY0u2vtNi+yjbDstZo3hXyl4jwg2jgYr2SigD590b9kv9lXw7Z+KtO8P/DPwpY2/jmxh0vxJFb6NZxJrFjbQtbxW98qxAXMMcDNEkcwdFjJQAKSK69vgZ8En+EP/DPr+DtDPgL7ANL/AOEaOn2/9kfYQNotvsezyPJ28eXs2Y4xXqdFAH5D/wDBRfwR+2z4S+G/w/8Ahf8A8E9Pgr8NPiV4C063udP17wZ4sWOxtILS2S3TTU06PKWsSRKsyFGRlVdgRRjj5C/4J2/8E8P2zdR/b0b/AIKNft4+HvBfw2m8M+EX8F+CPAHgYiSy0y0uJzcXFxPIqiIyuzyKBGSG3nIUKoP9GtFAHkXw6/Z9+Avwf8V+J/Hfwl8EaB4X1zxtdC+8RajpGm29jd6vdK0jia9mhjR7mQPNKweUs26RznLHPrtFFABRRRQAUUUUAFFFFABRRRQB8t/taf8AIhaX/wBhaL/0VNXAfDP/AFMf4V3/AO1p/wAiFpf/AGFov/RU1cB8M/8AUx/hQB9caH/qh9BXV1ymh/6ofQV1dAH/0v7+KrXX+qNWarXX+qNAHivjX/j3b6V8dv8A8lS8O/8AYWs//Ry19ieNf+PdvpXx2/8AyVLw7/2FrP8A9HLQB+m9FFFABRRRQAUUUUAFFFFABRRRQAUUUUAFFFFABRRRQAUUUUAFFFFABRRRQAUUUUAFFFFABRRRQAUUUUAFFFFABRRRQAUUUUAFFFFABRRRQAUUUUAFFFFABRRRQAUUUUAFFFFABRRRQAUUUUAFFFFABRRRQAUUUUAFFFFABRRRQAUUUUAFFFFAHiH7R3/JGtX/AN61/wDSiOvnb4Yf6uP6Cvon9o7/AJI1q/8AvWv/AKUR187fDD/Vx/QUAfYnh3/Vj6V2lcX4d/1Y+ldpQAUUUUAFFFFABRRRQAUUUUAFV7n/AFZ+lWKr3P8Aqz9KAPGfGf8AqZPpXx7J/wAlR8O/9hWz/wDRy19heM/9TJ9K+PZP+So+Hf8AsK2f/o5aAP0wooooAKKKKACiiigAooooAKKKKACiiigAooooAKKKKACiiigAooooAKKKKACiiigAooooAKKKKACiiigAooooAKKKKACiiigAooooAKKKKACiiigAooooAKKKKACiiigAooooAKKKKACiiigAooooAKKKKACiiigAooooAKKKKACiiigAooooA+W/2tP+RC0v/sLRf+ipq4D4Z/6mP8K7/wDa0/5ELS/+wtF/6KmrgPhn/qY/woA+uND/ANUPoK6uuU0P/VD6CuroA//T/v4qtdf6o1Zqtdf6o0AeK+Nf+PdvpXx2/wDyVLw7/wBhaz/9HLX2J41/492+lfHb/wDJUvDv/YWs/wD0ctAH6b0UUUAFFFFABRRRQAUUUUAFFFFABRRRQAUUUUAFFFFABRRRQAUUUUAFFFFABRRRQAUUUUAFFFFABRRRQAUUUUAFFFFABRRRQAUUUUAFFFFABRRRQAUUUUAFFFFABRRRQAUUUUAFFFRvIFoAkorOkvFTvVB9VjXPNAHQUVyza5EO4qP+3o/WgDraK5L+3o/Wj+3o/WgDraK5L+3o/Wj+3o/WgDraK5L+3o/Wj+3o/WgDraK5L+3o/Wj+3o/WgDraK5ZdciP8QqymqxtjBoA6Cis6O8V+9XElDUAeK/tHf8ka1f8A3rX/ANKI6+dvhh/q4/oK+if2jv8AkjWr/wC9a/8ApRHXzt8MP9XH9BQB9ieHf9WPpXaVxfh3/Vj6V2lABRRRQAUUUUAFFFFABRRRQAVXuf8AVn6VYqvc/wCrP0oA8Z8Z/wCpk+lfHsn/ACVHw7/2FbP/ANHLX2F4z/1Mn0r49k/5Kj4d/wCwrZ/+jloA/TCiiigAooooAKKKKACiiigAooooAKKKKACiiigAooooAKKKKACiiigAooooAKKKKACiiigAooooAKKKKACiiigAooooAKKKKACiiigAooooAKKKKACiiigAooooAKKKKACiiigAooqN5AtAElFZ8t4qd6oPqsanrQBv0Vyza5EP4hUf9vR+tAHW0VyX9vR+tH9vR+tAHW0VyX9vR+tH9vR+tAHW0VyX9vR+tH9vR+tAHW0VyX9vR+tH9vR+tAHW0Vyq65Ef4hVpNWjbnNAHQUVnR3qv0NXElDUAfMH7Wn/IhaX/ANhaL/0VNXAfDP8A1Mf4V3/7Wn/IhaV/2Fov/RU1cB8M/wDUx/hQB9caH/qh9BXV1ymh/wCqH0FdXQB//9T+/iq11/qjVmq11/qjQB4r41/492+lfHb/APJUvDv/AGFrP/0ctfYnjX/j3b6V8dv/AMlS8O/9haz/APRy0AfpvRRRQAUUUUAFFFFABRRRQAUUUUAFFFFABRRRQAUUUUAFFFFABRRRQAUUUUAFFFFABRRRQAUUUUAFFFFABRRRQAUUUUAFFFFABRRRQAUUUUAFFFFABRRRQAUUUUAFFFFABRRRQA1zhawr27ES5rYuDhM155r995KE5oAzNV19YM5avNtS8bxwkjfXzN+1f4y1bSfhNq9zod3LZ3Sm32TQSNHIuZ4wcMpBGRkHB6GvyPk+J/xKm/1viHU2+t3Kf/Zq9LB5bLEQc4ytrY+Rz/i6jleIjh6lJybipXTXVtfofu1cfEiFDjzP1qh/wsuL/noPzr8Km+IPj1/va3qB+tzJ/wDFUz/hPfHP/Qav/wDwJk/+Krq/sOp/OjxP+Ik4b/nxL70fux/wsuL/AJ6D86P+Flxf89B+dfhP/wAJ745/6DV//wCBMn/xVH/Ce+Of+g1f/wDgTJ/8VR/YdT+dB/xEnDf8+Jfej92P+Flxf89B+dH/AAsuL/noPzr8J/8AhPfHP/Qav/8AwJk/+Ko/4T3xz/0Gr/8A8CZP/iqP7DqfzoP+Ik4b/nxL70fux/wsuL/noPzo/wCFlxf89B+dfhP/AMJ745/6DV//AOBMn/xVH/Ce+Of+g1f/APgTJ/8AFUf2HU/nQf8AEScN/wA+Jfej92P+Flxf89B+dH/Cy4v+eg/Ovwn/AOE98c/9Bq//APAmT/4qj/hPfHP/AEGr/wD8CZP/AIqj+w6n86D/AIiThv8AnxL70fvPb/EeJzjzP1rr9N8cRzMBvr+exfiD49T7ut6gPpcyf/FVaj+J/wASoeYfEOprj0u5R/7NR/YdT+dB/wARJw3/AD4l96P6UtK19bjGGrvrK780A5r83f2UPGWrat8J9Iudbu5ry6Y3G+WdzJI2JpAMsxJOBgD2Ffe+gXvnIpzXj1afJOUH0bR+gYLErEYeniIqynFSt6q5zH7RZz8GdX/3rX/0oir54+GH+rj+gr6B/aGbPwY1f62v/pRFXz98MP8AVx/QVmdJ9ieHf9WPpXaVxfh3/Vj6V2lABRRRQAUUUUAFFFFABRRRQAVXuf8AVn6VYqvc/wCrP0oA8Z8Z/wCpk+lfHsn/ACVHw7/2FbP/ANHLX2F4z/1Mn0r49k/5Kj4d/wCwrZ/+jloA/TCiiigAooooAKKKKACiiigAooooAKKKKACiiigAooooAKKKKACiiigAooooAKKKKACiiigAooooAKKKKACiiigAooooAKKKKACiiigAooooAKKKKACiiigAooooAKKKKACiiigBrHC5rEvLoRqTWvMSErgNdvfKQnNAGVq2vLBn5ulea6n43jgJy9fNH7WPjHVtI+EusXWh3ctndKbfZNBIY5FzPGDhlIIyCQeehr8jJPih8S5v9b4i1Nvrdyn/ANmr0sHlssRBzjK2tj5HP+LqOV4iOHqUnJuKldNdW1+h+7Vx8R4kOC/61n/8LLi/56D86/CpviD49bltc1A/W5k/+Kpn/Ce+Of8AoNX/AP4Eyf8AxVdX9h1P50eJ/wARJw3/AD4l96P3Y/4WXF/z0H50f8LLi/56D86/Cf8A4T3xz/0Gr/8A8CZP/iqP+E98c/8AQav/APwJk/8AiqP7DqfzoP8AiJOG/wCfEvvR+7H/AAsuL/noPzo/4WXF/wA9B+dfhP8A8J745/6DV/8A+BMn/wAVR/wnvjn/AKDV/wD+BMn/AMVR/YdT+dB/xEnDf8+Jfej92P8AhZcX/PQfnR/wsuL/AJ6D86/Cf/hPfHP/AEGr/wD8CZP/AIqj/hPfHP8A0Gr/AP8AAmT/AOKo/sOp/Og/4iThv+fEvvR+7H/Cy4v+eg/Oj/hZcX/PQfnX4T/8J745/wCg1f8A/gTJ/wDFUf8ACe+Of+g1f/8AgTJ/8VR/YdT+dB/xEnDf8+Jfej95YPiRCxwJB+dddpvjmOYjD1/PcvxA8er93W78fS5k/wDiqtR/E74lRf6rxDqa/S7lH/s1H9h1P50H/EScN/z4l96P6UNK8QLPj5utd/ZXYkAwa/Nn9lPxpq2q/CnSLjW7uW8umM++adzJI2JpAMsxJOBgDnoK+9/D9/5qDmvHq0+ScoPo2j9AwWJWIw9PERVlOKlb1Vzyj9rBs+ANK/7C0X/omauD+Gf+pj/Cu2/arbPw/wBK/wCwtF/6Kmrifhn/AKmP8KzOk+uND/1Q+grq65TQ/wDVD6CuroA//9X+/iq11/qjVmq11/qjQB4r41/492+lfHb/APJUvDv/AGFrP/0ctfYnjX/j3b6V8dv/AMlS8O/9haz/APRy0AfpvRRRQAUUUUAFFFFABRRRQAUUUUAFFFFABRRRQAUUUUAFFFFABRRRQAUUUUAFFFFABRRRQAUUUUAFFFFABRRRQAUUUUAFFFFABRRRQAUUUUAFFFFABRRRQAUUUUAFFFFABRRRQBTvDiM14x4wuTHG2K9kv+Iia8H8cuRE4oA/OP8Aat1Jpfh5qduTwxh/SVK/Lqv0c/aimLeDr9PVov8A0YtfnHX1GSfwJev6I/FvEb/kZU/+va/9KmFFFFewfABRX1r+yX+zjo/7R3iLV9E1fU5tMXTbZJ1aFFcsXbbg7q47xL8BdQ8H/tGW3wJ8QTOiXOq21lHdKvL291IqpKo6ZKNkjOAwIzxWH1inzunfVK56X9k4r6vTxXJ+7m+VO632t5fM+e6K9h+Pvwzsvg78XNY+G+n3T3sOmNEqzSKFZ/MiSTkDjgtj8K8puLC+s0SW7hkiWUbkLqVDD1GetawmpRUlszjr4edGrOjUXvRbT9U7MqUUV678CvhRL8bvihp3w0gvhpragJiLho/NCeTE8n3Qy5ztx170TkoxcpbIVChOtUjRpK8pNJLzeiPIqK6LxdoDeFPFmqeFnl886bdz2pkA27/Jcpuxk4zjOMmudpp3V0RODjJxlugooopkn6ifspakYfh5plvn7pm/9Gua/TDwfcmSJcmvyn/ZemZfB9gno0v/AKMav1E8DOTCn4V8Pi/49T1f5n9J5F/yLcL/ANe4f+kou/tBHPwX1b62v/pRFXgXww/1cf0Fe8/H85+C2rn3tf8A0oirwb4Yf6uP6Cuc9U+xPDv+rH0rtK4vw7/qx9K7SgAooooAKKKKACiiigAooooAKr3P+rP0qxVe5/1Z+lAHjPjP/UyfSvj2T/kqPh3/ALCtn/6OWvsLxn/qZPpXx7J/yVHw7/2FbP8A9HLQB+mFFFFABRRRQAUUUUAFFFFABRRRQAUUUUAFFFFABRRRQAUUUUAFFFFABRRRQAUUUUAFFFFABRRRQAUUUUAFFFFABRRRQAUUUUAFFFFABRRRQAUUUUAFFFFABRRRQAUUUUAFFFFAFS7OIzXj3i65McbH2r1+9/1Rrw3xs5EL/SgD84/2sNSaX4c6nbk/eMP6TJX5ZV+k37U0xPgzUEP96L/0YtfmzX1GSfwJev6I/FvEb/kZU/8Ar2v/AEqYUUUV7B8AFFfWv7Jf7OOj/tHeItX0TV9Tm0xdNtknVoUVyxdtuDurjvEvwF1Dwf8AtGW3wJ8QTOiXOq21lHdKvL291IqpKo6ZKNkjOAwIzxWH1inzunfVK56X9k4r6vTxXJ+7m+VO632t5fM+e6K9h+Pvwzsvg78XNY+G+n3T3sOmNEqzSKFZ/MiSTkDjgtj8K8puLC+s0SW7hkiWUbkLqVDD1GetawmpRUlszjr4edGrOjUXvRbT9U7MqUUV678CvhRL8bvihp3w0gvhpragJiLho/NCeTE8n3Qy5ztx170TkoxcpbIVChOtUjRpK8pNJLzeiPIqK6LxdoDeFPFmqeFnl886bdz2pkA27/Jcpuxk4zjOMmudpp3V0RODjJxlugooopkn6d/sram0XgDTbfP3TN+sr1+mXg25LxJz2r8ov2YpivhOxX0aT/0Y1fqP4EctEmfSvh8X/Hqer/M/pPIv+Rbhf+vcP/SUc9+1M2fh9pX/AGFov/RM1cd8M/8AUx/hXXftR/8AJPdK/wCwtF/6Kmrkfhn/AKmP8K5z1T640P8A1Q+grq65TQ/9UPoK6ugD/9b+/iq11/qjVmq11/qjQB4r41/492+lfHb/APJUvDv/AGFrP/0ctfYnjX/j3b6V8dv/AMlS8O/9haz/APRy0AfpvRRRQAUUUUAFFFFABRRRQAUUUUAFFFFABRRRQAUUUUAFFFFABRRRQAUUUUAFFFFABRRRQAUUUUAFFFFABRRRQAUUUUAFFFFABRRRQAUUUUAFFFFABRRRQAUUUUAFFFFABRRRQBQ1D/UmvBPHf+rave9Q/wBSa8E8djMb0Aflt+1B/wAilff70f8A6MWvzqr9Fv2oFI8I3x/2o/8A0YtfnTX1GSfwJev6I/FvEb/kZU/+va/9KmFFFFewfAH6F/sGSywWHxLmhYo6eHJmVlOCCA+CDXvkEcX7Tfhj4Y/tDaaok8ReFtc03TtdVR8zRi5j/eEDsGYSDHAWRv7tfHf7J3xW8B/DGw8dQ+Nr02bazoctpZgRSSeZOwbCfIrbc56thferX7FP7Q2nfAn4jTw+L7hofDusReXeMFaQRSx5aKXagZjg5U4B4bPavJxFCbnUqQWqtbzVrNf11PvMqzLDww+Ewlea9nLmUtV7r57wk+1n3to2ffXhr4Z6T4i/a2+KvxMvrS1vb3w1DYnTYr47bZbqW1VhJIcHaE8sDdg7QxI5Ax0fh6w+J3xC0LxF4J/ae1jwtqmj6laObM2U6ebbXPRNuVXgAkhiSwIHXJr5Qtf2rfhVpv7SPj661bfq3gXx1b29pcTRROrgRwLFv2OEfaN0isMbuhGcYPCt8O/2CvDn2vxFN431DXYVRza6altLE7OR8od/LQkDPX93yOvauV0J6c6e0be7e1kvudz2lmWHXN9XlBrnq86dRQT5pSs2rPnTi1a17dD334P6f4V/bs+Den+CfH8r2niPwRPAr3sSAvNZPxjPAzIiFW9HVX5BK12Xw3/aYu/Ev7Xmm/Bb4fwRWPg7S4LnS4oPLwzfZIXYuM8qN8aqAf4V5wSa+brP9pjwF+zh8KPD/gn9nW8j1fWLi5jvtevpLeSNZCmC0A85Fba33AVHyoCR8zEjX8SfHP8AZ20X9pfwr+0j4CvHYXgk/t7ThbypJbyTwtGZQWQI5G/5wjHLLkZ3E1UqEpOa5HytS5V2fp0v0MaWaUqccPJYiKrRlS9tJNe9G+iTv73Kvjtvv0PBv2pP2jfiZ8UNd1T4beK5bd9L0bWbhrZY4QjgwNJEuWHX5WOfU18hV9e/tO6H+zo93deO/hD4sm1rUta1OS5msWt3jSCGffIxDui5w+AAecHvgmvkKvWwqiqa5I2+Vj4TOpVpYubr1FN91JSVumqv06dAoooroPKP0V/Zf/5FKx/3pP8A0Y1fqP4E/wBSn4V+XP7L4P8AwiNif9qT/wBGNX6j+BARCgPtXw+L/j1PV/mf0nkX/Itwv/XuH/pKLnx+/wCSLav9bX/0oirwb4Yf6uP6Cvefj9/yRbV/ra/+lEVeDfDD/Vx/QVznqn2J4d/1Y+ldpXF+Hf8AVj6V2lABRRRQAUUUUAFFFFABRRRQAVXuf9WfpViq9z/qz9KAPGfGf+pk+lfHsn/JUfDv/YVs/wD0ctfYXjP/AFMn0r49k/5Kj4d/7Ctn/wCjloA/TCiiigAooooAKKKKACiiigAooooAKKKKACiiigAooooAKKKKACiiigAooooAKKKKACiiigAooooAKKKKACiiigAooooAKKKKACiiigAooooAKKKKACiiigAooooAKKKKACiiigCle/6o14V43/1L/Svdb3/VGvCvG/8AqX+lAH5c/tSf8iff/WL/ANGLX5v1+kP7UgP/AAh9+feL/wBGLX5vV9Rkn8CXr+iPxbxG/wCRlT/69r/0qYUUUV7B8AfoX+wZLLBYfEuaFijp4cmZWU4IID4INe+QRxftN+GPhj+0NpqiTxF4W1zTdO11VHzNGLmP94QOwZhIMcBZG/u18d/snfFbwH8MbDx1D42vTZtrOhy2lmBFJJ5k7BsJ8ittznq2F96tfsU/tDad8CfiNPD4vuGh8O6xF5d4wVpBFLHlopdqBmODlTgHhs9q8nEUJudSpBaq1vNWs1/XU+8yrMsPDD4TCV5r2cuZS1XuvnvCT7Wfe2jZ99eGvhnpPiL9rb4q/Ey+tLW9vfDUNidNivjttlupbVWEkhwdoTywN2DtDEjkDHR+HrD4nfELQvEXgn9p7WPC2qaPqVo5szZTp5ttc9E25VeACSGJLAgdcmvlC1/at+FWm/tI+PrrVt+reBfHVvb2lxNFE6uBHAsW/Y4R9o3SKwxu6EZxg8K3w7/YK8Ofa/EU3jfUNdhVHNrpqW0sTs5Hyh38tCQM9f3fI69q5XQnpzp7Rt7t7WS+53PaWZYdc31eUGuerzp1FBPmlKzas+dOLVrXt0Pffg/p/hX9uz4N6f4J8fyvaeI/BE8CvexIC81k/GM8DMiIVb0dVfkErXZfDf8AaYu/Ev7Xmm/Bb4fwRWPg7S4LnS4oPLwzfZIXYuM8qN8aqAf4V5wSa+brP9pjwF+zh8KPD/gn9nW8j1fWLi5jvtevpLeSNZCmC0A85Fba33AVHyoCR8zEjX8SfHP9nbRf2l/Cv7SPgK8dheCT+3tOFvKklvJPC0ZlBZAjkb/nCMcsuRncTVSoSk5rkfK1LlXZ+nS/QxpZpSpxw8liIqtGVL20k170b6JO/vcq+O2+/Q8G/ak/aN+JnxQ13VPht4rlt30vRtZuGtljhCODA0kS5YdflY59TXyFX17+07of7Oj3d147+EPiybWtS1rU5Lmaxa3eNIIZ98jEO6LnD4AB5we+Ca+Qq9bCqKprkjb5WPhM6lWli5uvUU33UlJW6aq/Tp0Ciiiug8o/Qn9mT/kVbL/ek/8ARjV+pfgL/Vp9K/LX9mQE+FbL/ek/9GNX6leAv9Un0r4fF/x6nq/zP6TyL/kW4X/r3D/0lHPftR/8k90r/sLRf+ipq5H4Z/6mP8K679qP/knulf8AYWi/9FTVyPwz/wBTH+Fc56p9caH/AKofQV1dcpof+qH0FdXQB//X/v4qtdf6o1Zqtdf6o0AeK+Nf+PdvpXx2/wDyVLw7/wBhaz/9HLX2J41/492+lfHb/wDJUvDv/YWs/wD0ctAH6b0UUUAFFFFABRRRQAUUUUAFFFFABRRRQAUUUUAFFFFABRRRQAUUUUAFFFFABRRRQAUUUUAFFFFABRRRQAUUUUAFFFFABRRRQAUUUUAFFFFABRRRQAUUUUAFFFFABRRRQAUUUUAUr4ZiNeG+NYS8Tivdrpcx15R4oszKjDFAH5R/tTWZTwPqEvo0X/o1a/NOv17/AGpvCep6j8N9Ug0i2lurhjDsihQu7YlQnCqCTgZJ9q/K6bwL42t/+PjR75P963kH/stfTZNOKoNSfX9EfjviFhq1TMacqcG17NbJv7UjlaK238M+JIzh9PuR9YmH9Kj/AOEf17/nxuP+/bf4V63taf8AMvvPhPqOJ/59S/8AAX/kZFFa/wDwj+vf8+Nx/wB+2/wo/wCEf17/AJ8bj/v23+FHtaf8y+8PqOJ/59S/8Bf+RkUVr/8ACP69/wA+Nx/37b/Cj/hH9e/58bj/AL9t/hR7Wn/MvvD6jif+fUv/AAF/5GRRWv8A8I/r3/Pjcf8Aftv8KP8AhH9e/wCfG4/79t/hR7Wn/MvvD6jif+fUv/AX/kZFFa//AAj+vf8APjcf9+2/wo/4R/Xv+fG4/wC/bf4Ue1p/zL7w+o4n/n1L/wABf+RkUVtp4Z8RycR6fct9ImP9Kvw+BfG1x/x76PfP/u28h/8AZaPa0/5l94fUcT/z6l/4C/8AI/QL9lmzL+B9Pmx1aX/0a1fp54KhKxIMV8I/ss+E9T074b6XBq9rLa3CmbfHMhR1zK5GVYAjIwR7V+h3hezMSKMV8XinevUa7v8AM/onJIuOXYaMlZqnD/0lGF+0AuPgvq/1tf8A0oirwT4Yf6uP6Cvf/wBoQY+C+rD3tf8A0oirwD4Yf6uP6Cuc9Q+xPDv+rH0rtK4vw7/qx9K7SgAooooAKKKKACiiigAooooAKr3P+rP0qxVe5/1Z+lAHjPjP/UyfSvj2T/kqPh3/ALCtn/6OWvsLxn/qZPpXx7J/yVHw7/2FbP8A9HLQB+mFFFFABRRRQAUUUUAFFFFABRRRQAUUUUAFFFFABRRRQAUUUUAFFFFABRRRQAUUUUAFFFFABRRRQAUUUUAFFFFABRRRQAUUUUAFFFFABRRRQAUUUUAFFFFABRRRQAUUUUAFFFFAFO8GYyK8T8Zw7om+hr3C5UFK8t8TWhljbigD8p/2qrQp4E1GUjo0X/o1K/Mmv2C/ap8Kapqfw11SDSLaW6uGMOyKFC7tiZCcKoJOBkn2FflPN4E8b2//AB8aNfJ/vW8g/wDZa+myacVQak+v6I/HfELDVqmY05U4Nr2a2Tf2pHK0VuP4Z8SR/f0+5H1iYf0qL/hH9e/58bj/AL9t/hXre1p/zL7z4T6jif8An1L/AMBf+RkUVr/8I/r3/Pjcf9+2/wAKP+Ef17/nxuP+/bf4Ue1p/wAy+8PqOJ/59S/8Bf8AkZFFa/8Awj+vf8+Nx/37b/Cj/hH9e/58bj/v23+FHtaf8y+8PqOJ/wCfUv8AwF/5GRRWv/wj+vf8+Nx/37b/AAo/4R/Xv+fG4/79t/hR7Wn/ADL7w+o4n/n1L/wF/wCRkUVr/wDCP69/z43H/ftv8KP+Ef17/nxuP+/bf4Ue1p/zL7w+o4n/AJ9S/wDAX/kZFFba+GvEb/c0+5P0ib/Cr0XgfxrOcQaPfPn+7byH+S0e1p/zL7w+o4n/AJ9S/wDAX/kffH7Ltm0ngzT5gOrS/wDoxq/T/wAEQlYkz6V8I/sueE9T074daZDq1tLa3CmbfHMhRxmV8ZDAEZGCPav0P8LWflRqMdq+LxTvXqNd3+Z/ROSRccuw0ZKzVOH/AKSjzL9qQY+HulD/AKi0X/oqauQ+Gf8AqY/wrs/2qBj4faUP+otF/wCiZq4z4Z/6mP8ACuc9Q+uND/1Q+grq65TQ/wDVD6CuroA//9D+/iq11/qjVmq11/qjQB4r41/492+lfHb/APJUvDv/AGFrP/0ctfYnjX/UN9K+O3H/ABdPw7/2FrP/ANHLQB+m9FFFABRRRQAUUUUAFFFFABRRRQAUUUUAFFFFABRRRQAUUUUAFFFFABRRRQAUUUUAFFFFABRRRQAUUUUAFFFFABRRRQAUUUUAFFFFABRRRQAUUUUAFFFFABRRRQAUUUUAFFFFAEUq5WuS1WzEqHIrsSMjFUp4A/WgD528R+GRchvlrwjXvh0lwzfJX3Dd6WkoIIrm7rw1FITlaAPz2vfhOkjH93+lZH/CoY/+eVfoTJ4QhY/cqD/hDIf7n+fyoA/P3/hUMf8Azy/z+VH/AAqGP/nl/n8q/QL/AIQyH+5/n8qP+EMh/uf5/KgD8/f+FQx/88v8/lR/wqGP/nl/n8q/QL/hDIf7n+fyo/4QyH+5/n8qAPz9/wCFQx/88v8AP5Uf8Khj/wCeX+fyr9Av+EMh/uf5/Kj/AIQyH+5/n8qAPz9/4VDH/wA8v8/lR/wqGP8A55V+gX/CGQ/3P8/lQPBkP9z/AD+VAHwpZfCdI2H7v9K9M0H4dJbspCV9TR+EIVP3K17Xw1FGRhaAPOfDnhkWwX5a9k0qzESgYqa00tIgMCt+CAJ0oA8Z/aIXHwY1f/etf/SiOvnv4Yf6uP6Cvon9o0Y+DWrj/atf/SiOvnb4Yf6qP6CgD7E8O/6sfSu0ri/Dv+rH0rtKACiiigAooooAKKKKACiiigAqvc/6s/SrFV7n/Vn6UAeM+M/9TJ9K+PZP+So+Hf8AsK2f/o5a+wvGf+pk+lfHsn/JUfDv/YVs/wD0ctAH6YUUUUAFFFFABRRRQAUUUUAFFFFABRRRQAUUUUAFFFFABRRRQAUUUUAFFFFABRRRQAUUUUAFFFFABRRRQAUUUUAFFFFABRRRQAUUUUAFFFFABRRRQAUUUUAFFFFABRRRQAUUUUARyjK1ymp2fnKRiuvPPFUZ4A+QaAPnvxH4ZW53fLmvCNf+HazsTs6+1fbt3pay54rnLnw3HIT8tAH57XvwnSRj+7/SsY/CGP8A55V+hUnhCFj9yq58GQ/3P8/lQB+fv/CoY/8Anl/n8qP+FQx/88v8/lX6Bf8ACGQ/3P8AP5Uf8IZD/c/z+VAH5+/8Khj/AOeX+fyo/wCFQx/88v8AP5V+gX/CGQ/3P8/lR/whkP8Ac/z+VAH5+/8ACoY/+eX+fyo/4VDH/wA8v8/lX6Bf8IZD/c/z+VH/AAhkP9z/AD+VAH5+/wDCoY/+eX+fyo/4VDH/AM8q/QL/AIQyH+5/n8qB4Mh/uf5/KgD4Ss/hNHGwPl/pXpOg/DlbcqfL/SvquPwhCp+5WtbeGo4z92gDzTw34XFsF+WvZ9JsRCoGKntdKSPHFdBBAEoA+ZP2rlx8P9K/7C0P/omauG+Gf+pj/Cu+/azGPAOlD/qLRf8AomauB+Gf+pj/AAoA+uND/wBUPoK6uuU0P/VD6CuroA//0f7+KrXXMRqzUM4zHQB414xiLQt9K+SXs2PxN8PvjpqlofylWvs/xLamSNq+cm0Vv+E80efH3NQtm/KRaAPt+iiigAooooAKKKKACiiigAooooAKKKKACiiigAooooAKKKKACiiigAooooAKKKKACiiigAooooAKKKKACiiigAooooAKKKKACiiigAooooAKKKKACiiigAooooAKKKKACiiigAooooAYY1NNMMZ6ipaKAIfs8R6ik+zQ+lT0UAQfZofSj7ND6VPRQBB9mh9KPs0PpU9FAEH2aH0o+zQ+lT0UAQfZofSj7ND6VPRQBD9niHQUohjHQVLRQAwRqKfRRQB4v+0JH53wh1aMd2tv/R8dfP8A8NbUpFHxX0x8Zrb7Z8N9Rt8Z3GD9JkNeOeBtKMEaDHSgD6C0Bdsaj2rsa5nSItsY+ldNQAUUUUAFFFFABRRRQAUUUUAFV7n/AFZ+lWKguPuGgDxrxkuYX9xXyDLEf+FoeHj6arZ/+jlr7N8Vwl4mHtXy1JprH4i6HLj7upWp/KVaAP0CooooAKKKKACiiigAooooAKKKKACiiigAooooAKKKKACiiigAooooAKKKKACiiigAooooAKKKKACiiigAooooAKKKKACiiigAooooAKKKKACiiigAooooAKKKKACiiigAooooAKKKKAGFFNNMMZ6ipaKAIfs8R6ik+zQ+lT0UAQfZofSj7ND6VPRQBB9mh9KPs0PpU9FAEH2aH0o+zQ+lT0UAQfZofSj7ND6VPRQBD9niHQUohjHQVLRQAwRqKfgDpRRQB8vftYoX8B6WB/0FYv8A0VNXBfDWMiGP8K9T/aZtTd+C9OjAzjU4z/5Clrivh9ZNHEmRQB9LaIMRD6CuqrmtHTbEM10tAH//0v7+KY4ytPooA5LVLPzVI9a8Z8S+G/tAYbetfQs8O/g1z15pYlzxmgD4X8R/Dxblm+T9K8m1D4TrIx/d/pX6L3fhmOXPy1hS+DIXP3KAPzmb4Prn/VfpSf8ACn1/55fp/wDWr9Dv+EIh/uCj/hCIf7goA/PH/hT6/wDPL9P/AK1H/Cn1/wCeX6f/AFq/Q7/hCIf7go/4QiH+4KAPzx/4U+v/ADy/T/61H/Cn1/55fp/9av0O/wCEIh/uCj/hCIf7goA/PH/hT6/88v0/+tR/wp9f+eX6f/Wr9Dv+EIh/uCj/AIQiH+4KAPzx/wCFPr/zy/T/AOtR/wAKfX/nl+n/ANav0O/4QiH+4KP+EIh/uCgD88f+FPr/AM8v0/8ArUf8KfX/AJ5fp/8AWr9Dv+EIh/uCj/hCIf7goA/PH/hT6/8APL9P/rUf8KfX/nl+n/1q/Q7/AIQiH+4KP+EIh/uCgD88f+FPr/zy/T/61H/Cn1/55fp/9av0O/4QiH+4KP8AhCIf7goA/PH/AIU+v/PL9P8A61H/AAp9f+eX6f8A1q/Q7/hCIf7go/4QiH+4KAPzx/4U+v8Azy/T/wCtR/wp9f8Anl+n/wBav0O/4QiH+4KP+EIh/uCgD88f+FPr/wA8v0/+tR/wp9f+eX6f/Wr9Dv8AhCIf7go/4QiH+4KAPzx/4U+v/PL9P/rUf8KfX/nl+n/1q/Q7/hCIf7go/wCEIh/uCgD88f8AhT6/88v0/wDrUf8ACn1/55fp/wDWr9Dv+EIh/uCj/hCIf7goA/PH/hT6/wDPL9P/AK1H/Cn1/wCeX6f/AFq/Q7/hCIf7go/4QiH+4KAPzx/4U+v/ADy/T/61H/Cn1/55fp/9av0O/wCEIh/uCj/hCIf7goA/PH/hT6/88v0/+tR/wp9f+eX6f/Wr9Dv+EIh/uCj/AIQiH+4KAPzx/wCFPr/zy/T/AOtR/wAKfX/nl+n/ANav0O/4QiH+4KP+EIh/uCgD88f+FPr/AM8v0/8ArUf8KfX/AJ5fp/8AWr9Dv+EIh/uCj/hCIf7goA/PH/hT6/8APL9P/rUf8KfX/nl+n/1q/Q7/AIQiH+4KP+EIh/uCgD88f+FPr/zy/T/61H/Cn1/55fp/9av0O/4QiH+4KP8AhCIf7goA/PH/AIU+v/PL9P8A61H/AAp9f+eX6f8A1q/Q7/hCIf7go/4QiH+4KAPzx/4U+v8Azy/T/wCtR/wp9f8Anl+n/wBav0O/4QiH+4KP+EIh/uCgD88f+FPr/wA8v0/+tR/wp9f+eX6f/Wr9Dv8AhCIf7go/4QiH+4KAPzx/4U+v/PL9P/rUf8KfX/nl+n/1q/Q7/hCIf7go/wCEIh/uCgD88f8AhT6/88v0/wDrUf8ACn1/55fp/wDWr9Dv+EIh/uCj/hCIf7goA/PH/hT6/wDPL9P/AK1H/Cn1/wCeX6f/AFq/Q7/hCIf7go/4QiH+4KAPzx/4U+v/ADy/T/61H/Cn1/55fp/9av0O/wCEIh/uCj/hCIf7goA/PH/hT6/88v0/+tR/wp9f+eX6f/Wr9Dv+EIh/uCj/AIQiH+4KAPzx/wCFPr/zy/T/AOtR/wAKfX/nl+n/ANav0O/4QiH+4KP+EIh/uCgD88f+FPr/AM8v0/8ArUf8KfX/AJ5fp/8AWr9Dv+EIh/uCj/hCIf7goA/PH/hT6/8APL9P/rUf8KfX/nl+n/1q/Q7/AIQiH+4KP+EIh/uCgD88f+FPr/zy/T/61H/Cn1/55fp/9av0O/4QiH+4KP8AhCIf7goA/PiD4Qqrf6v9K7bRvhcsLD93+lfaieCYc/cFaVv4QiQ/doA8L8MeCRbbRsr6A0DSBAoAHStmz0BIsYWuptbER8YoAtWUWxQK1aiiTaKloAKKKKACiiigAooooAKKKKACo5RlMVJSEZGKAOC1y182NhivANZ09tN1q11pY/MNpPHMFzjd5bBsZwcZx1r6ivLfzFx1rz7WNDE4PFAHmGrftKajppIXw75mP+nrH/tI1w11+2Lq9sSB4S3Y/wCn7H/tCuz1bwPHOT8nWuFu/htFI3+roApn9tbWAcf8Id/5P/8A2ik/4bX1j/oTv/J//wC0VXPwugPWOk/4Vdb/APPL/P50AWf+G19Y/wChO/8AJ/8A+0Uf8Nr6x/0J3/k//wDaKrf8Kut/+eX+fzo/4Vdb/wDPL/P50AWf+G19Y/6E7/yf/wDtFH/Da+sf9Cd/5P8A/wBoqt/wq63/AOeX+fzo/wCFXW//ADy/z+dAFn/htfWP+hO/8n//ALRR/wANr6x/0J3/AJP/AP2iq3/Crrf/AJ5f5/Oj/hV1v/zy/wA/nQBZ/wCG19Y/6E7/AMn/AP7RR/w2vrH/AEJ3/k//APaKrf8ACrrf/nl/n86P+FXW/wDzy/z+dAFn/htfWP8AoTv/ACf/APtFH/Da+sf9Cd/5P/8A2iq3/Crrf/nl/n86P+FXW/8Azy/z+dAFn/htfWP+hO/8n/8A7RR/w2vrH/Qnf+T/AP8AaKrf8Kut/wDnl/n86P8AhV1v/wA8v8/nQBZ/4bX1j/oTv/J//wC0Uf8ADa+sf9Cd/wCT/wD9oqt/wq63/wCeX+fzo/4Vdb/88v8AP50AWf8AhtfWP+hO/wDJ/wD+0Uf8Nr6x/wBCd/5P/wD2iq3/AAq63/55f5/Oj/hV1v8A88v8/nQBZ/4bX1j/AKE7/wAn/wD7RR/w2vrH/Qnf+T//ANoqt/wq63/55f5/Oj/hV1v/AM8v8/nQBZ/4bX1j/oTv/J//AO0Uf8Nr6x/0J3/k/wD/AGiq3/Crrf8A55f5/Oj/AIVdb/8APL/P50AWf+G19Y/6E7/yf/8AtFH/AA2vrH/Qnf8Ak/8A/aKrf8Kut/8Anl/n86P+FXW//PL/AD+dAFn/AIbX1j/oTv8Ayf8A/tFH/Da+sf8AQnf+T/8A9oqt/wAKut/+eX+fzo/4Vdb/APPL/P50AWf+G19Y/wChO/8AJ/8A+0Uf8Nr6x/0J3/k//wDaKrf8Kut/+eX+fzo/4Vdb/wDPL/P50AWf+G19Y/6E7/yf/wDtFH/Da+sf9Cd/5P8A/wBoqt/wq63/AOeX+fzo/wCFXW//ADy/z+dAFn/htfWP+hO/8n//ALRR/wANr6x/0J3/AJP/AP2iq3/Crrf/AJ5f5/Oj/hV1v/zy/wA/nQBZ/wCG19Y/6E7/AMn/AP7RR/w2vrH/AEJ3/k//APaKrf8ACrrf/nl/n86P+FXW/wDzy/z+dAFn/htfWP8AoTv/ACf/APtFH/Da+sf9Cd/5P/8A2iq3/Crrf/nl/n86P+FXW/8Azy/z+dAFn/htfWP+hO/8n/8A7RR/w2vrH/Qnf+T/AP8AaKrf8Kut/wDnl/n86P8AhV1v/wA8v8/nQBZ/4bX1j/oTv/J//wC0Uf8ADa+sf9Cd/wCT/wD9oqt/wq63/wCeX+fzo/4Vdb/88v8AP50AWf8AhtfWP+hO/wDJ/wD+0Uf8Nr6x/wBCd/5P/wD2iq3/AAq63/55f5/Oj/hV1v8A88v8/nQBZ/4bX1j/AKE7/wAn/wD7RR/w2vrH/Qnf+T//ANoqt/wq63/55f5/Oj/hV1v/AM8v8/nQBZ/4bX1j/oTv/J//AO0Uf8Nr6x/0J3/k/wD/AGiq3/Crrf8A55f5/Oj/AIVdb/8APL/P50AWf+G19Y/6E7/yf/8AtFH/AA2vrH/Qnf8Ak/8A/aKrf8Kut/8Anl/n86P+FXW//PL/AD+dAFn/AIbX1j/oTv8Ayf8A/tFH/Da+sf8AQnf+T/8A9oqt/wAKut/+eX+fzo/4Vdb/APPL/P50AWf+G19Y/wChO/8AJ/8A+0Uf8Nr6x/0J3/k//wDaKrf8Kut/+eX+fzo/4Vdb/wDPL/P50AWf+G19Y/6E7/yf/wDtFH/Da+sf9Cd/5P8A/wBoqt/wq63/AOeX+fzo/wCFXW//ADy/z+dAFn/htfWP+hO/8n//ALRR/wANr6x/0J3/AJP/AP2iq3/Crrf/AJ5f5/Oj/hV1v/zy/wA/nQBZ/wCG19Y/6E7/AMn/AP7RR/w2vrH/AEJ3/k//APaKrf8ACrrf/nl/n86P+FXW/wDzy/z+dAFn/htfWP8AoTv/ACf/APtFH/Da+sf9Cd/5P/8A2iq3/Crrf/nl/n86P+FXW/8Azy/z+dAFn/htfWP+hO/8n/8A7RR/w2vrH/Qnf+T/AP8AaKrf8Kut/wDnl/n86P8AhV1v/wA8v8/nQBZ/4bX1j/oTv/J//wC0Uf8ADa+sf9Cd/wCT/wD9oqt/wq63/wCeX+fzo/4Vdb/88v8AP50AXov20tYkOP8AhD8f9v8A/wDaK6XT/wBrLVL5gD4W2Z/6fc/+0a5KL4YxKciOun074eRREfu6ANrxH8Qbn4maXb6ZNpn2MRTrPu87zM4VlxjYv96u58KaSYEUYqto3hRLfHy16jpmmiFRxigDodOj2KAa2Kq28YUVaoA//9P+/iiiigAIB61GYlNSUUAVzbRnrTPscP8An/8AVVuigCp9jh/z/wDqo+xw/wCf/wBVW6KAKn2OH/P/AOqj7HD/AJ//AFVbooAqfY4f8/8A6qPscP8An/8AVVuigCp9jh/z/wDqo+xw/wCf/wBVW6KAKn2OH/P/AOqj7HD/AJ//AFVbooAqfY4f8/8A6qPscP8An/8AVVuigCp9jh/z/wDqo+xw/wCf/wBVW6KAKn2OH/P/AOqj7HD/AJ//AFVbooAqfY4f8/8A6qPscP8An/8AVVuigCp9jh/z/wDqo+xw/wCf/wBVW6KAKn2OH/P/AOqj7HD/AJ//AFVbooAqfY4f8/8A6qPscP8An/8AVVuigCp9jh/z/wDqo+xw/wCf/wBVW6KAKn2OH/P/AOqj7HD/AJ//AFVbooAqfY4f8/8A6qPscP8An/8AVVuigCp9jh/z/wDqo+xw/wCf/wBVW6KAKn2OH/P/AOqj7HD/AJ//AFVbooAqfY4f8/8A6qPscP8An/8AVVuigCp9jh/z/wDqo+xw/wCf/wBVW6KAKn2OH/P/AOqj7HD/AJ//AFVbooAqfY4f8/8A6qPscP8An/8AVVuigCp9jh/z/wDqo+xw/wCf/wBVW6KAKn2OH/P/AOqj7HD/AJ//AFVbooAqfY4f8/8A6qPscP8An/8AVVuigCp9jh/z/wDqo+xw/wCf/wBVW6KAKn2OH/P/AOqj7HD/AJ//AFVbooAqfY4f8/8A6qPscP8An/8AVVuigCp9jh/z/wDqo+xw/wCf/wBVW6KAKn2OH/P/AOqj7HD/AJ//AFVbooAqfY4f8/8A6qPscP8An/8AVVuigCp9jh/z/wDqo+xw/wCf/wBVW6KAKn2OH/P/AOqj7HD/AJ//AFVbooAqfY4f8/8A6qUWkQ6VaooAhECDmpAiinUUAFFFFABRRRQAUUUUAFFFFABRRRQAUUUUARPGGqhNZhu1alFAHMy6Qj9qpN4fjY/drs8A9aTC0AcQfDsOfuik/wCEdh/uD8//AK1dxhaMLQBw/wDwjsP9wfn/APWo/wCEdh/uD8//AK1dxhaMLQBw/wDwjsP9wfn/APWo/wCEdh/uD8//AK1dxhaMLQBw/wDwjsP9wfn/APWo/wCEdh/uD8//AK1dxhaMLQBw/wDwjsP9wfn/APWo/wCEdh/uD8//AK1dxhaMLQBw/wDwjsP9wfn/APWo/wCEdh/uD8//AK1dxhaMLQBw/wDwjsP9wfn/APWo/wCEdh/uD8//AK1dxhaMLQBw/wDwjsP9wfn/APWo/wCEdh/uD8//AK1dxhaMLQBw/wDwjsP9wfn/APWo/wCEdh/uD8//AK1dxhaMLQBw/wDwjsP9wfn/APWo/wCEdh/uD8//AK1dxhaMLQBw/wDwjsP9wfn/APWo/wCEdh/uD8//AK1dxhaMLQBw/wDwjsP9wfn/APWo/wCEdh/uD8//AK1dxhaMLQBw/wDwjsP9wfn/APWo/wCEdh/uD8//AK1dxhaMLQBw/wDwjsP9wfn/APWo/wCEdh/uD8//AK1dxhaMLQBw/wDwjsP9wfn/APWo/wCEdh/uD8//AK1dxhaMLQBw/wDwjsP9wfn/APWo/wCEdh/uD8//AK1dxhaMLQBw/wDwjsP9wfn/APWo/wCEdh/uD8//AK1dxhaMLQBw/wDwjsP9wfn/APWo/wCEdh/uD8//AK1dxhaMLQBw/wDwjsP9wfn/APWo/wCEdh/uD8//AK1dxhaMLQBw/wDwjsP9wfn/APWo/wCEdh/uD8//AK1dxhaMLQBw/wDwjsP9wfn/APWo/wCEdh/uD8//AK1dxhaMLQBw/wDwjsP9wfn/APWo/wCEdh/uD8//AK1dxhaMLQBw/wDwjsP9wfn/APWo/wCEdh/uD8//AK1dxhaMLQBw/wDwjsP9wfn/APWo/wCEdh/uD8//AK1dxhaMLQBw/wDwjsP9wfn/APWo/wCEdh/uD8//AK1dxhaMLQBw/wDwjsP9wfn/APWo/wCEdh/uD8//AK1dxhaMLQBw/wDwjsP9wfn/APWo/wCEdh/uD8//AK1dxhaMLQBw/wDwjsP9wfn/APWo/wCEdh/uD8//AK1dxhaMLQBw/wDwjsP9wfn/APWo/wCEdh/uD8//AK1dxhaMLQBw/wDwjsP9wfn/APWo/wCEdh/uD8//AK1dxhaMLQBw/wDwjsP9wfn/APWo/wCEdh/uD8//AK1dxhaMLQBw/wDwjsP9wfn/APWo/wCEdh/uD8//AK1dxhaMLQBxQ8OxDotWI9DjTnbXW4WjC0AYUWmrH0FacduFq3RQAgGBiloooA//2Q==)"
      ]
    },
    {
      "cell_type": "markdown",
      "id": "3520e377",
      "metadata": {
        "id": "3520e377"
      },
      "source": [
        "Unfortunately, both of these changes are on the same page in the onboarding flow. So they need your help figuring out how to proceed."
      ]
    },
    {
      "cell_type": "markdown",
      "id": "0c450c44",
      "metadata": {
        "id": "0c450c44"
      },
      "source": [
        "### Task 1.a. Test structure options"
      ]
    },
    {
      "cell_type": "markdown",
      "id": "1bc8df95",
      "metadata": {
        "id": "1bc8df95"
      },
      "source": [
        "This week we discussed 3 [possible approaches](https://corise.com/course/practical-ab-testing/v2/enrollment/enrollment_clfveg8uy01o712ecb49scfbz/module/module_cli1vlhms01rx129gc77v9nou) to measuring the impact of two tests:\n",
        "\n",
        "* Waiting - Run one after another.\n",
        "* Orthogonal - Run them at the same time with different randomizations.\n",
        "* Split traffic - Run a multi-variant test\n",
        "\n",
        "Which of the above the options do you think should be considered and not considered in this case? Which one would you recommend?"
      ]
    },
    {
      "cell_type": "markdown",
      "id": "ea97c920",
      "metadata": {
        "id": "ea97c920"
      },
      "source": [
        "## **ANSWER 1A**\n",
        "It is difficult to know which method to recommend without having constrains or requirements from the business. With that said, I tend to favour the **orthogonal** approach when running concurrent tests since it:\n",
        "- Optimizes power and time\n",
        "- Mitigates dependency issues i.e. a bug in one of the implementations can be a major productivity issue\n",
        "- Interaction effects between concurrent tests can be deduced after that fact.\n",
        "\n",
        "Furthermore, in this case having both a *better* pricing algorithm AND the first booking discount is not an undesirable interaction in my opinion.\n",
        "\n",
        "Another option for this A/B test would be to simply wait and test one feature after the other but I dislike this for 2 reasons:\n",
        "1. It is considerably slower\n",
        "2. Less interaction effects are measured since the order in which we A/B test these product changes affects our analysis conclusios.\n",
        "\n",
        "A final alternative would be to split traffic and run a multi-variant test. From my perspective, this approach does not offer much benefit when compared to the orthogonal test since we:\n",
        "1. Reduce power\n",
        "2. Introduce dependencies due to how we've randomized i.e. if one treatment is buggy, we'll either have to start the whole test again or abandon that variant"
      ]
    },
    {
      "cell_type": "markdown",
      "id": "c4e9ffcf",
      "metadata": {
        "id": "c4e9ffcf"
      },
      "source": [
        "## Task 2. Test one way\n",
        "\n",
        "**Warning** this gives away the answer to task 1.a. so please complete that first :)"
      ]
    },
    {
      "cell_type": "markdown",
      "id": "1979faa6",
      "metadata": {
        "id": "1979faa6"
      },
      "source": [
        "**Test design - FYI :)**\n",
        "\n",
        "After discussing the options with Max, you decide to proceed with an _orthogonal test_. The plan is to run each as a 50/50 test and then check for interaction in the analysis stage.\n",
        "\n",
        "For both the algorithm and discount tests, you've aligned on the triggering moment being when someone clicks \"next\" on the previous page in the onboarding flow. So the hypotheses you're working with are:\n",
        "\n",
        "* _Algorithm update_: If we update the price recommendation algorithm, new booked listings (NBL) will increase because the new price will appeal more to guests.\n",
        "\n",
        "* _First booking discount_: If we add a checkbox allowing hosts to opt-in to discount their first booking, NBL will increase because the price will appeal more to guests.\n",
        "\n",
        "Since you already ran a test on this page last week and the traffic is the same (~4K new users arriving on the page per day with an NBL conversion rate of 40%), the power analysis you did there holds. Max is OK with targeting a 2.1% relative lift so that this test will run for 28 days."
      ]
    },
    {
      "cell_type": "markdown",
      "id": "028a6caa",
      "metadata": {
        "id": "028a6caa"
      },
      "source": [
        "The test has run and the results are in! Please analyze the data provided, and share a summary and recommendation on how to proceed. We'll break this down into 3 sub-tasks."
      ]
    },
    {
      "cell_type": "markdown",
      "id": "774f3363",
      "metadata": {
        "id": "774f3363"
      },
      "source": [
        "### Task 2.a. Analyze the tests individually"
      ]
    },
    {
      "cell_type": "code",
      "source": [
        "from scipy.stats import chi2_contingency\n",
        "\n",
        "def ab_test_chi2(data_column):\n",
        "    \"\"\"\n",
        "    Performs a Chi-squared test on A/B testing data where the groups are labeled 'control' and 'treatment'.\n",
        "\n",
        "    :param data_column: Pandas Series with two possible values ('control' and 'treatment').\n",
        "    :return: The p-value from the Chi-squared test.\n",
        "    \"\"\"\n",
        "\n",
        "    if not isinstance(data_column, pd.Series):\n",
        "        raise ValueError(\"The data_column must be a Pandas Series.\")\n",
        "\n",
        "    # Mapping 'control' to 0 and 'treatment' to 1\n",
        "    data_column_mapped = data_column.map({'control': 0, 'treatment': 1})\n",
        "\n",
        "    if data_column_mapped.isnull().any():\n",
        "        raise ValueError(\"The data_column must contain only 'control' and 'treatment' values.\")\n",
        "\n",
        "    # Count the occurrences of control (0) and treatment (1)\n",
        "    observed_counts = data_column_mapped.value_counts()\n",
        "\n",
        "    # Assuming a 50/50 split for the expected counts\n",
        "    total_count = observed_counts.sum()\n",
        "    expected_counts = pd.Series([total_count / 2, total_count / 2], index=observed_counts.index)\n",
        "\n",
        "    # Perform the Chi-squared test\n",
        "    chi2, p_value, _, _ = chi2_contingency([observed_counts, expected_counts])\n",
        "\n",
        "    return p_value, total_count, observed_counts\n"
      ],
      "metadata": {
        "id": "n5ueXdA8sOqr"
      },
      "id": "n5ueXdA8sOqr",
      "execution_count": 5,
      "outputs": []
    },
    {
      "cell_type": "code",
      "source": [
        "import pandas as pd\n",
        "import numpy as np\n",
        "from scipy import stats\n",
        "\n",
        "def custom_calculate_results(df, metric, dimensions=None):\n",
        "    # Check if the metric is valid\n",
        "    if metric not in ('new_active_listing', 'new_booked_listing', 'new_cancelled_listing'):\n",
        "        raise Exception(\"Invalid metric\")\n",
        "\n",
        "    results = {'Dimension': [], 'Level': [], 'Relative Difference': [], 'Absolute Difference': [], 'P-Value': [], '95% CI Lower': [], '95% CI Upper': []}\n",
        "\n",
        "    # Define a function to calculate the metrics\n",
        "    def custom_calculate_metrics(df_subset):\n",
        "        mean_control = df_subset.loc[df_subset['variant'] == \"control\", metric].mean()\n",
        "        mean_treatment = df_subset.loc[df_subset['variant'] == \"treatment\", metric].mean()\n",
        "\n",
        "        abs_diff = mean_treatment - mean_control\n",
        "        rel_diff = (mean_treatment - mean_control) / mean_control\n",
        "\n",
        "        # P-Value -- two-sided ttest, assumes normal distribution\n",
        "        data_group1 = df_subset[df_subset['variant'] == \"control\"][metric]\n",
        "        data_group2 = df_subset[df_subset['variant'] == \"treatment\"][metric]\n",
        "\n",
        "        results = stats.ttest_ind(a=data_group1, b=data_group2, equal_var=True)\n",
        "        pvalue = results.pvalue\n",
        "\n",
        "        # 95% confidence intervals\n",
        "        ci_low, ci_high = get_ci(mean_treatment, mean_control, len(data_group2), len(data_group1), 0.95)\n",
        "        ci_low = ci_low / mean_control\n",
        "        ci_high = ci_high / mean_control\n",
        "\n",
        "        return rel_diff, abs_diff, pvalue, ci_low, ci_high\n",
        "\n",
        "    # If no dimensions are given, calculate for the entire dataframe\n",
        "    if not dimensions:\n",
        "        results['Dimension'].append('Overall')\n",
        "        results['Level'].append('')\n",
        "        rel_diff, abs_diff, pvalue, ci_low, ci_high = custom_calculate_metrics(df)\n",
        "        results['Relative Difference'].append(rel_diff)\n",
        "        results['Absolute Difference'].append(abs_diff)\n",
        "        results['P-Value'].append(pvalue)\n",
        "        results['95% CI Lower'].append(ci_low)\n",
        "        results['95% CI Upper'].append(ci_high)\n",
        "    else:\n",
        "        # Calculate for each dimension\n",
        "        for dimension in dimensions:\n",
        "            for level in df[dimension].unique():\n",
        "                df_subset = df[df[dimension] == level]\n",
        "                results['Dimension'].append(dimension)\n",
        "                results['Level'].append(level)\n",
        "                rel_diff, abs_diff, pvalue, ci_low, ci_high = custom_calculate_metrics(df_subset)\n",
        "                results['Relative Difference'].append(rel_diff)\n",
        "                results['Absolute Difference'].append(abs_diff)\n",
        "                results['P-Value'].append(pvalue)\n",
        "                results['95% CI Lower'].append(ci_low)\n",
        "                results['95% CI Upper'].append(ci_high)\n",
        "\n",
        "    # Convert the results to a Pandas DataFrame\n",
        "    df_results = pd.DataFrame(results)\n",
        "\n",
        "    return df_results\n"
      ],
      "metadata": {
        "id": "8h9UqjRNsIfY"
      },
      "id": "8h9UqjRNsIfY",
      "execution_count": 6,
      "outputs": []
    },
    {
      "cell_type": "markdown",
      "id": "a7f8dffb",
      "metadata": {
        "id": "a7f8dffb"
      },
      "source": [
        "First, treat each test as independent and analyze them as you would normally."
      ]
    },
    {
      "cell_type": "code",
      "execution_count": 7,
      "id": "7800ceae",
      "metadata": {
        "id": "7800ceae"
      },
      "outputs": [],
      "source": [
        "df_price_algo = pd.read_csv('/content/dataset_price_algo.csv')\n",
        "df_checkbox_discount = pd.read_csv('/content/dataset_checkbox_discount.csv')"
      ]
    },
    {
      "cell_type": "markdown",
      "source": [
        "### Check for assignment imbalance"
      ],
      "metadata": {
        "id": "xugIJMQIsQc0"
      },
      "id": "xugIJMQIsQc0"
    },
    {
      "cell_type": "code",
      "source": [
        "### ALGO\n",
        "p_value, total_count, observed_counts = ab_test_chi2(df_price_algo['variant'])\n",
        "print(f\"Total Count: {total_count}\")\n",
        "print(f\"Observed Count:\\n{observed_counts}\")\n",
        "print(f\"Chi-squared test p-value: {p_value}\")"
      ],
      "metadata": {
        "colab": {
          "base_uri": "https://localhost:8080/"
        },
        "id": "knOLHiYDsKqz",
        "outputId": "167f1341-e736-4547-eefc-caccbb476f3e"
      },
      "id": "knOLHiYDsKqz",
      "execution_count": 8,
      "outputs": [
        {
          "output_type": "stream",
          "name": "stdout",
          "text": [
            "Total Count: 111535\n",
            "Observed Count:\n",
            "1    55776\n",
            "0    55759\n",
            "Name: variant, dtype: int64\n",
            "Chi-squared test p-value: 0.9746640184324598\n"
          ]
        }
      ]
    },
    {
      "cell_type": "code",
      "source": [
        "### CHECKBOX\n",
        "p_value, total_count, observed_counts = ab_test_chi2(df_checkbox_discount['variant'])\n",
        "print(f\"Total Count: {total_count}\")\n",
        "print(f\"Observed Count:\\n{observed_counts}\")\n",
        "print(f\"Chi-squared test p-value: {p_value}\")"
      ],
      "metadata": {
        "colab": {
          "base_uri": "https://localhost:8080/"
        },
        "id": "Nv_N6DP4se3N",
        "outputId": "2ebdc526-f21e-40e0-b0ec-4e4a30db1bd9"
      },
      "id": "Nv_N6DP4se3N",
      "execution_count": 9,
      "outputs": [
        {
          "output_type": "stream",
          "name": "stdout",
          "text": [
            "Total Count: 111535\n",
            "Observed Count:\n",
            "0    55786\n",
            "1    55749\n",
            "Name: variant, dtype: int64\n",
            "Chi-squared test p-value: 0.9409268428778917\n"
          ]
        }
      ]
    },
    {
      "cell_type": "markdown",
      "source": [
        "### Check target metric results"
      ],
      "metadata": {
        "id": "Eu6o34TKso8C"
      },
      "id": "Eu6o34TKso8C"
    },
    {
      "cell_type": "code",
      "source": [
        "### ALGO\n",
        "metric = 'new_booked_listing'\n",
        "print(f\"Analysis of {metric}\")\n",
        "pd.DataFrame(calculate_results(df_price_algo, metric),\n",
        "             index=['rel diff','abs diff','pvalue','ci low','ci high']).T"
      ],
      "metadata": {
        "colab": {
          "base_uri": "https://localhost:8080/",
          "height": 98
        },
        "id": "SK24g3gssrAp",
        "outputId": "cc1e221d-5134-4b6a-819c-ca6ce8cd5979"
      },
      "id": "SK24g3gssrAp",
      "execution_count": 10,
      "outputs": [
        {
          "output_type": "stream",
          "name": "stdout",
          "text": [
            "Analysis of new_booked_listing\n"
          ]
        },
        {
          "output_type": "execute_result",
          "data": {
            "text/plain": [
              "   rel diff  abs diff    pvalue    ci low   ci high\n",
              "0 -0.047622 -0.009203  0.000086 -0.071383 -0.023861"
            ],
            "text/html": [
              "\n",
              "  <div id=\"df-ceb43f64-f758-4292-b521-ddc9385e06fb\" class=\"colab-df-container\">\n",
              "    <div>\n",
              "<style scoped>\n",
              "    .dataframe tbody tr th:only-of-type {\n",
              "        vertical-align: middle;\n",
              "    }\n",
              "\n",
              "    .dataframe tbody tr th {\n",
              "        vertical-align: top;\n",
              "    }\n",
              "\n",
              "    .dataframe thead th {\n",
              "        text-align: right;\n",
              "    }\n",
              "</style>\n",
              "<table border=\"1\" class=\"dataframe\">\n",
              "  <thead>\n",
              "    <tr style=\"text-align: right;\">\n",
              "      <th></th>\n",
              "      <th>rel diff</th>\n",
              "      <th>abs diff</th>\n",
              "      <th>pvalue</th>\n",
              "      <th>ci low</th>\n",
              "      <th>ci high</th>\n",
              "    </tr>\n",
              "  </thead>\n",
              "  <tbody>\n",
              "    <tr>\n",
              "      <th>0</th>\n",
              "      <td>-0.047622</td>\n",
              "      <td>-0.009203</td>\n",
              "      <td>0.000086</td>\n",
              "      <td>-0.071383</td>\n",
              "      <td>-0.023861</td>\n",
              "    </tr>\n",
              "  </tbody>\n",
              "</table>\n",
              "</div>\n",
              "    <div class=\"colab-df-buttons\">\n",
              "\n",
              "  <div class=\"colab-df-container\">\n",
              "    <button class=\"colab-df-convert\" onclick=\"convertToInteractive('df-ceb43f64-f758-4292-b521-ddc9385e06fb')\"\n",
              "            title=\"Convert this dataframe to an interactive table.\"\n",
              "            style=\"display:none;\">\n",
              "\n",
              "  <svg xmlns=\"http://www.w3.org/2000/svg\" height=\"24px\" viewBox=\"0 -960 960 960\">\n",
              "    <path d=\"M120-120v-720h720v720H120Zm60-500h600v-160H180v160Zm220 220h160v-160H400v160Zm0 220h160v-160H400v160ZM180-400h160v-160H180v160Zm440 0h160v-160H620v160ZM180-180h160v-160H180v160Zm440 0h160v-160H620v160Z\"/>\n",
              "  </svg>\n",
              "    </button>\n",
              "\n",
              "  <style>\n",
              "    .colab-df-container {\n",
              "      display:flex;\n",
              "      gap: 12px;\n",
              "    }\n",
              "\n",
              "    .colab-df-convert {\n",
              "      background-color: #E8F0FE;\n",
              "      border: none;\n",
              "      border-radius: 50%;\n",
              "      cursor: pointer;\n",
              "      display: none;\n",
              "      fill: #1967D2;\n",
              "      height: 32px;\n",
              "      padding: 0 0 0 0;\n",
              "      width: 32px;\n",
              "    }\n",
              "\n",
              "    .colab-df-convert:hover {\n",
              "      background-color: #E2EBFA;\n",
              "      box-shadow: 0px 1px 2px rgba(60, 64, 67, 0.3), 0px 1px 3px 1px rgba(60, 64, 67, 0.15);\n",
              "      fill: #174EA6;\n",
              "    }\n",
              "\n",
              "    .colab-df-buttons div {\n",
              "      margin-bottom: 4px;\n",
              "    }\n",
              "\n",
              "    [theme=dark] .colab-df-convert {\n",
              "      background-color: #3B4455;\n",
              "      fill: #D2E3FC;\n",
              "    }\n",
              "\n",
              "    [theme=dark] .colab-df-convert:hover {\n",
              "      background-color: #434B5C;\n",
              "      box-shadow: 0px 1px 3px 1px rgba(0, 0, 0, 0.15);\n",
              "      filter: drop-shadow(0px 1px 2px rgba(0, 0, 0, 0.3));\n",
              "      fill: #FFFFFF;\n",
              "    }\n",
              "  </style>\n",
              "\n",
              "    <script>\n",
              "      const buttonEl =\n",
              "        document.querySelector('#df-ceb43f64-f758-4292-b521-ddc9385e06fb button.colab-df-convert');\n",
              "      buttonEl.style.display =\n",
              "        google.colab.kernel.accessAllowed ? 'block' : 'none';\n",
              "\n",
              "      async function convertToInteractive(key) {\n",
              "        const element = document.querySelector('#df-ceb43f64-f758-4292-b521-ddc9385e06fb');\n",
              "        const dataTable =\n",
              "          await google.colab.kernel.invokeFunction('convertToInteractive',\n",
              "                                                    [key], {});\n",
              "        if (!dataTable) return;\n",
              "\n",
              "        const docLinkHtml = 'Like what you see? Visit the ' +\n",
              "          '<a target=\"_blank\" href=https://colab.research.google.com/notebooks/data_table.ipynb>data table notebook</a>'\n",
              "          + ' to learn more about interactive tables.';\n",
              "        element.innerHTML = '';\n",
              "        dataTable['output_type'] = 'display_data';\n",
              "        await google.colab.output.renderOutput(dataTable, element);\n",
              "        const docLink = document.createElement('div');\n",
              "        docLink.innerHTML = docLinkHtml;\n",
              "        element.appendChild(docLink);\n",
              "      }\n",
              "    </script>\n",
              "  </div>\n",
              "\n",
              "    </div>\n",
              "  </div>\n"
            ]
          },
          "metadata": {},
          "execution_count": 10
        }
      ]
    },
    {
      "cell_type": "code",
      "source": [
        "### CHECKBOX\n",
        "metric = 'new_booked_listing'\n",
        "print(f\"Analysis of {metric}\")\n",
        "pd.DataFrame(calculate_results(df_checkbox_discount, metric),\n",
        "             index=['rel diff','abs diff','pvalue','ci low','ci high']).T"
      ],
      "metadata": {
        "colab": {
          "base_uri": "https://localhost:8080/",
          "height": 98
        },
        "id": "yU_0RmC1stYl",
        "outputId": "10f281a3-af46-42b9-b571-dfbf6b0c71e6"
      },
      "id": "yU_0RmC1stYl",
      "execution_count": 11,
      "outputs": [
        {
          "output_type": "stream",
          "name": "stdout",
          "text": [
            "Analysis of new_booked_listing\n"
          ]
        },
        {
          "output_type": "execute_result",
          "data": {
            "text/plain": [
              "   rel diff  abs diff    pvalue    ci low   ci high\n",
              "0   0.03118  0.005792  0.013436  0.006459  0.055901"
            ],
            "text/html": [
              "\n",
              "  <div id=\"df-6ebcdf50-3060-4609-b013-04c053b3e291\" class=\"colab-df-container\">\n",
              "    <div>\n",
              "<style scoped>\n",
              "    .dataframe tbody tr th:only-of-type {\n",
              "        vertical-align: middle;\n",
              "    }\n",
              "\n",
              "    .dataframe tbody tr th {\n",
              "        vertical-align: top;\n",
              "    }\n",
              "\n",
              "    .dataframe thead th {\n",
              "        text-align: right;\n",
              "    }\n",
              "</style>\n",
              "<table border=\"1\" class=\"dataframe\">\n",
              "  <thead>\n",
              "    <tr style=\"text-align: right;\">\n",
              "      <th></th>\n",
              "      <th>rel diff</th>\n",
              "      <th>abs diff</th>\n",
              "      <th>pvalue</th>\n",
              "      <th>ci low</th>\n",
              "      <th>ci high</th>\n",
              "    </tr>\n",
              "  </thead>\n",
              "  <tbody>\n",
              "    <tr>\n",
              "      <th>0</th>\n",
              "      <td>0.03118</td>\n",
              "      <td>0.005792</td>\n",
              "      <td>0.013436</td>\n",
              "      <td>0.006459</td>\n",
              "      <td>0.055901</td>\n",
              "    </tr>\n",
              "  </tbody>\n",
              "</table>\n",
              "</div>\n",
              "    <div class=\"colab-df-buttons\">\n",
              "\n",
              "  <div class=\"colab-df-container\">\n",
              "    <button class=\"colab-df-convert\" onclick=\"convertToInteractive('df-6ebcdf50-3060-4609-b013-04c053b3e291')\"\n",
              "            title=\"Convert this dataframe to an interactive table.\"\n",
              "            style=\"display:none;\">\n",
              "\n",
              "  <svg xmlns=\"http://www.w3.org/2000/svg\" height=\"24px\" viewBox=\"0 -960 960 960\">\n",
              "    <path d=\"M120-120v-720h720v720H120Zm60-500h600v-160H180v160Zm220 220h160v-160H400v160Zm0 220h160v-160H400v160ZM180-400h160v-160H180v160Zm440 0h160v-160H620v160ZM180-180h160v-160H180v160Zm440 0h160v-160H620v160Z\"/>\n",
              "  </svg>\n",
              "    </button>\n",
              "\n",
              "  <style>\n",
              "    .colab-df-container {\n",
              "      display:flex;\n",
              "      gap: 12px;\n",
              "    }\n",
              "\n",
              "    .colab-df-convert {\n",
              "      background-color: #E8F0FE;\n",
              "      border: none;\n",
              "      border-radius: 50%;\n",
              "      cursor: pointer;\n",
              "      display: none;\n",
              "      fill: #1967D2;\n",
              "      height: 32px;\n",
              "      padding: 0 0 0 0;\n",
              "      width: 32px;\n",
              "    }\n",
              "\n",
              "    .colab-df-convert:hover {\n",
              "      background-color: #E2EBFA;\n",
              "      box-shadow: 0px 1px 2px rgba(60, 64, 67, 0.3), 0px 1px 3px 1px rgba(60, 64, 67, 0.15);\n",
              "      fill: #174EA6;\n",
              "    }\n",
              "\n",
              "    .colab-df-buttons div {\n",
              "      margin-bottom: 4px;\n",
              "    }\n",
              "\n",
              "    [theme=dark] .colab-df-convert {\n",
              "      background-color: #3B4455;\n",
              "      fill: #D2E3FC;\n",
              "    }\n",
              "\n",
              "    [theme=dark] .colab-df-convert:hover {\n",
              "      background-color: #434B5C;\n",
              "      box-shadow: 0px 1px 3px 1px rgba(0, 0, 0, 0.15);\n",
              "      filter: drop-shadow(0px 1px 2px rgba(0, 0, 0, 0.3));\n",
              "      fill: #FFFFFF;\n",
              "    }\n",
              "  </style>\n",
              "\n",
              "    <script>\n",
              "      const buttonEl =\n",
              "        document.querySelector('#df-6ebcdf50-3060-4609-b013-04c053b3e291 button.colab-df-convert');\n",
              "      buttonEl.style.display =\n",
              "        google.colab.kernel.accessAllowed ? 'block' : 'none';\n",
              "\n",
              "      async function convertToInteractive(key) {\n",
              "        const element = document.querySelector('#df-6ebcdf50-3060-4609-b013-04c053b3e291');\n",
              "        const dataTable =\n",
              "          await google.colab.kernel.invokeFunction('convertToInteractive',\n",
              "                                                    [key], {});\n",
              "        if (!dataTable) return;\n",
              "\n",
              "        const docLinkHtml = 'Like what you see? Visit the ' +\n",
              "          '<a target=\"_blank\" href=https://colab.research.google.com/notebooks/data_table.ipynb>data table notebook</a>'\n",
              "          + ' to learn more about interactive tables.';\n",
              "        element.innerHTML = '';\n",
              "        dataTable['output_type'] = 'display_data';\n",
              "        await google.colab.output.renderOutput(dataTable, element);\n",
              "        const docLink = document.createElement('div');\n",
              "        docLink.innerHTML = docLinkHtml;\n",
              "        element.appendChild(docLink);\n",
              "      }\n",
              "    </script>\n",
              "  </div>\n",
              "\n",
              "    </div>\n",
              "  </div>\n"
            ]
          },
          "metadata": {},
          "execution_count": 11
        }
      ]
    },
    {
      "cell_type": "markdown",
      "source": [
        "### Check guardrail"
      ],
      "metadata": {
        "id": "JQ2y6HN-s0Xa"
      },
      "id": "JQ2y6HN-s0Xa"
    },
    {
      "cell_type": "code",
      "source": [
        "### ALGO\n",
        "metric = 'new_cancelled_listing'\n",
        "print(f\"Analysis of {metric}\")\n",
        "pd.DataFrame(calculate_results(df_price_algo, metric),\n",
        "             index=['rel diff','abs diff','pvalue','ci low','ci high']).T"
      ],
      "metadata": {
        "colab": {
          "base_uri": "https://localhost:8080/",
          "height": 98
        },
        "id": "MCNp3yHLsy36",
        "outputId": "9bc16851-aaad-4641-8ddb-39430ab18cfb"
      },
      "id": "MCNp3yHLsy36",
      "execution_count": 12,
      "outputs": [
        {
          "output_type": "stream",
          "name": "stdout",
          "text": [
            "Analysis of new_cancelled_listing\n"
          ]
        },
        {
          "output_type": "execute_result",
          "data": {
            "text/plain": [
              "   rel diff  abs diff    pvalue    ci low   ci high\n",
              "0 -0.000305 -0.000003  0.996056 -0.121153  0.120543"
            ],
            "text/html": [
              "\n",
              "  <div id=\"df-305f2d95-2a68-43e8-9058-641d8f37a129\" class=\"colab-df-container\">\n",
              "    <div>\n",
              "<style scoped>\n",
              "    .dataframe tbody tr th:only-of-type {\n",
              "        vertical-align: middle;\n",
              "    }\n",
              "\n",
              "    .dataframe tbody tr th {\n",
              "        vertical-align: top;\n",
              "    }\n",
              "\n",
              "    .dataframe thead th {\n",
              "        text-align: right;\n",
              "    }\n",
              "</style>\n",
              "<table border=\"1\" class=\"dataframe\">\n",
              "  <thead>\n",
              "    <tr style=\"text-align: right;\">\n",
              "      <th></th>\n",
              "      <th>rel diff</th>\n",
              "      <th>abs diff</th>\n",
              "      <th>pvalue</th>\n",
              "      <th>ci low</th>\n",
              "      <th>ci high</th>\n",
              "    </tr>\n",
              "  </thead>\n",
              "  <tbody>\n",
              "    <tr>\n",
              "      <th>0</th>\n",
              "      <td>-0.000305</td>\n",
              "      <td>-0.000003</td>\n",
              "      <td>0.996056</td>\n",
              "      <td>-0.121153</td>\n",
              "      <td>0.120543</td>\n",
              "    </tr>\n",
              "  </tbody>\n",
              "</table>\n",
              "</div>\n",
              "    <div class=\"colab-df-buttons\">\n",
              "\n",
              "  <div class=\"colab-df-container\">\n",
              "    <button class=\"colab-df-convert\" onclick=\"convertToInteractive('df-305f2d95-2a68-43e8-9058-641d8f37a129')\"\n",
              "            title=\"Convert this dataframe to an interactive table.\"\n",
              "            style=\"display:none;\">\n",
              "\n",
              "  <svg xmlns=\"http://www.w3.org/2000/svg\" height=\"24px\" viewBox=\"0 -960 960 960\">\n",
              "    <path d=\"M120-120v-720h720v720H120Zm60-500h600v-160H180v160Zm220 220h160v-160H400v160Zm0 220h160v-160H400v160ZM180-400h160v-160H180v160Zm440 0h160v-160H620v160ZM180-180h160v-160H180v160Zm440 0h160v-160H620v160Z\"/>\n",
              "  </svg>\n",
              "    </button>\n",
              "\n",
              "  <style>\n",
              "    .colab-df-container {\n",
              "      display:flex;\n",
              "      gap: 12px;\n",
              "    }\n",
              "\n",
              "    .colab-df-convert {\n",
              "      background-color: #E8F0FE;\n",
              "      border: none;\n",
              "      border-radius: 50%;\n",
              "      cursor: pointer;\n",
              "      display: none;\n",
              "      fill: #1967D2;\n",
              "      height: 32px;\n",
              "      padding: 0 0 0 0;\n",
              "      width: 32px;\n",
              "    }\n",
              "\n",
              "    .colab-df-convert:hover {\n",
              "      background-color: #E2EBFA;\n",
              "      box-shadow: 0px 1px 2px rgba(60, 64, 67, 0.3), 0px 1px 3px 1px rgba(60, 64, 67, 0.15);\n",
              "      fill: #174EA6;\n",
              "    }\n",
              "\n",
              "    .colab-df-buttons div {\n",
              "      margin-bottom: 4px;\n",
              "    }\n",
              "\n",
              "    [theme=dark] .colab-df-convert {\n",
              "      background-color: #3B4455;\n",
              "      fill: #D2E3FC;\n",
              "    }\n",
              "\n",
              "    [theme=dark] .colab-df-convert:hover {\n",
              "      background-color: #434B5C;\n",
              "      box-shadow: 0px 1px 3px 1px rgba(0, 0, 0, 0.15);\n",
              "      filter: drop-shadow(0px 1px 2px rgba(0, 0, 0, 0.3));\n",
              "      fill: #FFFFFF;\n",
              "    }\n",
              "  </style>\n",
              "\n",
              "    <script>\n",
              "      const buttonEl =\n",
              "        document.querySelector('#df-305f2d95-2a68-43e8-9058-641d8f37a129 button.colab-df-convert');\n",
              "      buttonEl.style.display =\n",
              "        google.colab.kernel.accessAllowed ? 'block' : 'none';\n",
              "\n",
              "      async function convertToInteractive(key) {\n",
              "        const element = document.querySelector('#df-305f2d95-2a68-43e8-9058-641d8f37a129');\n",
              "        const dataTable =\n",
              "          await google.colab.kernel.invokeFunction('convertToInteractive',\n",
              "                                                    [key], {});\n",
              "        if (!dataTable) return;\n",
              "\n",
              "        const docLinkHtml = 'Like what you see? Visit the ' +\n",
              "          '<a target=\"_blank\" href=https://colab.research.google.com/notebooks/data_table.ipynb>data table notebook</a>'\n",
              "          + ' to learn more about interactive tables.';\n",
              "        element.innerHTML = '';\n",
              "        dataTable['output_type'] = 'display_data';\n",
              "        await google.colab.output.renderOutput(dataTable, element);\n",
              "        const docLink = document.createElement('div');\n",
              "        docLink.innerHTML = docLinkHtml;\n",
              "        element.appendChild(docLink);\n",
              "      }\n",
              "    </script>\n",
              "  </div>\n",
              "\n",
              "    </div>\n",
              "  </div>\n"
            ]
          },
          "metadata": {},
          "execution_count": 12
        }
      ]
    },
    {
      "cell_type": "code",
      "source": [
        "### CHECKBOX\n",
        "metric = 'new_cancelled_listing'\n",
        "print(f\"Analysis of {metric}\")\n",
        "pd.DataFrame(calculate_results(df_checkbox_discount, metric),\n",
        "             index=['rel diff','abs diff','pvalue','ci low','ci high']).T"
      ],
      "metadata": {
        "colab": {
          "base_uri": "https://localhost:8080/",
          "height": 98
        },
        "id": "Df68qFQPs84A",
        "outputId": "9f156108-8d12-40a8-d190-62cc5cb12a8b"
      },
      "id": "Df68qFQPs84A",
      "execution_count": 13,
      "outputs": [
        {
          "output_type": "stream",
          "name": "stdout",
          "text": [
            "Analysis of new_cancelled_listing\n"
          ]
        },
        {
          "output_type": "execute_result",
          "data": {
            "text/plain": [
              "   rel diff  abs diff    pvalue    ci low   ci high\n",
              "0 -0.058966 -0.000568  0.324516 -0.176269  0.058336"
            ],
            "text/html": [
              "\n",
              "  <div id=\"df-c1e204c4-5c46-47c0-8e73-71efaf9e3e3c\" class=\"colab-df-container\">\n",
              "    <div>\n",
              "<style scoped>\n",
              "    .dataframe tbody tr th:only-of-type {\n",
              "        vertical-align: middle;\n",
              "    }\n",
              "\n",
              "    .dataframe tbody tr th {\n",
              "        vertical-align: top;\n",
              "    }\n",
              "\n",
              "    .dataframe thead th {\n",
              "        text-align: right;\n",
              "    }\n",
              "</style>\n",
              "<table border=\"1\" class=\"dataframe\">\n",
              "  <thead>\n",
              "    <tr style=\"text-align: right;\">\n",
              "      <th></th>\n",
              "      <th>rel diff</th>\n",
              "      <th>abs diff</th>\n",
              "      <th>pvalue</th>\n",
              "      <th>ci low</th>\n",
              "      <th>ci high</th>\n",
              "    </tr>\n",
              "  </thead>\n",
              "  <tbody>\n",
              "    <tr>\n",
              "      <th>0</th>\n",
              "      <td>-0.058966</td>\n",
              "      <td>-0.000568</td>\n",
              "      <td>0.324516</td>\n",
              "      <td>-0.176269</td>\n",
              "      <td>0.058336</td>\n",
              "    </tr>\n",
              "  </tbody>\n",
              "</table>\n",
              "</div>\n",
              "    <div class=\"colab-df-buttons\">\n",
              "\n",
              "  <div class=\"colab-df-container\">\n",
              "    <button class=\"colab-df-convert\" onclick=\"convertToInteractive('df-c1e204c4-5c46-47c0-8e73-71efaf9e3e3c')\"\n",
              "            title=\"Convert this dataframe to an interactive table.\"\n",
              "            style=\"display:none;\">\n",
              "\n",
              "  <svg xmlns=\"http://www.w3.org/2000/svg\" height=\"24px\" viewBox=\"0 -960 960 960\">\n",
              "    <path d=\"M120-120v-720h720v720H120Zm60-500h600v-160H180v160Zm220 220h160v-160H400v160Zm0 220h160v-160H400v160ZM180-400h160v-160H180v160Zm440 0h160v-160H620v160ZM180-180h160v-160H180v160Zm440 0h160v-160H620v160Z\"/>\n",
              "  </svg>\n",
              "    </button>\n",
              "\n",
              "  <style>\n",
              "    .colab-df-container {\n",
              "      display:flex;\n",
              "      gap: 12px;\n",
              "    }\n",
              "\n",
              "    .colab-df-convert {\n",
              "      background-color: #E8F0FE;\n",
              "      border: none;\n",
              "      border-radius: 50%;\n",
              "      cursor: pointer;\n",
              "      display: none;\n",
              "      fill: #1967D2;\n",
              "      height: 32px;\n",
              "      padding: 0 0 0 0;\n",
              "      width: 32px;\n",
              "    }\n",
              "\n",
              "    .colab-df-convert:hover {\n",
              "      background-color: #E2EBFA;\n",
              "      box-shadow: 0px 1px 2px rgba(60, 64, 67, 0.3), 0px 1px 3px 1px rgba(60, 64, 67, 0.15);\n",
              "      fill: #174EA6;\n",
              "    }\n",
              "\n",
              "    .colab-df-buttons div {\n",
              "      margin-bottom: 4px;\n",
              "    }\n",
              "\n",
              "    [theme=dark] .colab-df-convert {\n",
              "      background-color: #3B4455;\n",
              "      fill: #D2E3FC;\n",
              "    }\n",
              "\n",
              "    [theme=dark] .colab-df-convert:hover {\n",
              "      background-color: #434B5C;\n",
              "      box-shadow: 0px 1px 3px 1px rgba(0, 0, 0, 0.15);\n",
              "      filter: drop-shadow(0px 1px 2px rgba(0, 0, 0, 0.3));\n",
              "      fill: #FFFFFF;\n",
              "    }\n",
              "  </style>\n",
              "\n",
              "    <script>\n",
              "      const buttonEl =\n",
              "        document.querySelector('#df-c1e204c4-5c46-47c0-8e73-71efaf9e3e3c button.colab-df-convert');\n",
              "      buttonEl.style.display =\n",
              "        google.colab.kernel.accessAllowed ? 'block' : 'none';\n",
              "\n",
              "      async function convertToInteractive(key) {\n",
              "        const element = document.querySelector('#df-c1e204c4-5c46-47c0-8e73-71efaf9e3e3c');\n",
              "        const dataTable =\n",
              "          await google.colab.kernel.invokeFunction('convertToInteractive',\n",
              "                                                    [key], {});\n",
              "        if (!dataTable) return;\n",
              "\n",
              "        const docLinkHtml = 'Like what you see? Visit the ' +\n",
              "          '<a target=\"_blank\" href=https://colab.research.google.com/notebooks/data_table.ipynb>data table notebook</a>'\n",
              "          + ' to learn more about interactive tables.';\n",
              "        element.innerHTML = '';\n",
              "        dataTable['output_type'] = 'display_data';\n",
              "        await google.colab.output.renderOutput(dataTable, element);\n",
              "        const docLink = document.createElement('div');\n",
              "        docLink.innerHTML = docLinkHtml;\n",
              "        element.appendChild(docLink);\n",
              "      }\n",
              "    </script>\n",
              "  </div>\n",
              "\n",
              "    </div>\n",
              "  </div>\n"
            ]
          },
          "metadata": {},
          "execution_count": 13
        }
      ]
    },
    {
      "cell_type": "markdown",
      "source": [
        "## **ANSWER 2A**\n",
        "When analyzed individually:\n",
        "- The checkbox feature has a positive 3% relative uplift on NBL;\n",
        "- Whilst our new pricing algorithm is causing a 5% decrease in NBL"
      ],
      "metadata": {
        "id": "9qEDQ3zDJGDV"
      },
      "id": "9qEDQ3zDJGDV"
    },
    {
      "cell_type": "markdown",
      "id": "9611dae5",
      "metadata": {
        "id": "9611dae5"
      },
      "source": [
        "### Task 2.b. Check for interactions"
      ]
    },
    {
      "cell_type": "markdown",
      "id": "1339f9f4",
      "metadata": {
        "id": "1339f9f4"
      },
      "source": [
        "Now that we know how the tests performed individually, it's time to see if there was an interaction effect. In other words, is the observed effect for Test A different for users in Test B's control vs Test B's treatment? And vice-versa.\n",
        "\n",
        "For simplicity, assume that the two tests started and ended at the exact same time, with the same triggering moment. So every user should be in both tests, and the conversion events should match (e.g. someone who had an NBL in test A will also have an NBL in test B).\n",
        "\n",
        "Now we want to check to see if there is an interaction. When a user of Test A is in the treatment of Test B, are the results different vs when they were in the control? And vice versa."
      ]
    },
    {
      "cell_type": "markdown",
      "id": "87420aaa",
      "metadata": {
        "id": "87420aaa"
      },
      "source": [
        "#### Do it on your own!"
      ]
    },
    {
      "cell_type": "markdown",
      "id": "5ea0430f",
      "metadata": {
        "id": "5ea0430f"
      },
      "source": [
        "If you want to do it on your own but need some help with Pandas, here are some helpful resources:\n",
        "* [Cheat sheet 1 pager](https://pandas.pydata.org/Pandas_Cheat_Sheet.pdf)\n",
        "* [Cheet sheet multipager](https://www.webpages.uidaho.edu/~stevel/cheatsheets/Pandas%20DataFrame%20Notes_12pages.pdf)\n",
        "* [Guide](https://medium.com/analytics-vidhya/top-20-pandas-functions-which-are-commonly-used-for-exploratory-data-analysis-3cb817a60f46)"
      ]
    },
    {
      "cell_type": "code",
      "source": [
        "def prepare_dataframe(df, new_variant_col):\n",
        "    \"\"\"\n",
        "    Prepares a DataFrame for joining by creating a new variant column,\n",
        "    dropping the old variant column, and setting the index.\n",
        "\n",
        "    :param df: The DataFrame to prepare.\n",
        "    :param new_variant_col: Name for the new variant column.\n",
        "    :return: A prepared DataFrame.\n",
        "    \"\"\"\n",
        "    df_prepared = df.copy()\n",
        "    df_prepared.loc[df_prepared['variant'] == 'control', new_variant_col] = 'control'\n",
        "    df_prepared.loc[df_prepared['variant'] == 'treatment', new_variant_col] = 'treatment'\n",
        "    df_prepared.drop(columns='variant', inplace=True)\n",
        "    df_prepared.set_index('id_user', inplace=True)\n",
        "    return df_prepared\n",
        "\n",
        "def join_dataframes(df1, df2, common_columns):\n",
        "    \"\"\"\n",
        "    Joins two prepared DataFrames.\n",
        "\n",
        "    :param df1: The first DataFrame.\n",
        "    :param df2: The second DataFrame, from which common columns are dropped.\n",
        "    :param common_columns: List of columns to drop from the second DataFrame.\n",
        "    :return: A DataFrame resulting from the outer join of df1 and df2.\n",
        "    \"\"\"\n",
        "    df2_dropped = df2.drop(columns=common_columns)\n",
        "    df_combined = df1.join(df2_dropped, on='id_user', how='outer')\n",
        "    return df_combined\n",
        "\n",
        "# Example usage\n",
        "df_A_prepared = prepare_dataframe(df_price_algo, 'variant_algo')\n",
        "df_B_prepared = prepare_dataframe(df_checkbox_discount, 'variant_checkbox')\n",
        "\n",
        "common_cols = ['new_active_listing', 'new_booked_listing', 'new_cancelled_listing']\n",
        "df_combined = join_dataframes(df_A_prepared, df_B_prepared, common_cols)\n"
      ],
      "metadata": {
        "id": "7zBMKjmZuWw4"
      },
      "id": "7zBMKjmZuWw4",
      "execution_count": 14,
      "outputs": []
    },
    {
      "cell_type": "code",
      "source": [
        "df_combined"
      ],
      "metadata": {
        "colab": {
          "base_uri": "https://localhost:8080/",
          "height": 475
        },
        "id": "UWw3tdy2vP71",
        "outputId": "b71ab5f5-a7e4-4d2a-a399-8535d76e1b1e"
      },
      "id": "UWw3tdy2vP71",
      "execution_count": 15,
      "outputs": [
        {
          "output_type": "execute_result",
          "data": {
            "text/plain": [
              "         new_active_listing  new_booked_listing  new_cancelled_listing  \\\n",
              "id_user                                                                  \n",
              "99196                     1                   1                      0   \n",
              "38179                     1                   1                      0   \n",
              "102650                    0                   0                      0   \n",
              "25217                     1                   1                      0   \n",
              "13019                     1                   0                      0   \n",
              "...                     ...                 ...                    ...   \n",
              "75714                     0                   0                      0   \n",
              "83607                     0                   0                      0   \n",
              "80208                     1                   0                      0   \n",
              "40809                     0                   0                      0   \n",
              "10222                     0                   0                      0   \n",
              "\n",
              "        variant_algo variant_checkbox  \n",
              "id_user                                \n",
              "99196      treatment        treatment  \n",
              "38179        control          control  \n",
              "102650       control          control  \n",
              "25217        control        treatment  \n",
              "13019        control        treatment  \n",
              "...              ...              ...  \n",
              "75714      treatment        treatment  \n",
              "83607      treatment        treatment  \n",
              "80208        control          control  \n",
              "40809      treatment          control  \n",
              "10222      treatment          control  \n",
              "\n",
              "[111535 rows x 5 columns]"
            ],
            "text/html": [
              "\n",
              "  <div id=\"df-e251af9b-0d95-4d66-b968-76fefeb7606b\" class=\"colab-df-container\">\n",
              "    <div>\n",
              "<style scoped>\n",
              "    .dataframe tbody tr th:only-of-type {\n",
              "        vertical-align: middle;\n",
              "    }\n",
              "\n",
              "    .dataframe tbody tr th {\n",
              "        vertical-align: top;\n",
              "    }\n",
              "\n",
              "    .dataframe thead th {\n",
              "        text-align: right;\n",
              "    }\n",
              "</style>\n",
              "<table border=\"1\" class=\"dataframe\">\n",
              "  <thead>\n",
              "    <tr style=\"text-align: right;\">\n",
              "      <th></th>\n",
              "      <th>new_active_listing</th>\n",
              "      <th>new_booked_listing</th>\n",
              "      <th>new_cancelled_listing</th>\n",
              "      <th>variant_algo</th>\n",
              "      <th>variant_checkbox</th>\n",
              "    </tr>\n",
              "    <tr>\n",
              "      <th>id_user</th>\n",
              "      <th></th>\n",
              "      <th></th>\n",
              "      <th></th>\n",
              "      <th></th>\n",
              "      <th></th>\n",
              "    </tr>\n",
              "  </thead>\n",
              "  <tbody>\n",
              "    <tr>\n",
              "      <th>99196</th>\n",
              "      <td>1</td>\n",
              "      <td>1</td>\n",
              "      <td>0</td>\n",
              "      <td>treatment</td>\n",
              "      <td>treatment</td>\n",
              "    </tr>\n",
              "    <tr>\n",
              "      <th>38179</th>\n",
              "      <td>1</td>\n",
              "      <td>1</td>\n",
              "      <td>0</td>\n",
              "      <td>control</td>\n",
              "      <td>control</td>\n",
              "    </tr>\n",
              "    <tr>\n",
              "      <th>102650</th>\n",
              "      <td>0</td>\n",
              "      <td>0</td>\n",
              "      <td>0</td>\n",
              "      <td>control</td>\n",
              "      <td>control</td>\n",
              "    </tr>\n",
              "    <tr>\n",
              "      <th>25217</th>\n",
              "      <td>1</td>\n",
              "      <td>1</td>\n",
              "      <td>0</td>\n",
              "      <td>control</td>\n",
              "      <td>treatment</td>\n",
              "    </tr>\n",
              "    <tr>\n",
              "      <th>13019</th>\n",
              "      <td>1</td>\n",
              "      <td>0</td>\n",
              "      <td>0</td>\n",
              "      <td>control</td>\n",
              "      <td>treatment</td>\n",
              "    </tr>\n",
              "    <tr>\n",
              "      <th>...</th>\n",
              "      <td>...</td>\n",
              "      <td>...</td>\n",
              "      <td>...</td>\n",
              "      <td>...</td>\n",
              "      <td>...</td>\n",
              "    </tr>\n",
              "    <tr>\n",
              "      <th>75714</th>\n",
              "      <td>0</td>\n",
              "      <td>0</td>\n",
              "      <td>0</td>\n",
              "      <td>treatment</td>\n",
              "      <td>treatment</td>\n",
              "    </tr>\n",
              "    <tr>\n",
              "      <th>83607</th>\n",
              "      <td>0</td>\n",
              "      <td>0</td>\n",
              "      <td>0</td>\n",
              "      <td>treatment</td>\n",
              "      <td>treatment</td>\n",
              "    </tr>\n",
              "    <tr>\n",
              "      <th>80208</th>\n",
              "      <td>1</td>\n",
              "      <td>0</td>\n",
              "      <td>0</td>\n",
              "      <td>control</td>\n",
              "      <td>control</td>\n",
              "    </tr>\n",
              "    <tr>\n",
              "      <th>40809</th>\n",
              "      <td>0</td>\n",
              "      <td>0</td>\n",
              "      <td>0</td>\n",
              "      <td>treatment</td>\n",
              "      <td>control</td>\n",
              "    </tr>\n",
              "    <tr>\n",
              "      <th>10222</th>\n",
              "      <td>0</td>\n",
              "      <td>0</td>\n",
              "      <td>0</td>\n",
              "      <td>treatment</td>\n",
              "      <td>control</td>\n",
              "    </tr>\n",
              "  </tbody>\n",
              "</table>\n",
              "<p>111535 rows × 5 columns</p>\n",
              "</div>\n",
              "    <div class=\"colab-df-buttons\">\n",
              "\n",
              "  <div class=\"colab-df-container\">\n",
              "    <button class=\"colab-df-convert\" onclick=\"convertToInteractive('df-e251af9b-0d95-4d66-b968-76fefeb7606b')\"\n",
              "            title=\"Convert this dataframe to an interactive table.\"\n",
              "            style=\"display:none;\">\n",
              "\n",
              "  <svg xmlns=\"http://www.w3.org/2000/svg\" height=\"24px\" viewBox=\"0 -960 960 960\">\n",
              "    <path d=\"M120-120v-720h720v720H120Zm60-500h600v-160H180v160Zm220 220h160v-160H400v160Zm0 220h160v-160H400v160ZM180-400h160v-160H180v160Zm440 0h160v-160H620v160ZM180-180h160v-160H180v160Zm440 0h160v-160H620v160Z\"/>\n",
              "  </svg>\n",
              "    </button>\n",
              "\n",
              "  <style>\n",
              "    .colab-df-container {\n",
              "      display:flex;\n",
              "      gap: 12px;\n",
              "    }\n",
              "\n",
              "    .colab-df-convert {\n",
              "      background-color: #E8F0FE;\n",
              "      border: none;\n",
              "      border-radius: 50%;\n",
              "      cursor: pointer;\n",
              "      display: none;\n",
              "      fill: #1967D2;\n",
              "      height: 32px;\n",
              "      padding: 0 0 0 0;\n",
              "      width: 32px;\n",
              "    }\n",
              "\n",
              "    .colab-df-convert:hover {\n",
              "      background-color: #E2EBFA;\n",
              "      box-shadow: 0px 1px 2px rgba(60, 64, 67, 0.3), 0px 1px 3px 1px rgba(60, 64, 67, 0.15);\n",
              "      fill: #174EA6;\n",
              "    }\n",
              "\n",
              "    .colab-df-buttons div {\n",
              "      margin-bottom: 4px;\n",
              "    }\n",
              "\n",
              "    [theme=dark] .colab-df-convert {\n",
              "      background-color: #3B4455;\n",
              "      fill: #D2E3FC;\n",
              "    }\n",
              "\n",
              "    [theme=dark] .colab-df-convert:hover {\n",
              "      background-color: #434B5C;\n",
              "      box-shadow: 0px 1px 3px 1px rgba(0, 0, 0, 0.15);\n",
              "      filter: drop-shadow(0px 1px 2px rgba(0, 0, 0, 0.3));\n",
              "      fill: #FFFFFF;\n",
              "    }\n",
              "  </style>\n",
              "\n",
              "    <script>\n",
              "      const buttonEl =\n",
              "        document.querySelector('#df-e251af9b-0d95-4d66-b968-76fefeb7606b button.colab-df-convert');\n",
              "      buttonEl.style.display =\n",
              "        google.colab.kernel.accessAllowed ? 'block' : 'none';\n",
              "\n",
              "      async function convertToInteractive(key) {\n",
              "        const element = document.querySelector('#df-e251af9b-0d95-4d66-b968-76fefeb7606b');\n",
              "        const dataTable =\n",
              "          await google.colab.kernel.invokeFunction('convertToInteractive',\n",
              "                                                    [key], {});\n",
              "        if (!dataTable) return;\n",
              "\n",
              "        const docLinkHtml = 'Like what you see? Visit the ' +\n",
              "          '<a target=\"_blank\" href=https://colab.research.google.com/notebooks/data_table.ipynb>data table notebook</a>'\n",
              "          + ' to learn more about interactive tables.';\n",
              "        element.innerHTML = '';\n",
              "        dataTable['output_type'] = 'display_data';\n",
              "        await google.colab.output.renderOutput(dataTable, element);\n",
              "        const docLink = document.createElement('div');\n",
              "        docLink.innerHTML = docLinkHtml;\n",
              "        element.appendChild(docLink);\n",
              "      }\n",
              "    </script>\n",
              "  </div>\n",
              "\n",
              "\n",
              "<div id=\"df-e5ac0325-035e-4ca6-9d68-593775f90cc0\">\n",
              "  <button class=\"colab-df-quickchart\" onclick=\"quickchart('df-e5ac0325-035e-4ca6-9d68-593775f90cc0')\"\n",
              "            title=\"Suggest charts\"\n",
              "            style=\"display:none;\">\n",
              "\n",
              "<svg xmlns=\"http://www.w3.org/2000/svg\" height=\"24px\"viewBox=\"0 0 24 24\"\n",
              "     width=\"24px\">\n",
              "    <g>\n",
              "        <path d=\"M19 3H5c-1.1 0-2 .9-2 2v14c0 1.1.9 2 2 2h14c1.1 0 2-.9 2-2V5c0-1.1-.9-2-2-2zM9 17H7v-7h2v7zm4 0h-2V7h2v10zm4 0h-2v-4h2v4z\"/>\n",
              "    </g>\n",
              "</svg>\n",
              "  </button>\n",
              "\n",
              "<style>\n",
              "  .colab-df-quickchart {\n",
              "      --bg-color: #E8F0FE;\n",
              "      --fill-color: #1967D2;\n",
              "      --hover-bg-color: #E2EBFA;\n",
              "      --hover-fill-color: #174EA6;\n",
              "      --disabled-fill-color: #AAA;\n",
              "      --disabled-bg-color: #DDD;\n",
              "  }\n",
              "\n",
              "  [theme=dark] .colab-df-quickchart {\n",
              "      --bg-color: #3B4455;\n",
              "      --fill-color: #D2E3FC;\n",
              "      --hover-bg-color: #434B5C;\n",
              "      --hover-fill-color: #FFFFFF;\n",
              "      --disabled-bg-color: #3B4455;\n",
              "      --disabled-fill-color: #666;\n",
              "  }\n",
              "\n",
              "  .colab-df-quickchart {\n",
              "    background-color: var(--bg-color);\n",
              "    border: none;\n",
              "    border-radius: 50%;\n",
              "    cursor: pointer;\n",
              "    display: none;\n",
              "    fill: var(--fill-color);\n",
              "    height: 32px;\n",
              "    padding: 0;\n",
              "    width: 32px;\n",
              "  }\n",
              "\n",
              "  .colab-df-quickchart:hover {\n",
              "    background-color: var(--hover-bg-color);\n",
              "    box-shadow: 0 1px 2px rgba(60, 64, 67, 0.3), 0 1px 3px 1px rgba(60, 64, 67, 0.15);\n",
              "    fill: var(--button-hover-fill-color);\n",
              "  }\n",
              "\n",
              "  .colab-df-quickchart-complete:disabled,\n",
              "  .colab-df-quickchart-complete:disabled:hover {\n",
              "    background-color: var(--disabled-bg-color);\n",
              "    fill: var(--disabled-fill-color);\n",
              "    box-shadow: none;\n",
              "  }\n",
              "\n",
              "  .colab-df-spinner {\n",
              "    border: 2px solid var(--fill-color);\n",
              "    border-color: transparent;\n",
              "    border-bottom-color: var(--fill-color);\n",
              "    animation:\n",
              "      spin 1s steps(1) infinite;\n",
              "  }\n",
              "\n",
              "  @keyframes spin {\n",
              "    0% {\n",
              "      border-color: transparent;\n",
              "      border-bottom-color: var(--fill-color);\n",
              "      border-left-color: var(--fill-color);\n",
              "    }\n",
              "    20% {\n",
              "      border-color: transparent;\n",
              "      border-left-color: var(--fill-color);\n",
              "      border-top-color: var(--fill-color);\n",
              "    }\n",
              "    30% {\n",
              "      border-color: transparent;\n",
              "      border-left-color: var(--fill-color);\n",
              "      border-top-color: var(--fill-color);\n",
              "      border-right-color: var(--fill-color);\n",
              "    }\n",
              "    40% {\n",
              "      border-color: transparent;\n",
              "      border-right-color: var(--fill-color);\n",
              "      border-top-color: var(--fill-color);\n",
              "    }\n",
              "    60% {\n",
              "      border-color: transparent;\n",
              "      border-right-color: var(--fill-color);\n",
              "    }\n",
              "    80% {\n",
              "      border-color: transparent;\n",
              "      border-right-color: var(--fill-color);\n",
              "      border-bottom-color: var(--fill-color);\n",
              "    }\n",
              "    90% {\n",
              "      border-color: transparent;\n",
              "      border-bottom-color: var(--fill-color);\n",
              "    }\n",
              "  }\n",
              "</style>\n",
              "\n",
              "  <script>\n",
              "    async function quickchart(key) {\n",
              "      const quickchartButtonEl =\n",
              "        document.querySelector('#' + key + ' button');\n",
              "      quickchartButtonEl.disabled = true;  // To prevent multiple clicks.\n",
              "      quickchartButtonEl.classList.add('colab-df-spinner');\n",
              "      try {\n",
              "        const charts = await google.colab.kernel.invokeFunction(\n",
              "            'suggestCharts', [key], {});\n",
              "      } catch (error) {\n",
              "        console.error('Error during call to suggestCharts:', error);\n",
              "      }\n",
              "      quickchartButtonEl.classList.remove('colab-df-spinner');\n",
              "      quickchartButtonEl.classList.add('colab-df-quickchart-complete');\n",
              "    }\n",
              "    (() => {\n",
              "      let quickchartButtonEl =\n",
              "        document.querySelector('#df-e5ac0325-035e-4ca6-9d68-593775f90cc0 button');\n",
              "      quickchartButtonEl.style.display =\n",
              "        google.colab.kernel.accessAllowed ? 'block' : 'none';\n",
              "    })();\n",
              "  </script>\n",
              "</div>\n",
              "    </div>\n",
              "  </div>\n"
            ]
          },
          "metadata": {},
          "execution_count": 15
        }
      ]
    },
    {
      "cell_type": "markdown",
      "id": "e319cf24",
      "metadata": {
        "id": "e319cf24"
      },
      "source": [
        "Now check the results for Test A by whether or not they are in the control vs treatment of Test B."
      ]
    },
    {
      "cell_type": "code",
      "source": [
        "import warnings # When I moved a column with \"df_tmp['variant']=df_tmp['variantA']\", it triggers a warning, but it still works.\n",
        "warnings.filterwarnings('ignore') #So I'm hiding the warning.\n",
        "\n",
        "print ('\\nTest A (Recommendation Algorithm)')\n",
        "print(\"===============================================\")\n",
        "# Check by platform\n",
        "for metric in(['new_booked_listing', 'new_cancelled_listing']):\n",
        "  for varB in (['control','treatment']):\n",
        "    df_tmp = df_combined.loc[df_combined['variant_checkbox'] == varB] # Filter to the\n",
        "    df_tmp['variant']=df_tmp['variant_algo'] # The function is designed to look for a \"variant\" column so we need to rename this\n",
        "\n",
        "    print(f\"{metric} analysis\")\n",
        "    print(\"===============================================\")\n",
        "    print(f\"{varB} checkbox\")\n",
        "    print(pd.DataFrame(calculate_results(df_tmp, metric),\n",
        "             index=['rel diff','abs diff','pvalue','ci low','ci high']).T)\n",
        "    print(\"===============================================\")\n"
      ],
      "metadata": {
        "colab": {
          "base_uri": "https://localhost:8080/"
        },
        "id": "OjjXg2X8vW-N",
        "outputId": "6f537b31-2cb7-4f4a-f4ca-c5b61f4e7622"
      },
      "id": "OjjXg2X8vW-N",
      "execution_count": 16,
      "outputs": [
        {
          "output_type": "stream",
          "name": "stdout",
          "text": [
            "\n",
            "Test A (Recommendation Algorithm)\n",
            "===============================================\n",
            "new_booked_listing analysis\n",
            "===============================================\n",
            "control checkbox\n",
            "   rel diff  abs diff    pvalue    ci low  ci high\n",
            "0 -0.049496 -0.009427  0.004202 -0.083382 -0.01561\n",
            "===============================================\n",
            "new_booked_listing analysis\n",
            "===============================================\n",
            "treatment checkbox\n",
            "   rel diff  abs diff    pvalue    ci low   ci high\n",
            "0 -0.045849 -0.008988  0.007008 -0.079173 -0.012524\n",
            "===============================================\n",
            "new_cancelled_listing analysis\n",
            "===============================================\n",
            "control checkbox\n",
            "   rel diff  abs diff   pvalue    ci low   ci high\n",
            "0  0.027814  0.000264  0.74943 -0.142868  0.198497\n",
            "===============================================\n",
            "new_cancelled_listing analysis\n",
            "===============================================\n",
            "treatment checkbox\n",
            "   rel diff  abs diff    pvalue    ci low   ci high\n",
            "0 -0.029261 -0.000269  0.737489 -0.200363  0.141841\n",
            "===============================================\n"
          ]
        }
      ]
    },
    {
      "cell_type": "markdown",
      "id": "1e7e93ef",
      "metadata": {
        "id": "1e7e93ef"
      },
      "source": [
        "And switch. Look at the results for Test A by whether or not they are in the control vs treatment of Test B."
      ]
    },
    {
      "cell_type": "code",
      "execution_count": 17,
      "id": "bd5ebb5d",
      "metadata": {
        "id": "bd5ebb5d",
        "colab": {
          "base_uri": "https://localhost:8080/"
        },
        "outputId": "be114bf2-3f1e-4dc1-c592-ac696e82c0df"
      },
      "outputs": [
        {
          "output_type": "stream",
          "name": "stdout",
          "text": [
            "\n",
            "Test B (Checkbox for discount)\n",
            "--------------------------------------------------------\n",
            "new_booked_listing analysis\n",
            "===============================================\n",
            "control algo\n",
            "   rel diff  abs diff    pvalue    ci low   ci high\n",
            "0  0.029297   0.00558  0.095224 -0.005118  0.063712\n",
            "===============================================\n",
            "new_booked_listing analysis\n",
            "===============================================\n",
            "treatment algo\n",
            "   rel diff  abs diff    pvalue    ci low   ci high\n",
            "0  0.033247  0.006019  0.066656 -0.002282  0.068775\n",
            "===============================================\n",
            "new_cancelled_listing analysis\n",
            "===============================================\n",
            "control algo\n",
            "   rel diff  abs diff    pvalue    ci low   ci high\n",
            "0 -0.031707 -0.000301  0.711821 -0.199928  0.136514\n",
            "===============================================\n",
            "new_cancelled_listing analysis\n",
            "===============================================\n",
            "treatment algo\n",
            "   rel diff  abs diff    pvalue    ci low   ci high\n",
            "0 -0.085477 -0.000834  0.305891 -0.249102  0.078147\n",
            "===============================================\n"
          ]
        }
      ],
      "source": [
        "print ('\\nTest B (Checkbox for discount)')\n",
        "print ('--------------------------------------------------------')\n",
        "# Check by platform\n",
        "for metric in (['new_booked_listing', 'new_cancelled_listing']):\n",
        "  for varA in (['control','treatment']):\n",
        "    df_tmp = df_combined.loc[df_combined['variant_algo'] == varA]\n",
        "    df_tmp['variant']=df_tmp['variant_checkbox'] # So the function knows what to look at\n",
        "\n",
        "    print(f\"{metric} analysis\")\n",
        "    print(\"===============================================\")\n",
        "    print(f\"{varA} algo\")\n",
        "    print(pd.DataFrame(calculate_results(df_tmp, metric),\n",
        "             index=['rel diff','abs diff','pvalue','ci low','ci high']).T)\n",
        "    print(\"===============================================\")\n"
      ]
    },
    {
      "cell_type": "markdown",
      "id": "81d2f5aa",
      "metadata": {
        "id": "81d2f5aa"
      },
      "source": [
        "### Task 2.c. Summary and recommendation"
      ]
    },
    {
      "cell_type": "markdown",
      "id": "8d1fe9df",
      "metadata": {
        "id": "8d1fe9df"
      },
      "source": [
        "Now that you've analyzed the results and checked for an interaction effect, please summarize your findings and recommend how to proceed. Options for moving forward include:\n",
        "\n",
        "* Stop both tests\n",
        "* Launch both tests\n",
        "* Launch only one of the tests\n",
        "* Run a new test with a different setup (e.g. if the results are inconclusive, you can follow up with a test trying just one combo)"
      ]
    },
    {
      "cell_type": "markdown",
      "source": [
        "## **ANSWER 2C**\n",
        "| Test                | Analysis                | Group          | rel diff  | abs diff  | pvalue    | ci low    | ci high   |\n",
        "|---------------------|-------------------------|----------------|-----------|-----------|-----------|-----------|-----------|\n",
        "| Test A (Recommendation Algorithm) | new_booked_listing      | control checkbox | -0.049496 | -0.009427 | 0.004202  | -0.083382 | -0.01561  |\n",
        "| Test A (Recommendation Algorithm) | new_booked_listing      | treatment checkbox | -0.045849 | -0.008988 | 0.007008  | -0.079173 | -0.012524 |\n",
        "| Test A (Recommendation Algorithm) | new_cancelled_listing   | control checkbox | 0.027814  | 0.000264  | 0.74943   | -0.142868 | 0.198497  |\n",
        "| Test A (Recommendation Algorithm) | new_cancelled_listing   | treatment checkbox | -0.029261 | -0.000269 | 0.737489  | -0.200363 | 0.141841  |\n",
        "| Test B (Checkbox for discount)    | new_booked_listing      | control algo | 0.029297  | 0.00558   | 0.095224  | -0.005118 | 0.063712  |\n",
        "| Test B (Checkbox for discount)    | new_booked_listing      | treatment algo | 0.033247  | 0.006019  | 0.066656  | -0.002282 | 0.068775  |\n",
        "| Test B (Checkbox for discount)    | new_cancelled_listing   | control algo | -0.031707 | -0.000301 | 0.711821  | -0.199928 | 0.136514  |\n",
        "| Test B (Checkbox for discount)    | new_cancelled_listing   | treatment algo | -0.085477 | -0.000834 | 0.305891  | -0.249102 | 0.078147  |\n"
      ],
      "metadata": {
        "id": "rcOiDFNqM8Ow"
      },
      "id": "rcOiDFNqM8Ow"
    },
    {
      "cell_type": "markdown",
      "id": "fc50736d",
      "metadata": {
        "id": "fc50736d"
      },
      "source": [
        "\n",
        "The new price change and checkbox features were run concurrently and an orthogonal analysis concluded no interactions taking place. We therefore make the following conclusions:\n",
        "- The algorithm change demonstrated a SS 5% negative impact NBL. Based on this data, we should NOT implement this change.\n",
        "- The checkbox change showed a 3% SS positive impact on NBL without a detectable impact on cancelled listings. Based on this data, we should go ahead and implement this change.\n",
        "\n",
        "\n"
      ]
    },
    {
      "cell_type": "markdown",
      "id": "59ab7f9e",
      "metadata": {
        "id": "59ab7f9e"
      },
      "source": [
        "## Task 3. Alternate reality\n",
        "\n",
        "**Warning** this gives away the answer to task 1.a. and 1.b, so please do those first!"
      ]
    },
    {
      "cell_type": "markdown",
      "id": "5ae0c692",
      "metadata": {
        "id": "5ae0c692"
      },
      "source": [
        "I bet you didn't know we could spin off alternative realities here, did you? :) After all, what's the point of A/B testing if we can do that? For this one time only, we will consider what would have happened if we had instead designed to analyze the tests with a split-traffic approach...\n",
        "\n",
        "After discussing the options with Max, you decide to proceed with a split-traffic test. Three treatments seemed like a LOT. And risky with the Bonferroni correction that would need to be applied to the p-value. The team is confident in the algorithm since it proved promising in week 3 but less so in the checkbox. So you decide to go with two variants:\n",
        "\n",
        "* Control - Old algorithm, no checkbox\n",
        "* Treatment1 - New algorithm, no checkbox\n",
        "* Treatment2 - New algorithm, checkbox\n",
        "\n",
        "\n",
        "The triggering moment would be the same, and the hypothesis might look like this:\n",
        "\n",
        "If we update the algorithm and add a checkbox allowing hosts to opt-in to a first booking discount, NBL will increase because the price will appeal more to guests."
      ]
    },
    {
      "cell_type": "markdown",
      "id": "94e93383",
      "metadata": {
        "id": "94e93383"
      },
      "source": [
        "### Task 3.a. How long should the test run?\n",
        "\n",
        "The run-time, however, would be different since we're no longer doing a 50/50 test.\n",
        "\n",
        "About 4K new users arrive on the price page of the onboarding flow each day. And the cohort-to-book rate is estimated to be 40% because the triggering happens later in the flow when only the higher-intent people are still there. You can use an online sample size calculator (e.g., Evan Miller's [sample size calculator](https://www.evanmiller.org/ab-testing/sample-size.html)).\n",
        "\n",
        "The first version of the price recommendation had a 6.6% lift in NBL, but it's unclear how much of the low-hanging fruit is still available. Max wants to be able to detect a 3% lift regardless of whether it comes from the algorithm or the algorithm + checkbox variants.\n",
        "\n",
        "How long should the test run?"
      ]
    },
    {
      "cell_type": "markdown",
      "id": "ffffaea7",
      "metadata": {
        "id": "ffffaea7"
      },
      "source": [
        "## **ANSWER 3A**\n",
        "\n",
        "| Metric | Baseline Rate | Minimum Detectable Lift | Sample Size <br> per Variant (3 variants)| Days Needed <br> (4k daily)|\n",
        "|-|-|-|-|-|\n",
        "| New Booked Listings | 40% | 3% relative increase (to 41.2%) | 33,500 | 26|\n",
        "\n",
        "Assumptions:\n",
        "- 80% power\n",
        "- 98% confidence: since we are testing 3 variants, we apply a Bonferroni correction by dividing our usual 0.05 significance level by 3 which yield 0.0167. We rounded this to 0.02 for the above analysis.\n",
        "\n",
        "Run time: I therefore recommend this A/B test for 5 weeks. 4 weeks to obtain the sample size needed to detect a 3% uplift and an extra week to give a chance for listings made by users who are exposed to the test in the final days to generate a booking for our target metric (NBL).\n",
        "\n",
        "Launch criteria: A 3% SS positive effect on the target (NBL) without substantial negative impact to the guardrail (NCL)."
      ]
    },
    {
      "cell_type": "markdown",
      "id": "89c95277",
      "metadata": {
        "id": "89c95277"
      },
      "source": [
        "##### **Hint** - Click to expand"
      ]
    },
    {
      "cell_type": "markdown",
      "id": "54799fb2",
      "metadata": {
        "id": "54799fb2"
      },
      "source": [
        "There are two factors here working against us:\n",
        "\n",
        "1. Splitting traffic\n",
        "\n",
        "Remember that [Evan Miller's calculator](https://www.evanmiller.org/ab-testing/sample-size.html) shows you the number of samples needed _per group_.\n",
        "\n",
        "2. Multi-hypothesis testing\n",
        "\n",
        "In week 2 we talked about [multiple-hypothesis testing](https://corise.com/course/practical-ab-testing/v2/enrollment/enrollment_clfveg8uy01o712ecb49scfbz/module/module_clgff1h4e002o124i1wlcg5ei) where we need to multiply the p-value by the number of hypothesis we're looking at. When calculating power, you can adjust the p-value threshold with the significance level (alpha). The online calculator has a slider to adjust for this at the bottom of the page. The online calculator does not do half-values, so round up if needed (e.g. if you would want a threshold of 0.025, pick 0.03 here)."
      ]
    },
    {
      "cell_type": "markdown",
      "id": "1aff4c5c",
      "metadata": {
        "id": "1aff4c5c"
      },
      "source": [
        "### Task 3.b. Test analysis and recommendation\n",
        "**Warning** This will give away the answer to task 1.c.i so please finish that first!"
      ]
    },
    {
      "cell_type": "markdown",
      "id": "81029db3",
      "metadata": {
        "id": "81029db3"
      },
      "source": [
        "You recommend 28 days run-time for Max and explain the reasoning for it. He's on board. The test has run and the results are in! Please analyze the data provided below, and share a summary and recommendation on how to proceed."
      ]
    },
    {
      "cell_type": "markdown",
      "id": "3846873d",
      "metadata": {
        "id": "3846873d"
      },
      "source": [
        "#### Do it on your own!"
      ]
    },
    {
      "cell_type": "code",
      "execution_count": 18,
      "id": "258cf796",
      "metadata": {
        "id": "258cf796"
      },
      "outputs": [],
      "source": [
        "df_price_multi = pd.read_csv('/content/dataset_price_multi.csv')\n",
        "\n",
        "# Code goes here"
      ]
    },
    {
      "cell_type": "markdown",
      "id": "eb5f2ef6",
      "metadata": {
        "id": "eb5f2ef6"
      },
      "source": [
        "#### Or use our code!"
      ]
    },
    {
      "cell_type": "markdown",
      "id": "18e4ca3f",
      "metadata": {
        "id": "18e4ca3f"
      },
      "source": [
        "We'll provide most of the code for you below- you can either fill in the blanks in the below code block, or take parts of it and build your code in the block above."
      ]
    },
    {
      "cell_type": "code",
      "execution_count": 19,
      "id": "a939c450",
      "metadata": {
        "id": "a939c450"
      },
      "outputs": [],
      "source": [
        "df_price_multi = pd.read_csv('/content/dataset_price_multi.csv')\n",
        "\n",
        "# Check the overarching tests. Start with the recommendation algorithm only, no checkbox\n",
        "df_c = df_price_multi.loc[(df_price_multi['variant']=='control')] # Pull the control into one dataframe\n",
        "df_t = df_price_multi.loc[(df_price_multi['variant']=='treatment1')] # And the treatment of interest into another\n",
        "df_ct = pd.concat([df_c,df_t]) # Combine into one- now you can compute results like normal!\n",
        "# PS: The compute_results function considers any variant not called \"control\" as treatment, so it's OK that it's \"treatment1\""
      ]
    },
    {
      "cell_type": "code",
      "source": [
        "df_ct"
      ],
      "metadata": {
        "colab": {
          "base_uri": "https://localhost:8080/",
          "height": 424
        },
        "id": "c44Esn2rVazL",
        "outputId": "71481759-7ec7-44ab-8a0a-9d8df24a6bc3"
      },
      "id": "c44Esn2rVazL",
      "execution_count": 20,
      "outputs": [
        {
          "output_type": "execute_result",
          "data": {
            "text/plain": [
              "        id_user     variant  new_active_listing  new_booked_listing  \\\n",
              "2         73776     control                   1                   0   \n",
              "3         78933     control                   0                   0   \n",
              "4         30566     control                   0                   0   \n",
              "7         41387     control                   0                   0   \n",
              "10       100721     control                   0                   0   \n",
              "...         ...         ...                 ...                 ...   \n",
              "111494    49228  treatment1                   0                   0   \n",
              "111500    89943  treatment1                   0                   0   \n",
              "111502    95046  treatment1                   0                   0   \n",
              "111512    74417  treatment1                   0                   0   \n",
              "111514    94756  treatment1                   1                   0   \n",
              "\n",
              "        new_cancelled_listing  \n",
              "2                           0  \n",
              "3                           0  \n",
              "4                           0  \n",
              "7                           0  \n",
              "10                          0  \n",
              "...                       ...  \n",
              "111494                      0  \n",
              "111500                      0  \n",
              "111502                      0  \n",
              "111512                      0  \n",
              "111514                      0  \n",
              "\n",
              "[74392 rows x 5 columns]"
            ],
            "text/html": [
              "\n",
              "  <div id=\"df-d85f8e7a-af33-4070-aace-60738978bc43\" class=\"colab-df-container\">\n",
              "    <div>\n",
              "<style scoped>\n",
              "    .dataframe tbody tr th:only-of-type {\n",
              "        vertical-align: middle;\n",
              "    }\n",
              "\n",
              "    .dataframe tbody tr th {\n",
              "        vertical-align: top;\n",
              "    }\n",
              "\n",
              "    .dataframe thead th {\n",
              "        text-align: right;\n",
              "    }\n",
              "</style>\n",
              "<table border=\"1\" class=\"dataframe\">\n",
              "  <thead>\n",
              "    <tr style=\"text-align: right;\">\n",
              "      <th></th>\n",
              "      <th>id_user</th>\n",
              "      <th>variant</th>\n",
              "      <th>new_active_listing</th>\n",
              "      <th>new_booked_listing</th>\n",
              "      <th>new_cancelled_listing</th>\n",
              "    </tr>\n",
              "  </thead>\n",
              "  <tbody>\n",
              "    <tr>\n",
              "      <th>2</th>\n",
              "      <td>73776</td>\n",
              "      <td>control</td>\n",
              "      <td>1</td>\n",
              "      <td>0</td>\n",
              "      <td>0</td>\n",
              "    </tr>\n",
              "    <tr>\n",
              "      <th>3</th>\n",
              "      <td>78933</td>\n",
              "      <td>control</td>\n",
              "      <td>0</td>\n",
              "      <td>0</td>\n",
              "      <td>0</td>\n",
              "    </tr>\n",
              "    <tr>\n",
              "      <th>4</th>\n",
              "      <td>30566</td>\n",
              "      <td>control</td>\n",
              "      <td>0</td>\n",
              "      <td>0</td>\n",
              "      <td>0</td>\n",
              "    </tr>\n",
              "    <tr>\n",
              "      <th>7</th>\n",
              "      <td>41387</td>\n",
              "      <td>control</td>\n",
              "      <td>0</td>\n",
              "      <td>0</td>\n",
              "      <td>0</td>\n",
              "    </tr>\n",
              "    <tr>\n",
              "      <th>10</th>\n",
              "      <td>100721</td>\n",
              "      <td>control</td>\n",
              "      <td>0</td>\n",
              "      <td>0</td>\n",
              "      <td>0</td>\n",
              "    </tr>\n",
              "    <tr>\n",
              "      <th>...</th>\n",
              "      <td>...</td>\n",
              "      <td>...</td>\n",
              "      <td>...</td>\n",
              "      <td>...</td>\n",
              "      <td>...</td>\n",
              "    </tr>\n",
              "    <tr>\n",
              "      <th>111494</th>\n",
              "      <td>49228</td>\n",
              "      <td>treatment1</td>\n",
              "      <td>0</td>\n",
              "      <td>0</td>\n",
              "      <td>0</td>\n",
              "    </tr>\n",
              "    <tr>\n",
              "      <th>111500</th>\n",
              "      <td>89943</td>\n",
              "      <td>treatment1</td>\n",
              "      <td>0</td>\n",
              "      <td>0</td>\n",
              "      <td>0</td>\n",
              "    </tr>\n",
              "    <tr>\n",
              "      <th>111502</th>\n",
              "      <td>95046</td>\n",
              "      <td>treatment1</td>\n",
              "      <td>0</td>\n",
              "      <td>0</td>\n",
              "      <td>0</td>\n",
              "    </tr>\n",
              "    <tr>\n",
              "      <th>111512</th>\n",
              "      <td>74417</td>\n",
              "      <td>treatment1</td>\n",
              "      <td>0</td>\n",
              "      <td>0</td>\n",
              "      <td>0</td>\n",
              "    </tr>\n",
              "    <tr>\n",
              "      <th>111514</th>\n",
              "      <td>94756</td>\n",
              "      <td>treatment1</td>\n",
              "      <td>1</td>\n",
              "      <td>0</td>\n",
              "      <td>0</td>\n",
              "    </tr>\n",
              "  </tbody>\n",
              "</table>\n",
              "<p>74392 rows × 5 columns</p>\n",
              "</div>\n",
              "    <div class=\"colab-df-buttons\">\n",
              "\n",
              "  <div class=\"colab-df-container\">\n",
              "    <button class=\"colab-df-convert\" onclick=\"convertToInteractive('df-d85f8e7a-af33-4070-aace-60738978bc43')\"\n",
              "            title=\"Convert this dataframe to an interactive table.\"\n",
              "            style=\"display:none;\">\n",
              "\n",
              "  <svg xmlns=\"http://www.w3.org/2000/svg\" height=\"24px\" viewBox=\"0 -960 960 960\">\n",
              "    <path d=\"M120-120v-720h720v720H120Zm60-500h600v-160H180v160Zm220 220h160v-160H400v160Zm0 220h160v-160H400v160ZM180-400h160v-160H180v160Zm440 0h160v-160H620v160ZM180-180h160v-160H180v160Zm440 0h160v-160H620v160Z\"/>\n",
              "  </svg>\n",
              "    </button>\n",
              "\n",
              "  <style>\n",
              "    .colab-df-container {\n",
              "      display:flex;\n",
              "      gap: 12px;\n",
              "    }\n",
              "\n",
              "    .colab-df-convert {\n",
              "      background-color: #E8F0FE;\n",
              "      border: none;\n",
              "      border-radius: 50%;\n",
              "      cursor: pointer;\n",
              "      display: none;\n",
              "      fill: #1967D2;\n",
              "      height: 32px;\n",
              "      padding: 0 0 0 0;\n",
              "      width: 32px;\n",
              "    }\n",
              "\n",
              "    .colab-df-convert:hover {\n",
              "      background-color: #E2EBFA;\n",
              "      box-shadow: 0px 1px 2px rgba(60, 64, 67, 0.3), 0px 1px 3px 1px rgba(60, 64, 67, 0.15);\n",
              "      fill: #174EA6;\n",
              "    }\n",
              "\n",
              "    .colab-df-buttons div {\n",
              "      margin-bottom: 4px;\n",
              "    }\n",
              "\n",
              "    [theme=dark] .colab-df-convert {\n",
              "      background-color: #3B4455;\n",
              "      fill: #D2E3FC;\n",
              "    }\n",
              "\n",
              "    [theme=dark] .colab-df-convert:hover {\n",
              "      background-color: #434B5C;\n",
              "      box-shadow: 0px 1px 3px 1px rgba(0, 0, 0, 0.15);\n",
              "      filter: drop-shadow(0px 1px 2px rgba(0, 0, 0, 0.3));\n",
              "      fill: #FFFFFF;\n",
              "    }\n",
              "  </style>\n",
              "\n",
              "    <script>\n",
              "      const buttonEl =\n",
              "        document.querySelector('#df-d85f8e7a-af33-4070-aace-60738978bc43 button.colab-df-convert');\n",
              "      buttonEl.style.display =\n",
              "        google.colab.kernel.accessAllowed ? 'block' : 'none';\n",
              "\n",
              "      async function convertToInteractive(key) {\n",
              "        const element = document.querySelector('#df-d85f8e7a-af33-4070-aace-60738978bc43');\n",
              "        const dataTable =\n",
              "          await google.colab.kernel.invokeFunction('convertToInteractive',\n",
              "                                                    [key], {});\n",
              "        if (!dataTable) return;\n",
              "\n",
              "        const docLinkHtml = 'Like what you see? Visit the ' +\n",
              "          '<a target=\"_blank\" href=https://colab.research.google.com/notebooks/data_table.ipynb>data table notebook</a>'\n",
              "          + ' to learn more about interactive tables.';\n",
              "        element.innerHTML = '';\n",
              "        dataTable['output_type'] = 'display_data';\n",
              "        await google.colab.output.renderOutput(dataTable, element);\n",
              "        const docLink = document.createElement('div');\n",
              "        docLink.innerHTML = docLinkHtml;\n",
              "        element.appendChild(docLink);\n",
              "      }\n",
              "    </script>\n",
              "  </div>\n",
              "\n",
              "\n",
              "<div id=\"df-bb86347b-8013-49c3-8f3d-75aa78508852\">\n",
              "  <button class=\"colab-df-quickchart\" onclick=\"quickchart('df-bb86347b-8013-49c3-8f3d-75aa78508852')\"\n",
              "            title=\"Suggest charts\"\n",
              "            style=\"display:none;\">\n",
              "\n",
              "<svg xmlns=\"http://www.w3.org/2000/svg\" height=\"24px\"viewBox=\"0 0 24 24\"\n",
              "     width=\"24px\">\n",
              "    <g>\n",
              "        <path d=\"M19 3H5c-1.1 0-2 .9-2 2v14c0 1.1.9 2 2 2h14c1.1 0 2-.9 2-2V5c0-1.1-.9-2-2-2zM9 17H7v-7h2v7zm4 0h-2V7h2v10zm4 0h-2v-4h2v4z\"/>\n",
              "    </g>\n",
              "</svg>\n",
              "  </button>\n",
              "\n",
              "<style>\n",
              "  .colab-df-quickchart {\n",
              "      --bg-color: #E8F0FE;\n",
              "      --fill-color: #1967D2;\n",
              "      --hover-bg-color: #E2EBFA;\n",
              "      --hover-fill-color: #174EA6;\n",
              "      --disabled-fill-color: #AAA;\n",
              "      --disabled-bg-color: #DDD;\n",
              "  }\n",
              "\n",
              "  [theme=dark] .colab-df-quickchart {\n",
              "      --bg-color: #3B4455;\n",
              "      --fill-color: #D2E3FC;\n",
              "      --hover-bg-color: #434B5C;\n",
              "      --hover-fill-color: #FFFFFF;\n",
              "      --disabled-bg-color: #3B4455;\n",
              "      --disabled-fill-color: #666;\n",
              "  }\n",
              "\n",
              "  .colab-df-quickchart {\n",
              "    background-color: var(--bg-color);\n",
              "    border: none;\n",
              "    border-radius: 50%;\n",
              "    cursor: pointer;\n",
              "    display: none;\n",
              "    fill: var(--fill-color);\n",
              "    height: 32px;\n",
              "    padding: 0;\n",
              "    width: 32px;\n",
              "  }\n",
              "\n",
              "  .colab-df-quickchart:hover {\n",
              "    background-color: var(--hover-bg-color);\n",
              "    box-shadow: 0 1px 2px rgba(60, 64, 67, 0.3), 0 1px 3px 1px rgba(60, 64, 67, 0.15);\n",
              "    fill: var(--button-hover-fill-color);\n",
              "  }\n",
              "\n",
              "  .colab-df-quickchart-complete:disabled,\n",
              "  .colab-df-quickchart-complete:disabled:hover {\n",
              "    background-color: var(--disabled-bg-color);\n",
              "    fill: var(--disabled-fill-color);\n",
              "    box-shadow: none;\n",
              "  }\n",
              "\n",
              "  .colab-df-spinner {\n",
              "    border: 2px solid var(--fill-color);\n",
              "    border-color: transparent;\n",
              "    border-bottom-color: var(--fill-color);\n",
              "    animation:\n",
              "      spin 1s steps(1) infinite;\n",
              "  }\n",
              "\n",
              "  @keyframes spin {\n",
              "    0% {\n",
              "      border-color: transparent;\n",
              "      border-bottom-color: var(--fill-color);\n",
              "      border-left-color: var(--fill-color);\n",
              "    }\n",
              "    20% {\n",
              "      border-color: transparent;\n",
              "      border-left-color: var(--fill-color);\n",
              "      border-top-color: var(--fill-color);\n",
              "    }\n",
              "    30% {\n",
              "      border-color: transparent;\n",
              "      border-left-color: var(--fill-color);\n",
              "      border-top-color: var(--fill-color);\n",
              "      border-right-color: var(--fill-color);\n",
              "    }\n",
              "    40% {\n",
              "      border-color: transparent;\n",
              "      border-right-color: var(--fill-color);\n",
              "      border-top-color: var(--fill-color);\n",
              "    }\n",
              "    60% {\n",
              "      border-color: transparent;\n",
              "      border-right-color: var(--fill-color);\n",
              "    }\n",
              "    80% {\n",
              "      border-color: transparent;\n",
              "      border-right-color: var(--fill-color);\n",
              "      border-bottom-color: var(--fill-color);\n",
              "    }\n",
              "    90% {\n",
              "      border-color: transparent;\n",
              "      border-bottom-color: var(--fill-color);\n",
              "    }\n",
              "  }\n",
              "</style>\n",
              "\n",
              "  <script>\n",
              "    async function quickchart(key) {\n",
              "      const quickchartButtonEl =\n",
              "        document.querySelector('#' + key + ' button');\n",
              "      quickchartButtonEl.disabled = true;  // To prevent multiple clicks.\n",
              "      quickchartButtonEl.classList.add('colab-df-spinner');\n",
              "      try {\n",
              "        const charts = await google.colab.kernel.invokeFunction(\n",
              "            'suggestCharts', [key], {});\n",
              "      } catch (error) {\n",
              "        console.error('Error during call to suggestCharts:', error);\n",
              "      }\n",
              "      quickchartButtonEl.classList.remove('colab-df-spinner');\n",
              "      quickchartButtonEl.classList.add('colab-df-quickchart-complete');\n",
              "    }\n",
              "    (() => {\n",
              "      let quickchartButtonEl =\n",
              "        document.querySelector('#df-bb86347b-8013-49c3-8f3d-75aa78508852 button');\n",
              "      quickchartButtonEl.style.display =\n",
              "        google.colab.kernel.accessAllowed ? 'block' : 'none';\n",
              "    })();\n",
              "  </script>\n",
              "</div>\n",
              "    </div>\n",
              "  </div>\n"
            ]
          },
          "metadata": {},
          "execution_count": 20
        }
      ]
    },
    {
      "cell_type": "markdown",
      "source": [
        "## Check for assignment imbalance"
      ],
      "metadata": {
        "id": "lRUVXIGAWzYg"
      },
      "id": "lRUVXIGAWzYg"
    },
    {
      "cell_type": "code",
      "source": [
        "df_ct['chi2_variant'] = df_ct['variant']\n",
        "df_ct['chi2_variant'].loc[(df_ct['chi2_variant']=='treatment1')] = 'treatment'\n",
        "p_value, total_count, observed_counts = ab_test_chi2(df_ct['chi2_variant'])\n",
        "print(f\"Total Count: {total_count}\")\n",
        "print(f\"Observed Count:\\n{observed_counts}\")\n",
        "print(f\"Chi-squared test p-value: {p_value}\")"
      ],
      "metadata": {
        "colab": {
          "base_uri": "https://localhost:8080/"
        },
        "id": "zfE0HOhkVWuc",
        "outputId": "0575476e-aef8-47b6-ec33-64fb9429de1b"
      },
      "id": "zfE0HOhkVWuc",
      "execution_count": 21,
      "outputs": [
        {
          "output_type": "stream",
          "name": "stdout",
          "text": [
            "Total Count: 74392\n",
            "Observed Count:\n",
            "0    37216\n",
            "1    37176\n",
            "Name: chi2_variant, dtype: int64\n",
            "Chi-squared test p-value: 0.9215227968752733\n"
          ]
        }
      ]
    },
    {
      "cell_type": "markdown",
      "source": [
        "## Compare control to treatment 1\n"
      ],
      "metadata": {
        "id": "Mk2it4WEW2Ff"
      },
      "id": "Mk2it4WEW2Ff"
    },
    {
      "cell_type": "code",
      "source": [
        "metric = 'new_booked_listing'\n",
        "print(f\"Analysis of {metric}\")\n",
        "pd.DataFrame(calculate_results(df_ct, metric),\n",
        "             index=['rel diff','abs diff','pvalue','ci low','ci high']).T"
      ],
      "metadata": {
        "colab": {
          "base_uri": "https://localhost:8080/",
          "height": 98
        },
        "id": "4FsJH00XXSD-",
        "outputId": "5cd14ae9-b426-447b-dcc2-723e9c3b4eac"
      },
      "id": "4FsJH00XXSD-",
      "execution_count": 22,
      "outputs": [
        {
          "output_type": "stream",
          "name": "stdout",
          "text": [
            "Analysis of new_booked_listing\n"
          ]
        },
        {
          "output_type": "execute_result",
          "data": {
            "text/plain": [
              "   rel diff  abs diff    pvalue    ci low  ci high\n",
              "0 -0.037929 -0.007193  0.011709 -0.067418 -0.00844"
            ],
            "text/html": [
              "\n",
              "  <div id=\"df-4b32df10-3e66-41e9-83a1-3dc3047dbc7b\" class=\"colab-df-container\">\n",
              "    <div>\n",
              "<style scoped>\n",
              "    .dataframe tbody tr th:only-of-type {\n",
              "        vertical-align: middle;\n",
              "    }\n",
              "\n",
              "    .dataframe tbody tr th {\n",
              "        vertical-align: top;\n",
              "    }\n",
              "\n",
              "    .dataframe thead th {\n",
              "        text-align: right;\n",
              "    }\n",
              "</style>\n",
              "<table border=\"1\" class=\"dataframe\">\n",
              "  <thead>\n",
              "    <tr style=\"text-align: right;\">\n",
              "      <th></th>\n",
              "      <th>rel diff</th>\n",
              "      <th>abs diff</th>\n",
              "      <th>pvalue</th>\n",
              "      <th>ci low</th>\n",
              "      <th>ci high</th>\n",
              "    </tr>\n",
              "  </thead>\n",
              "  <tbody>\n",
              "    <tr>\n",
              "      <th>0</th>\n",
              "      <td>-0.037929</td>\n",
              "      <td>-0.007193</td>\n",
              "      <td>0.011709</td>\n",
              "      <td>-0.067418</td>\n",
              "      <td>-0.00844</td>\n",
              "    </tr>\n",
              "  </tbody>\n",
              "</table>\n",
              "</div>\n",
              "    <div class=\"colab-df-buttons\">\n",
              "\n",
              "  <div class=\"colab-df-container\">\n",
              "    <button class=\"colab-df-convert\" onclick=\"convertToInteractive('df-4b32df10-3e66-41e9-83a1-3dc3047dbc7b')\"\n",
              "            title=\"Convert this dataframe to an interactive table.\"\n",
              "            style=\"display:none;\">\n",
              "\n",
              "  <svg xmlns=\"http://www.w3.org/2000/svg\" height=\"24px\" viewBox=\"0 -960 960 960\">\n",
              "    <path d=\"M120-120v-720h720v720H120Zm60-500h600v-160H180v160Zm220 220h160v-160H400v160Zm0 220h160v-160H400v160ZM180-400h160v-160H180v160Zm440 0h160v-160H620v160ZM180-180h160v-160H180v160Zm440 0h160v-160H620v160Z\"/>\n",
              "  </svg>\n",
              "    </button>\n",
              "\n",
              "  <style>\n",
              "    .colab-df-container {\n",
              "      display:flex;\n",
              "      gap: 12px;\n",
              "    }\n",
              "\n",
              "    .colab-df-convert {\n",
              "      background-color: #E8F0FE;\n",
              "      border: none;\n",
              "      border-radius: 50%;\n",
              "      cursor: pointer;\n",
              "      display: none;\n",
              "      fill: #1967D2;\n",
              "      height: 32px;\n",
              "      padding: 0 0 0 0;\n",
              "      width: 32px;\n",
              "    }\n",
              "\n",
              "    .colab-df-convert:hover {\n",
              "      background-color: #E2EBFA;\n",
              "      box-shadow: 0px 1px 2px rgba(60, 64, 67, 0.3), 0px 1px 3px 1px rgba(60, 64, 67, 0.15);\n",
              "      fill: #174EA6;\n",
              "    }\n",
              "\n",
              "    .colab-df-buttons div {\n",
              "      margin-bottom: 4px;\n",
              "    }\n",
              "\n",
              "    [theme=dark] .colab-df-convert {\n",
              "      background-color: #3B4455;\n",
              "      fill: #D2E3FC;\n",
              "    }\n",
              "\n",
              "    [theme=dark] .colab-df-convert:hover {\n",
              "      background-color: #434B5C;\n",
              "      box-shadow: 0px 1px 3px 1px rgba(0, 0, 0, 0.15);\n",
              "      filter: drop-shadow(0px 1px 2px rgba(0, 0, 0, 0.3));\n",
              "      fill: #FFFFFF;\n",
              "    }\n",
              "  </style>\n",
              "\n",
              "    <script>\n",
              "      const buttonEl =\n",
              "        document.querySelector('#df-4b32df10-3e66-41e9-83a1-3dc3047dbc7b button.colab-df-convert');\n",
              "      buttonEl.style.display =\n",
              "        google.colab.kernel.accessAllowed ? 'block' : 'none';\n",
              "\n",
              "      async function convertToInteractive(key) {\n",
              "        const element = document.querySelector('#df-4b32df10-3e66-41e9-83a1-3dc3047dbc7b');\n",
              "        const dataTable =\n",
              "          await google.colab.kernel.invokeFunction('convertToInteractive',\n",
              "                                                    [key], {});\n",
              "        if (!dataTable) return;\n",
              "\n",
              "        const docLinkHtml = 'Like what you see? Visit the ' +\n",
              "          '<a target=\"_blank\" href=https://colab.research.google.com/notebooks/data_table.ipynb>data table notebook</a>'\n",
              "          + ' to learn more about interactive tables.';\n",
              "        element.innerHTML = '';\n",
              "        dataTable['output_type'] = 'display_data';\n",
              "        await google.colab.output.renderOutput(dataTable, element);\n",
              "        const docLink = document.createElement('div');\n",
              "        docLink.innerHTML = docLinkHtml;\n",
              "        element.appendChild(docLink);\n",
              "      }\n",
              "    </script>\n",
              "  </div>\n",
              "\n",
              "    </div>\n",
              "  </div>\n"
            ]
          },
          "metadata": {},
          "execution_count": 22
        }
      ]
    },
    {
      "cell_type": "code",
      "source": [
        "metric = 'new_cancelled_listing'\n",
        "print(f\"Analysis of {metric}\")\n",
        "pd.DataFrame(calculate_results(df_ct, metric),\n",
        "             index=['rel diff','abs diff','pvalue','ci low','ci high']).T"
      ],
      "metadata": {
        "colab": {
          "base_uri": "https://localhost:8080/",
          "height": 98
        },
        "id": "YmEA4APCXT-E",
        "outputId": "566c85ab-baf5-48db-89b9-d15361555fc4"
      },
      "id": "YmEA4APCXT-E",
      "execution_count": 23,
      "outputs": [
        {
          "output_type": "stream",
          "name": "stdout",
          "text": [
            "Analysis of new_cancelled_listing\n"
          ]
        },
        {
          "output_type": "execute_result",
          "data": {
            "text/plain": [
              "   rel diff  abs diff    pvalue   ci low  ci high\n",
              "0  -0.12511   -0.0012  0.082972 -0.26654  0.01632"
            ],
            "text/html": [
              "\n",
              "  <div id=\"df-4418a419-9370-4a12-891d-035818ddec93\" class=\"colab-df-container\">\n",
              "    <div>\n",
              "<style scoped>\n",
              "    .dataframe tbody tr th:only-of-type {\n",
              "        vertical-align: middle;\n",
              "    }\n",
              "\n",
              "    .dataframe tbody tr th {\n",
              "        vertical-align: top;\n",
              "    }\n",
              "\n",
              "    .dataframe thead th {\n",
              "        text-align: right;\n",
              "    }\n",
              "</style>\n",
              "<table border=\"1\" class=\"dataframe\">\n",
              "  <thead>\n",
              "    <tr style=\"text-align: right;\">\n",
              "      <th></th>\n",
              "      <th>rel diff</th>\n",
              "      <th>abs diff</th>\n",
              "      <th>pvalue</th>\n",
              "      <th>ci low</th>\n",
              "      <th>ci high</th>\n",
              "    </tr>\n",
              "  </thead>\n",
              "  <tbody>\n",
              "    <tr>\n",
              "      <th>0</th>\n",
              "      <td>-0.12511</td>\n",
              "      <td>-0.0012</td>\n",
              "      <td>0.082972</td>\n",
              "      <td>-0.26654</td>\n",
              "      <td>0.01632</td>\n",
              "    </tr>\n",
              "  </tbody>\n",
              "</table>\n",
              "</div>\n",
              "    <div class=\"colab-df-buttons\">\n",
              "\n",
              "  <div class=\"colab-df-container\">\n",
              "    <button class=\"colab-df-convert\" onclick=\"convertToInteractive('df-4418a419-9370-4a12-891d-035818ddec93')\"\n",
              "            title=\"Convert this dataframe to an interactive table.\"\n",
              "            style=\"display:none;\">\n",
              "\n",
              "  <svg xmlns=\"http://www.w3.org/2000/svg\" height=\"24px\" viewBox=\"0 -960 960 960\">\n",
              "    <path d=\"M120-120v-720h720v720H120Zm60-500h600v-160H180v160Zm220 220h160v-160H400v160Zm0 220h160v-160H400v160ZM180-400h160v-160H180v160Zm440 0h160v-160H620v160ZM180-180h160v-160H180v160Zm440 0h160v-160H620v160Z\"/>\n",
              "  </svg>\n",
              "    </button>\n",
              "\n",
              "  <style>\n",
              "    .colab-df-container {\n",
              "      display:flex;\n",
              "      gap: 12px;\n",
              "    }\n",
              "\n",
              "    .colab-df-convert {\n",
              "      background-color: #E8F0FE;\n",
              "      border: none;\n",
              "      border-radius: 50%;\n",
              "      cursor: pointer;\n",
              "      display: none;\n",
              "      fill: #1967D2;\n",
              "      height: 32px;\n",
              "      padding: 0 0 0 0;\n",
              "      width: 32px;\n",
              "    }\n",
              "\n",
              "    .colab-df-convert:hover {\n",
              "      background-color: #E2EBFA;\n",
              "      box-shadow: 0px 1px 2px rgba(60, 64, 67, 0.3), 0px 1px 3px 1px rgba(60, 64, 67, 0.15);\n",
              "      fill: #174EA6;\n",
              "    }\n",
              "\n",
              "    .colab-df-buttons div {\n",
              "      margin-bottom: 4px;\n",
              "    }\n",
              "\n",
              "    [theme=dark] .colab-df-convert {\n",
              "      background-color: #3B4455;\n",
              "      fill: #D2E3FC;\n",
              "    }\n",
              "\n",
              "    [theme=dark] .colab-df-convert:hover {\n",
              "      background-color: #434B5C;\n",
              "      box-shadow: 0px 1px 3px 1px rgba(0, 0, 0, 0.15);\n",
              "      filter: drop-shadow(0px 1px 2px rgba(0, 0, 0, 0.3));\n",
              "      fill: #FFFFFF;\n",
              "    }\n",
              "  </style>\n",
              "\n",
              "    <script>\n",
              "      const buttonEl =\n",
              "        document.querySelector('#df-4418a419-9370-4a12-891d-035818ddec93 button.colab-df-convert');\n",
              "      buttonEl.style.display =\n",
              "        google.colab.kernel.accessAllowed ? 'block' : 'none';\n",
              "\n",
              "      async function convertToInteractive(key) {\n",
              "        const element = document.querySelector('#df-4418a419-9370-4a12-891d-035818ddec93');\n",
              "        const dataTable =\n",
              "          await google.colab.kernel.invokeFunction('convertToInteractive',\n",
              "                                                    [key], {});\n",
              "        if (!dataTable) return;\n",
              "\n",
              "        const docLinkHtml = 'Like what you see? Visit the ' +\n",
              "          '<a target=\"_blank\" href=https://colab.research.google.com/notebooks/data_table.ipynb>data table notebook</a>'\n",
              "          + ' to learn more about interactive tables.';\n",
              "        element.innerHTML = '';\n",
              "        dataTable['output_type'] = 'display_data';\n",
              "        await google.colab.output.renderOutput(dataTable, element);\n",
              "        const docLink = document.createElement('div');\n",
              "        docLink.innerHTML = docLinkHtml;\n",
              "        element.appendChild(docLink);\n",
              "      }\n",
              "    </script>\n",
              "  </div>\n",
              "\n",
              "    </div>\n",
              "  </div>\n"
            ]
          },
          "metadata": {},
          "execution_count": 23
        }
      ]
    },
    {
      "cell_type": "code",
      "execution_count": 24,
      "id": "c72b7bf4",
      "metadata": {
        "id": "c72b7bf4"
      },
      "outputs": [],
      "source": [
        "# Now compare the control with treatment2, which includes the algo and the checkbox\n",
        "df_c = df_price_multi.loc[(df_price_multi['variant']=='control')]\n",
        "df_t = df_price_multi.loc[(df_price_multi['variant']=='treatment2')]\n",
        "df_ct = pd.concat([df_c,df_t])"
      ]
    },
    {
      "cell_type": "code",
      "source": [
        "df_ct['chi2_variant'] = df_ct['variant']\n",
        "df_ct['chi2_variant'].loc[(df_ct['chi2_variant']=='treatment2')] = 'treatment'\n",
        "p_value, total_count, observed_counts = ab_test_chi2(df_ct['chi2_variant'])\n",
        "print(f\"Total Count: {total_count}\")\n",
        "print(f\"Observed Count:\\n{observed_counts}\")\n",
        "print(f\"Chi-squared test p-value: {p_value}\")"
      ],
      "metadata": {
        "colab": {
          "base_uri": "https://localhost:8080/"
        },
        "id": "Vu-XktWzXfBU",
        "outputId": "c6a3aef0-aafc-4d35-965f-4a8048307129"
      },
      "id": "Vu-XktWzXfBU",
      "execution_count": 25,
      "outputs": [
        {
          "output_type": "stream",
          "name": "stdout",
          "text": [
            "Total Count: 74339\n",
            "Observed Count:\n",
            "0    37216\n",
            "1    37123\n",
            "Name: chi2_variant, dtype: int64\n",
            "Chi-squared test p-value: 0.8134300899021081\n"
          ]
        }
      ]
    },
    {
      "cell_type": "code",
      "source": [
        "metric = 'new_booked_listing'\n",
        "print(f\"Analysis of {metric}\")\n",
        "pd.DataFrame(calculate_results(df_ct, metric),\n",
        "             index=['rel diff','abs diff','pvalue','ci low','ci high']).T"
      ],
      "metadata": {
        "colab": {
          "base_uri": "https://localhost:8080/",
          "height": 98
        },
        "id": "Dp3VsQ4PXg6X",
        "outputId": "2daebe6d-c9fb-44b3-8aa6-13b911902fe3"
      },
      "id": "Dp3VsQ4PXg6X",
      "execution_count": 26,
      "outputs": [
        {
          "output_type": "stream",
          "name": "stdout",
          "text": [
            "Analysis of new_booked_listing\n"
          ]
        },
        {
          "output_type": "execute_result",
          "data": {
            "text/plain": [
              "   rel diff  abs diff    pvalue   ci low   ci high\n",
              "0  0.022959  0.004354  0.131673 -0.00689  0.052807"
            ],
            "text/html": [
              "\n",
              "  <div id=\"df-b4ef6185-0107-4a48-8a4a-b4802fc65dff\" class=\"colab-df-container\">\n",
              "    <div>\n",
              "<style scoped>\n",
              "    .dataframe tbody tr th:only-of-type {\n",
              "        vertical-align: middle;\n",
              "    }\n",
              "\n",
              "    .dataframe tbody tr th {\n",
              "        vertical-align: top;\n",
              "    }\n",
              "\n",
              "    .dataframe thead th {\n",
              "        text-align: right;\n",
              "    }\n",
              "</style>\n",
              "<table border=\"1\" class=\"dataframe\">\n",
              "  <thead>\n",
              "    <tr style=\"text-align: right;\">\n",
              "      <th></th>\n",
              "      <th>rel diff</th>\n",
              "      <th>abs diff</th>\n",
              "      <th>pvalue</th>\n",
              "      <th>ci low</th>\n",
              "      <th>ci high</th>\n",
              "    </tr>\n",
              "  </thead>\n",
              "  <tbody>\n",
              "    <tr>\n",
              "      <th>0</th>\n",
              "      <td>0.022959</td>\n",
              "      <td>0.004354</td>\n",
              "      <td>0.131673</td>\n",
              "      <td>-0.00689</td>\n",
              "      <td>0.052807</td>\n",
              "    </tr>\n",
              "  </tbody>\n",
              "</table>\n",
              "</div>\n",
              "    <div class=\"colab-df-buttons\">\n",
              "\n",
              "  <div class=\"colab-df-container\">\n",
              "    <button class=\"colab-df-convert\" onclick=\"convertToInteractive('df-b4ef6185-0107-4a48-8a4a-b4802fc65dff')\"\n",
              "            title=\"Convert this dataframe to an interactive table.\"\n",
              "            style=\"display:none;\">\n",
              "\n",
              "  <svg xmlns=\"http://www.w3.org/2000/svg\" height=\"24px\" viewBox=\"0 -960 960 960\">\n",
              "    <path d=\"M120-120v-720h720v720H120Zm60-500h600v-160H180v160Zm220 220h160v-160H400v160Zm0 220h160v-160H400v160ZM180-400h160v-160H180v160Zm440 0h160v-160H620v160ZM180-180h160v-160H180v160Zm440 0h160v-160H620v160Z\"/>\n",
              "  </svg>\n",
              "    </button>\n",
              "\n",
              "  <style>\n",
              "    .colab-df-container {\n",
              "      display:flex;\n",
              "      gap: 12px;\n",
              "    }\n",
              "\n",
              "    .colab-df-convert {\n",
              "      background-color: #E8F0FE;\n",
              "      border: none;\n",
              "      border-radius: 50%;\n",
              "      cursor: pointer;\n",
              "      display: none;\n",
              "      fill: #1967D2;\n",
              "      height: 32px;\n",
              "      padding: 0 0 0 0;\n",
              "      width: 32px;\n",
              "    }\n",
              "\n",
              "    .colab-df-convert:hover {\n",
              "      background-color: #E2EBFA;\n",
              "      box-shadow: 0px 1px 2px rgba(60, 64, 67, 0.3), 0px 1px 3px 1px rgba(60, 64, 67, 0.15);\n",
              "      fill: #174EA6;\n",
              "    }\n",
              "\n",
              "    .colab-df-buttons div {\n",
              "      margin-bottom: 4px;\n",
              "    }\n",
              "\n",
              "    [theme=dark] .colab-df-convert {\n",
              "      background-color: #3B4455;\n",
              "      fill: #D2E3FC;\n",
              "    }\n",
              "\n",
              "    [theme=dark] .colab-df-convert:hover {\n",
              "      background-color: #434B5C;\n",
              "      box-shadow: 0px 1px 3px 1px rgba(0, 0, 0, 0.15);\n",
              "      filter: drop-shadow(0px 1px 2px rgba(0, 0, 0, 0.3));\n",
              "      fill: #FFFFFF;\n",
              "    }\n",
              "  </style>\n",
              "\n",
              "    <script>\n",
              "      const buttonEl =\n",
              "        document.querySelector('#df-b4ef6185-0107-4a48-8a4a-b4802fc65dff button.colab-df-convert');\n",
              "      buttonEl.style.display =\n",
              "        google.colab.kernel.accessAllowed ? 'block' : 'none';\n",
              "\n",
              "      async function convertToInteractive(key) {\n",
              "        const element = document.querySelector('#df-b4ef6185-0107-4a48-8a4a-b4802fc65dff');\n",
              "        const dataTable =\n",
              "          await google.colab.kernel.invokeFunction('convertToInteractive',\n",
              "                                                    [key], {});\n",
              "        if (!dataTable) return;\n",
              "\n",
              "        const docLinkHtml = 'Like what you see? Visit the ' +\n",
              "          '<a target=\"_blank\" href=https://colab.research.google.com/notebooks/data_table.ipynb>data table notebook</a>'\n",
              "          + ' to learn more about interactive tables.';\n",
              "        element.innerHTML = '';\n",
              "        dataTable['output_type'] = 'display_data';\n",
              "        await google.colab.output.renderOutput(dataTable, element);\n",
              "        const docLink = document.createElement('div');\n",
              "        docLink.innerHTML = docLinkHtml;\n",
              "        element.appendChild(docLink);\n",
              "      }\n",
              "    </script>\n",
              "  </div>\n",
              "\n",
              "    </div>\n",
              "  </div>\n"
            ]
          },
          "metadata": {},
          "execution_count": 26
        }
      ]
    },
    {
      "cell_type": "code",
      "source": [
        "metric = 'new_cancelled_listing'\n",
        "print(f\"Analysis of {metric}\")\n",
        "pd.DataFrame(calculate_results(df_ct, metric),\n",
        "             index=['rel diff','abs diff','pvalue','ci low','ci high']).T"
      ],
      "metadata": {
        "colab": {
          "base_uri": "https://localhost:8080/",
          "height": 98
        },
        "id": "wHhcQwvMXjKs",
        "outputId": "f552a8ce-3825-42d1-dbf9-640b579660d0"
      },
      "id": "wHhcQwvMXjKs",
      "execution_count": 27,
      "outputs": [
        {
          "output_type": "stream",
          "name": "stdout",
          "text": [
            "Analysis of new_cancelled_listing\n"
          ]
        },
        {
          "output_type": "execute_result",
          "data": {
            "text/plain": [
              "   rel diff  abs diff    pvalue    ci low   ci high\n",
              "0  0.002505  0.000024  0.973204 -0.143671  0.148682"
            ],
            "text/html": [
              "\n",
              "  <div id=\"df-ec3fa745-3440-4b16-be93-2ed1e5a0c426\" class=\"colab-df-container\">\n",
              "    <div>\n",
              "<style scoped>\n",
              "    .dataframe tbody tr th:only-of-type {\n",
              "        vertical-align: middle;\n",
              "    }\n",
              "\n",
              "    .dataframe tbody tr th {\n",
              "        vertical-align: top;\n",
              "    }\n",
              "\n",
              "    .dataframe thead th {\n",
              "        text-align: right;\n",
              "    }\n",
              "</style>\n",
              "<table border=\"1\" class=\"dataframe\">\n",
              "  <thead>\n",
              "    <tr style=\"text-align: right;\">\n",
              "      <th></th>\n",
              "      <th>rel diff</th>\n",
              "      <th>abs diff</th>\n",
              "      <th>pvalue</th>\n",
              "      <th>ci low</th>\n",
              "      <th>ci high</th>\n",
              "    </tr>\n",
              "  </thead>\n",
              "  <tbody>\n",
              "    <tr>\n",
              "      <th>0</th>\n",
              "      <td>0.002505</td>\n",
              "      <td>0.000024</td>\n",
              "      <td>0.973204</td>\n",
              "      <td>-0.143671</td>\n",
              "      <td>0.148682</td>\n",
              "    </tr>\n",
              "  </tbody>\n",
              "</table>\n",
              "</div>\n",
              "    <div class=\"colab-df-buttons\">\n",
              "\n",
              "  <div class=\"colab-df-container\">\n",
              "    <button class=\"colab-df-convert\" onclick=\"convertToInteractive('df-ec3fa745-3440-4b16-be93-2ed1e5a0c426')\"\n",
              "            title=\"Convert this dataframe to an interactive table.\"\n",
              "            style=\"display:none;\">\n",
              "\n",
              "  <svg xmlns=\"http://www.w3.org/2000/svg\" height=\"24px\" viewBox=\"0 -960 960 960\">\n",
              "    <path d=\"M120-120v-720h720v720H120Zm60-500h600v-160H180v160Zm220 220h160v-160H400v160Zm0 220h160v-160H400v160ZM180-400h160v-160H180v160Zm440 0h160v-160H620v160ZM180-180h160v-160H180v160Zm440 0h160v-160H620v160Z\"/>\n",
              "  </svg>\n",
              "    </button>\n",
              "\n",
              "  <style>\n",
              "    .colab-df-container {\n",
              "      display:flex;\n",
              "      gap: 12px;\n",
              "    }\n",
              "\n",
              "    .colab-df-convert {\n",
              "      background-color: #E8F0FE;\n",
              "      border: none;\n",
              "      border-radius: 50%;\n",
              "      cursor: pointer;\n",
              "      display: none;\n",
              "      fill: #1967D2;\n",
              "      height: 32px;\n",
              "      padding: 0 0 0 0;\n",
              "      width: 32px;\n",
              "    }\n",
              "\n",
              "    .colab-df-convert:hover {\n",
              "      background-color: #E2EBFA;\n",
              "      box-shadow: 0px 1px 2px rgba(60, 64, 67, 0.3), 0px 1px 3px 1px rgba(60, 64, 67, 0.15);\n",
              "      fill: #174EA6;\n",
              "    }\n",
              "\n",
              "    .colab-df-buttons div {\n",
              "      margin-bottom: 4px;\n",
              "    }\n",
              "\n",
              "    [theme=dark] .colab-df-convert {\n",
              "      background-color: #3B4455;\n",
              "      fill: #D2E3FC;\n",
              "    }\n",
              "\n",
              "    [theme=dark] .colab-df-convert:hover {\n",
              "      background-color: #434B5C;\n",
              "      box-shadow: 0px 1px 3px 1px rgba(0, 0, 0, 0.15);\n",
              "      filter: drop-shadow(0px 1px 2px rgba(0, 0, 0, 0.3));\n",
              "      fill: #FFFFFF;\n",
              "    }\n",
              "  </style>\n",
              "\n",
              "    <script>\n",
              "      const buttonEl =\n",
              "        document.querySelector('#df-ec3fa745-3440-4b16-be93-2ed1e5a0c426 button.colab-df-convert');\n",
              "      buttonEl.style.display =\n",
              "        google.colab.kernel.accessAllowed ? 'block' : 'none';\n",
              "\n",
              "      async function convertToInteractive(key) {\n",
              "        const element = document.querySelector('#df-ec3fa745-3440-4b16-be93-2ed1e5a0c426');\n",
              "        const dataTable =\n",
              "          await google.colab.kernel.invokeFunction('convertToInteractive',\n",
              "                                                    [key], {});\n",
              "        if (!dataTable) return;\n",
              "\n",
              "        const docLinkHtml = 'Like what you see? Visit the ' +\n",
              "          '<a target=\"_blank\" href=https://colab.research.google.com/notebooks/data_table.ipynb>data table notebook</a>'\n",
              "          + ' to learn more about interactive tables.';\n",
              "        element.innerHTML = '';\n",
              "        dataTable['output_type'] = 'display_data';\n",
              "        await google.colab.output.renderOutput(dataTable, element);\n",
              "        const docLink = document.createElement('div');\n",
              "        docLink.innerHTML = docLinkHtml;\n",
              "        element.appendChild(docLink);\n",
              "      }\n",
              "    </script>\n",
              "  </div>\n",
              "\n",
              "    </div>\n",
              "  </div>\n"
            ]
          },
          "metadata": {},
          "execution_count": 27
        }
      ]
    },
    {
      "cell_type": "markdown",
      "id": "ed0a66a5",
      "metadata": {
        "id": "ed0a66a5"
      },
      "source": [
        "#### Summary and recommendation"
      ]
    },
    {
      "cell_type": "markdown",
      "id": "134ba87e",
      "metadata": {
        "id": "134ba87e"
      },
      "source": [
        "Given the analysis you did above, what did you find and what do you recommend for next steps? Should we launch a variant? If yes, which one? If neither - any follow-up tests or analysis you recommend?"
      ]
    },
    {
      "cell_type": "markdown",
      "id": "5dc450df",
      "metadata": {
        "id": "5dc450df"
      },
      "source": [
        "**Results:**\n",
        "\n",
        "|**test** | **metric** | **rel-diff** | **p-val** | **ci-lo** | **ci-hi** |\n",
        "|-----------|---------|---------|--------|----|------|\n",
        "|C vs T1  | booked_listing    | -3.79%      |0.0117       | -6.74%      | -0.84%      |\n",
        "| |cancelled_listing | -12.51%                  | 0.0829       | -26.65%     | 1.63%       |\n",
        "||\n",
        "|C vs T2| booked_listing    |        2.3%             | 0.1316       | -0.69%      | 5.28%      |\n",
        "|| cancelled_listing | 0.25%                  | 0.9732      | -14.37%     | 14.87%       |\n",
        "||"
      ]
    },
    {
      "cell_type": "markdown",
      "source": [
        "**Recommendations:**\n",
        "\n",
        "- Launching the new algorithm in isolation is not advisable due to its significant negative impact on booked listings.\n",
        "\n",
        "- For the risk averse, I would not recommend launching both the new algorithm in combination with the checkbox since it does not meet our decision criteria of 3% SS uplift in NBL.\n",
        "\n",
        "- However, the confidence intervals are leaning towards a positive direction and since we know the algorithm in isolation has a negative effect, I would recommend setting up a new A/B test for just the checkbox feature."
      ],
      "metadata": {
        "id": "jf4ZOaIMYO2G"
      },
      "id": "jf4ZOaIMYO2G"
    },
    {
      "cell_type": "code",
      "source": [],
      "metadata": {
        "id": "L7u-t5nqZFCV"
      },
      "id": "L7u-t5nqZFCV",
      "execution_count": 27,
      "outputs": []
    }
  ],
  "metadata": {
    "kernelspec": {
      "display_name": "Python 3 (ipykernel)",
      "language": "python",
      "name": "python3"
    },
    "language_info": {
      "codemirror_mode": {
        "name": "ipython",
        "version": 3
      },
      "file_extension": ".py",
      "mimetype": "text/x-python",
      "name": "python",
      "nbconvert_exporter": "python",
      "pygments_lexer": "ipython3",
      "version": "3.10.7"
    },
    "colab": {
      "provenance": []
    }
  },
  "nbformat": 4,
  "nbformat_minor": 5
}